{
 "cells": [
  {
   "cell_type": "code",
   "execution_count": null,
   "metadata": {},
   "outputs": [],
   "source": [
    "%pip install clarifai-pyspark"
   ]
  },
  {
   "cell_type": "markdown",
   "metadata": {
    "application/vnd.databricks.v1+cell": {
     "cellMetadata": {},
     "inputWidgets": {},
     "nuid": "e324b745-65dc-4e9b-ac56-cc307dc32e20",
     "showTitle": false,
     "title": ""
    }
   },
   "source": [
    "# Testing ClarifaiPySpark SDK"
   ]
  },
  {
   "cell_type": "markdown",
   "metadata": {
    "application/vnd.databricks.v1+cell": {
     "cellMetadata": {},
     "inputWidgets": {},
     "nuid": "b49e60e6-14d5-41cf-98bf-c1d3bac0e326",
     "showTitle": false,
     "title": ""
    }
   },
   "source": [
    "### Getting Started"
   ]
  },
  {
   "cell_type": "code",
   "execution_count": null,
   "metadata": {
    "application/vnd.databricks.v1+cell": {
     "cellMetadata": {
      "byteLimit": 2048000,
      "rowLimit": 10000
     },
     "inputWidgets": {},
     "nuid": "71ae162d-45cc-44c4-bfc5-524cf979c5e2",
     "showTitle": false,
     "title": ""
    }
   },
   "outputs": [],
   "source": [
    "from clarifaipyspark.client import ClarifaiPySpark\n",
    "from pyspark.sql import SparkSession"
   ]
  },
  {
   "cell_type": "code",
   "execution_count": null,
   "metadata": {
    "application/vnd.databricks.v1+cell": {
     "cellMetadata": {
      "byteLimit": 2048000,
      "rowLimit": 10000
     },
     "inputWidgets": {},
     "nuid": "c6c40e27-74cc-400c-b287-ef4946ec9f13",
     "showTitle": false,
     "title": ""
    }
   },
   "outputs": [
    {
     "data": {
      "text/html": [
       "<pre style=\"white-space:pre;overflow-x:auto;line-height:normal;font-family:Menlo,'DejaVu Sans Mono',consolas,'Courier New',monospace\"><span style=\"color: #7fbfbf; text-decoration-color: #7fbfbf\">2023-12-15 09:35:51 </span><span style=\"color: #000080; text-decoration-color: #000080\">INFO    </span> INFO:py4j.clientserver:Received command c on object id p0          <a href=\"file:///databricks/spark/python/lib/py4j-0.10.9.7-src.zip/py4j/clientserver.py\" target=\"_blank\"><span style=\"color: #7f7f7f; text-decoration-color: #7f7f7f\">clientserver.py</span></a><span style=\"color: #7f7f7f; text-decoration-color: #7f7f7f\">:</span><a href=\"file:///databricks/spark/python/lib/py4j-0.10.9.7-src.zip/py4j/clientserver.py#575\" target=\"_blank\"><span style=\"color: #7f7f7f; text-decoration-color: #7f7f7f\">575</span></a>\n",
       "</pre>\n"
      ],
      "text/plain": [
       "\u001b[2;36m2023-12-15 09:35:51\u001b[0m\u001b[2;36m \u001b[0m\u001b[34mINFO    \u001b[0m INFO:py4j.clientserver:Received command c on object id p0          \u001b]8;id=482847;file:///databricks/spark/python/lib/py4j-0.10.9.7-src.zip/py4j/clientserver.py\u001b\\\u001b[2mclientserver.py\u001b[0m\u001b]8;;\u001b\\\u001b[2m:\u001b[0m\u001b]8;id=4919;file:///databricks/spark/python/lib/py4j-0.10.9.7-src.zip/py4j/clientserver.py#575\u001b\\\u001b[2m575\u001b[0m\u001b]8;;\u001b\\\n"
      ]
     },
     "metadata": {},
     "output_type": "display_data"
    }
   ],
   "source": [
    "CLARIFAI_PAT = dbutils.secrets.get(scope=\"clarifai\", key=\"clarifai-pat\")"
   ]
  },
  {
   "cell_type": "markdown",
   "metadata": {
    "application/vnd.databricks.v1+cell": {
     "cellMetadata": {
      "byteLimit": 2048000,
      "rowLimit": 10000
     },
     "inputWidgets": {},
     "nuid": "f1d7478c-e90a-4060-aeac-4fd9c302e147",
     "showTitle": false,
     "title": ""
    }
   },
   "source": [
    "### Creating ClarifaiPyspark object & creating/fetching image dataset from app"
   ]
  },
  {
   "cell_type": "code",
   "execution_count": null,
   "metadata": {
    "application/vnd.databricks.v1+cell": {
     "cellMetadata": {
      "byteLimit": 2048000,
      "rowLimit": 10000
     },
     "inputWidgets": {},
     "nuid": "278fbfb8-3a3c-4556-8066-f801c368f7fb",
     "showTitle": false,
     "title": ""
    }
   },
   "outputs": [
    {
     "data": {
      "text/html": [
       "<pre style=\"white-space:pre;overflow-x:auto;line-height:normal;font-family:Menlo,'DejaVu Sans Mono',consolas,'Courier New',monospace\"><span style=\"color: #7fbfbf; text-decoration-color: #7fbfbf\">2023-12-15 09:35:56 </span><span style=\"color: #000080; text-decoration-color: #000080\">INFO    </span> INFO:py4j.clientserver:Received command c on object id p0          <a href=\"file:///databricks/spark/python/lib/py4j-0.10.9.7-src.zip/py4j/clientserver.py\" target=\"_blank\"><span style=\"color: #7f7f7f; text-decoration-color: #7f7f7f\">clientserver.py</span></a><span style=\"color: #7f7f7f; text-decoration-color: #7f7f7f\">:</span><a href=\"file:///databricks/spark/python/lib/py4j-0.10.9.7-src.zip/py4j/clientserver.py#575\" target=\"_blank\"><span style=\"color: #7f7f7f; text-decoration-color: #7f7f7f\">575</span></a>\n",
       "</pre>\n"
      ],
      "text/plain": [
       "\u001b[2;36m2023-12-15 09:35:56\u001b[0m\u001b[2;36m \u001b[0m\u001b[34mINFO    \u001b[0m INFO:py4j.clientserver:Received command c on object id p0          \u001b]8;id=98778;file:///databricks/spark/python/lib/py4j-0.10.9.7-src.zip/py4j/clientserver.py\u001b\\\u001b[2mclientserver.py\u001b[0m\u001b]8;;\u001b\\\u001b[2m:\u001b[0m\u001b]8;id=207291;file:///databricks/spark/python/lib/py4j-0.10.9.7-src.zip/py4j/clientserver.py#575\u001b\\\u001b[2m575\u001b[0m\u001b]8;;\u001b\\\n"
      ]
     },
     "metadata": {},
     "output_type": "display_data"
    }
   ],
   "source": [
    "cspark_obj = ClarifaiPySpark(user_id='mansi_k', app_id='databricks_tester_img', pat=CLARIFAI_PAT)\n",
    "\n",
    "dataset_obj = cspark_obj.dataset(dataset_id='dataset1')"
   ]
  },
  {
   "cell_type": "markdown",
   "metadata": {
    "application/vnd.databricks.v1+cell": {
     "cellMetadata": {
      "byteLimit": 2048000,
      "rowLimit": 10000
     },
     "inputWidgets": {},
     "nuid": "76a4ffe7-3a47-42ad-84db-1126aacd9cb1",
     "showTitle": false,
     "title": ""
    }
   },
   "source": [
    "### Upload images from volume folder to Clarifai dataset"
   ]
  },
  {
   "cell_type": "code",
   "execution_count": null,
   "metadata": {
    "application/vnd.databricks.v1+cell": {
     "cellMetadata": {
      "byteLimit": 2048000,
      "rowLimit": 10000
     },
     "inputWidgets": {},
     "nuid": "d15b3001-8b49-498b-b7c3-60d775047671",
     "showTitle": false,
     "title": ""
    }
   },
   "outputs": [],
   "source": [
    "dataset_obj.upload_dataset_from_folder(folder_path='/Volumes/mansi_test/default/cat', input_type='image', labels=True)"
   ]
  },
  {
   "cell_type": "markdown",
   "metadata": {
    "application/vnd.databricks.v1+cell": {
     "cellMetadata": {
      "byteLimit": 2048000,
      "rowLimit": 10000
     },
     "inputWidgets": {},
     "nuid": "37067eee-62ff-484c-9748-e4a29ae8103c",
     "showTitle": false,
     "title": ""
    }
   },
   "source": [
    "### Fetching current inputs from image dataset"
   ]
  },
  {
   "cell_type": "code",
   "execution_count": null,
   "metadata": {
    "application/vnd.databricks.v1+cell": {
     "cellMetadata": {
      "byteLimit": 2048000,
      "rowLimit": 10000
     },
     "inputWidgets": {},
     "nuid": "4cca0e26-4d31-4252-9fa1-3a10300bf0f0",
     "showTitle": false,
     "title": ""
    }
   },
   "outputs": [
    {
     "data": {
      "text/html": [
       "<pre style=\"white-space:pre;overflow-x:auto;line-height:normal;font-family:Menlo,'DejaVu Sans Mono',consolas,'Courier New',monospace\"><span style=\"color: #7fbfbf; text-decoration-color: #7fbfbf\">                    </span><span style=\"color: #000080; text-decoration-color: #000080\">INFO    </span> INFO:py4j.clientserver:Received command c on object id p0          <a href=\"file:///databricks/spark/python/lib/py4j-0.10.9.7-src.zip/py4j/clientserver.py\" target=\"_blank\"><span style=\"color: #7f7f7f; text-decoration-color: #7f7f7f\">clientserver.py</span></a><span style=\"color: #7f7f7f; text-decoration-color: #7f7f7f\">:</span><a href=\"file:///databricks/spark/python/lib/py4j-0.10.9.7-src.zip/py4j/clientserver.py#575\" target=\"_blank\"><span style=\"color: #7f7f7f; text-decoration-color: #7f7f7f\">575</span></a>\n",
       "</pre>\n"
      ],
      "text/plain": [
       "\u001b[2;36m                   \u001b[0m\u001b[2;36m \u001b[0m\u001b[34mINFO    \u001b[0m INFO:py4j.clientserver:Received command c on object id p0          \u001b]8;id=996121;file:///databricks/spark/python/lib/py4j-0.10.9.7-src.zip/py4j/clientserver.py\u001b\\\u001b[2mclientserver.py\u001b[0m\u001b]8;;\u001b\\\u001b[2m:\u001b[0m\u001b]8;id=562137;file:///databricks/spark/python/lib/py4j-0.10.9.7-src.zip/py4j/clientserver.py#575\u001b\\\u001b[2m575\u001b[0m\u001b]8;;\u001b\\\n"
      ]
     },
     "metadata": {},
     "output_type": "display_data"
    },
    {
     "data": {
      "text/plain": [
       "[id: \"img31\"\n",
       " data {\n",
       "   image {\n",
       "     url: \"https://mymodernmet.com/wp/wp-content/uploads/2023/01/how-to-draw-a-duck-fb-thumbnail.jpg\"\n",
       "     hosted {\n",
       "       prefix: \"https://data.clarifai.com\"\n",
       "       suffix: \"users/mansi_k/apps/databricks_tester_img/inputs/image/2d7a8f8aeb24b42bdae2dce75fdecb6d\"\n",
       "       sizes: \"orig\"\n",
       "       sizes: \"tiny\"\n",
       "       sizes: \"small\"\n",
       "       sizes: \"large\"\n",
       "       crossorigin: \"use-credentials\"\n",
       "     }\n",
       "     image_info {\n",
       "       width: 1200\n",
       "       height: 630\n",
       "       format: \"JPEG\"\n",
       "       color_mode: \"YUV\"\n",
       "     }\n",
       "   }\n",
       "   concepts {\n",
       "     id: \"id-duck\"\n",
       "     name: \"duck\"\n",
       "     value: 1\n",
       "     app_id: \"databricks_tester_img\"\n",
       "   }\n",
       " }\n",
       " created_at {\n",
       "   seconds: 1702316868\n",
       "   nanos: 297862000\n",
       " }\n",
       " modified_at {\n",
       "   seconds: 1702316869\n",
       "   nanos: 507025000\n",
       " }\n",
       " status {\n",
       "   code: INPUT_DOWNLOAD_SUCCESS\n",
       "   description: \"Download complete\"\n",
       " },\n",
       " id: \"dataset1-train-3647386\"\n",
       " data {\n",
       "   image {\n",
       "     url: \"https://data.clarifai.com/orig/users/mansi_k/apps/databricks_tester_img/inputs/image/1249d3d8c8157d1b2dcdb2561175374a\"\n",
       "     hosted {\n",
       "       prefix: \"https://data.clarifai.com\"\n",
       "       suffix: \"users/mansi_k/apps/databricks_tester_img/inputs/image/1249d3d8c8157d1b2dcdb2561175374a\"\n",
       "       sizes: \"orig\"\n",
       "       sizes: \"tiny\"\n",
       "       sizes: \"small\"\n",
       "       sizes: \"large\"\n",
       "       crossorigin: \"use-credentials\"\n",
       "     }\n",
       "     image_info {\n",
       "       width: 512\n",
       "       height: 288\n",
       "       format: \"JPEG\"\n",
       "       color_mode: \"YUV\"\n",
       "     }\n",
       "   }\n",
       "   concepts {\n",
       "     id: \"id-hamburger\"\n",
       "     name: \"hamburger\"\n",
       "     value: 1\n",
       "     app_id: \"databricks_tester_img\"\n",
       "   }\n",
       " }\n",
       " created_at {\n",
       "   seconds: 1700218110\n",
       "   nanos: 681462000\n",
       " }\n",
       " modified_at {\n",
       "   seconds: 1700218111\n",
       "   nanos: 623206000\n",
       " }\n",
       " status {\n",
       "   code: INPUT_DOWNLOAD_SUCCESS\n",
       "   description: \"Download complete\"\n",
       " },\n",
       " id: \"dataset1-train-3520891\"\n",
       " data {\n",
       "   image {\n",
       "     url: \"https://data.clarifai.com/orig/users/mansi_k/apps/databricks_tester_img/inputs/image/2b6cb268add3efb714e702699ff54ed9\"\n",
       "     hosted {\n",
       "       prefix: \"https://data.clarifai.com\"\n",
       "       suffix: \"users/mansi_k/apps/databricks_tester_img/inputs/image/2b6cb268add3efb714e702699ff54ed9\"\n",
       "       sizes: \"orig\"\n",
       "       sizes: \"tiny\"\n",
       "       sizes: \"small\"\n",
       "       sizes: \"large\"\n",
       "       crossorigin: \"use-credentials\"\n",
       "     }\n",
       "     image_info {\n",
       "       width: 512\n",
       "       height: 512\n",
       "       format: \"JPEG\"\n",
       "       color_mode: \"YUV\"\n",
       "     }\n",
       "   }\n",
       "   concepts {\n",
       "     id: \"id-ramen\"\n",
       "     name: \"ramen\"\n",
       "     value: 1\n",
       "     app_id: \"databricks_tester_img\"\n",
       "   }\n",
       " }\n",
       " created_at {\n",
       "   seconds: 1700218110\n",
       "   nanos: 681462000\n",
       " }\n",
       " modified_at {\n",
       "   seconds: 1700218111\n",
       "   nanos: 623206000\n",
       " }\n",
       " status {\n",
       "   code: INPUT_DOWNLOAD_SUCCESS\n",
       "   description: \"Download complete\"\n",
       " },\n",
       " id: \"dataset1-train-3385808\"\n",
       " data {\n",
       "   image {\n",
       "     url: \"https://data.clarifai.com/orig/users/mansi_k/apps/databricks_tester_img/inputs/image/5835a13c322548a67038ca2d191dc7bf\"\n",
       "     hosted {\n",
       "       prefix: \"https://data.clarifai.com\"\n",
       "       suffix: \"users/mansi_k/apps/databricks_tester_img/inputs/image/5835a13c322548a67038ca2d191dc7bf\"\n",
       "       sizes: \"orig\"\n",
       "       sizes: \"tiny\"\n",
       "       sizes: \"small\"\n",
       "       sizes: \"large\"\n",
       "       crossorigin: \"use-credentials\"\n",
       "     }\n",
       "     image_info {\n",
       "       width: 512\n",
       "       height: 384\n",
       "       format: \"JPEG\"\n",
       "       color_mode: \"YUV\"\n",
       "     }\n",
       "   }\n",
       "   concepts {\n",
       "     id: \"id-hamburger\"\n",
       "     name: \"hamburger\"\n",
       "     value: 1\n",
       "     app_id: \"databricks_tester_img\"\n",
       "   }\n",
       " }\n",
       " created_at {\n",
       "   seconds: 1700218110\n",
       "   nanos: 681462000\n",
       " }\n",
       " modified_at {\n",
       "   seconds: 1700218111\n",
       "   nanos: 623206000\n",
       " }\n",
       " status {\n",
       "   code: INPUT_DOWNLOAD_SUCCESS\n",
       "   description: \"Download complete\"\n",
       " },\n",
       " id: \"dataset1-train-2427642\"\n",
       " data {\n",
       "   image {\n",
       "     url: \"https://data.clarifai.com/orig/users/mansi_k/apps/databricks_tester_img/inputs/image/423d388febb5576e5b7fa55f00511b5c\"\n",
       "     hosted {\n",
       "       prefix: \"https://data.clarifai.com\"\n",
       "       suffix: \"users/mansi_k/apps/databricks_tester_img/inputs/image/423d388febb5576e5b7fa55f00511b5c\"\n",
       "       sizes: \"orig\"\n",
       "       sizes: \"tiny\"\n",
       "       sizes: \"small\"\n",
       "       sizes: \"large\"\n",
       "       crossorigin: \"use-credentials\"\n",
       "     }\n",
       "     image_info {\n",
       "       width: 512\n",
       "       height: 384\n",
       "       format: \"JPEG\"\n",
       "       color_mode: \"YUV\"\n",
       "     }\n",
       "   }\n",
       "   concepts {\n",
       "     id: \"id-ramen\"\n",
       "     name: \"ramen\"\n",
       "     value: 1\n",
       "     app_id: \"databricks_tester_img\"\n",
       "   }\n",
       " }\n",
       " created_at {\n",
       "   seconds: 1700218110\n",
       "   nanos: 681462000\n",
       " }\n",
       " modified_at {\n",
       "   seconds: 1700218111\n",
       "   nanos: 623206000\n",
       " }\n",
       " status {\n",
       "   code: INPUT_DOWNLOAD_SUCCESS\n",
       "   description: \"Download complete\"\n",
       " },\n",
       " id: \"img11\"\n",
       " data {\n",
       "   image {\n",
       "     url: \"https://img.freepik.com/free-photo/isolated-happy-smiling-dog-white-background-portrait-4_1562-693.jpg\"\n",
       "     hosted {\n",
       "       prefix: \"https://data.clarifai.com\"\n",
       "       suffix: \"users/mansi_k/apps/databricks_tester_img/inputs/image/975f6c972d9029f9431e1e18274b121d\"\n",
       "       sizes: \"orig\"\n",
       "       sizes: \"tiny\"\n",
       "       sizes: \"small\"\n",
       "       sizes: \"large\"\n",
       "       crossorigin: \"use-credentials\"\n",
       "     }\n",
       "     image_info {\n",
       "       width: 626\n",
       "       height: 417\n",
       "       format: \"JPEG\"\n",
       "       color_mode: \"YUV\"\n",
       "     }\n",
       "   }\n",
       "   concepts {\n",
       "     id: \"id-dog\"\n",
       "     name: \"dog\"\n",
       "     value: 1\n",
       "     app_id: \"databricks_tester_img\"\n",
       "   }\n",
       " }\n",
       " created_at {\n",
       "   seconds: 1700218083\n",
       "   nanos: 300441000\n",
       " }\n",
       " modified_at {\n",
       "   seconds: 1700218084\n",
       "   nanos: 397279000\n",
       " }\n",
       " status {\n",
       "   code: INPUT_DOWNLOAD_SUCCESS\n",
       "   description: \"Download complete\"\n",
       " },\n",
       " id: \"img21\"\n",
       " data {\n",
       "   image {\n",
       "     url: \"https://images.unsplash.com/photo-1563409236302-8442b5e644df?auto=format&fit=crop&q=80&w=1000&ixlib=rb-4.0.3&ixid=M3wxMjA3fDB8MHxzZWFyY2h8M3x8ZHVja3xlbnwwfHwwfHx8MA%3D%3D\"\n",
       "     hosted {\n",
       "       prefix: \"https://data.clarifai.com\"\n",
       "       suffix: \"users/mansi_k/apps/databricks_tester_img/inputs/image/6c30aa65cf64b63eba8bca9a1f6b8724\"\n",
       "       sizes: \"orig\"\n",
       "       sizes: \"tiny\"\n",
       "       sizes: \"small\"\n",
       "       sizes: \"large\"\n",
       "       crossorigin: \"use-credentials\"\n",
       "     }\n",
       "     image_info {\n",
       "       width: 1000\n",
       "       height: 1498\n",
       "       format: \"JPEG\"\n",
       "       color_mode: \"YUV\"\n",
       "     }\n",
       "   }\n",
       "   concepts {\n",
       "     id: \"id-duck\"\n",
       "     name: \"duck\"\n",
       "     value: 1\n",
       "     app_id: \"databricks_tester_img\"\n",
       "   }\n",
       " }\n",
       " created_at {\n",
       "   seconds: 1700218083\n",
       "   nanos: 300441000\n",
       " }\n",
       " modified_at {\n",
       "   seconds: 1700218084\n",
       "   nanos: 397279000\n",
       " }\n",
       " status {\n",
       "   code: INPUT_DOWNLOAD_SUCCESS\n",
       "   description: \"Download complete\"\n",
       " },\n",
       " id: \"c6\"\n",
       " data {\n",
       "   image {\n",
       "     url: \"https://data.clarifai.com/orig/users/mansi_k/apps/databricks_tester_img/inputs/image/9aad344c32108b9c7c1c54e58a3b90e3\"\n",
       "     hosted {\n",
       "       prefix: \"https://data.clarifai.com\"\n",
       "       suffix: \"users/mansi_k/apps/databricks_tester_img/inputs/image/9aad344c32108b9c7c1c54e58a3b90e3\"\n",
       "       sizes: \"orig\"\n",
       "       sizes: \"tiny\"\n",
       "       sizes: \"small\"\n",
       "       sizes: \"large\"\n",
       "       crossorigin: \"use-credentials\"\n",
       "     }\n",
       "     image_info {\n",
       "       width: 612\n",
       "       height: 640\n",
       "       format: \"JPEG\"\n",
       "       color_mode: \"YUV\"\n",
       "     }\n",
       "   }\n",
       "   concepts {\n",
       "     id: \"id-cat\"\n",
       "     name: \"cat\"\n",
       "     value: 1\n",
       "     app_id: \"databricks_tester_img\"\n",
       "   }\n",
       " }\n",
       " created_at {\n",
       "   seconds: 1700217667\n",
       "   nanos: 95690000\n",
       " }\n",
       " modified_at {\n",
       "   seconds: 1700217668\n",
       "   nanos: 751659000\n",
       " }\n",
       " status {\n",
       "   code: INPUT_DOWNLOAD_SUCCESS\n",
       "   description: \"Download complete\"\n",
       " },\n",
       " id: \"c8\"\n",
       " data {\n",
       "   image {\n",
       "     url: \"https://data.clarifai.com/orig/users/mansi_k/apps/databricks_tester_img/inputs/image/1a56dcd4d97934cb2736c1ac3877e373\"\n",
       "     hosted {\n",
       "       prefix: \"https://data.clarifai.com\"\n",
       "       suffix: \"users/mansi_k/apps/databricks_tester_img/inputs/image/1a56dcd4d97934cb2736c1ac3877e373\"\n",
       "       sizes: \"orig\"\n",
       "       sizes: \"tiny\"\n",
       "       sizes: \"small\"\n",
       "       sizes: \"large\"\n",
       "       crossorigin: \"use-credentials\"\n",
       "     }\n",
       "     image_info {\n",
       "       width: 930\n",
       "       height: 620\n",
       "       format: \"WebP\"\n",
       "       color_mode: \"YUV\"\n",
       "     }\n",
       "   }\n",
       "   concepts {\n",
       "     id: \"id-cat\"\n",
       "     name: \"cat\"\n",
       "     value: 1\n",
       "     app_id: \"databricks_tester_img\"\n",
       "   }\n",
       " }\n",
       " created_at {\n",
       "   seconds: 1700217667\n",
       "   nanos: 95690000\n",
       " }\n",
       " modified_at {\n",
       "   seconds: 1700217668\n",
       "   nanos: 751659000\n",
       " }\n",
       " status {\n",
       "   code: INPUT_DOWNLOAD_SUCCESS\n",
       "   description: \"Download complete\"\n",
       " },\n",
       " id: \"c7\"\n",
       " data {\n",
       "   image {\n",
       "     url: \"https://data.clarifai.com/orig/users/mansi_k/apps/databricks_tester_img/inputs/image/042dc758e67c807683d8f7cb3a064fd3\"\n",
       "     hosted {\n",
       "       prefix: \"https://data.clarifai.com\"\n",
       "       suffix: \"users/mansi_k/apps/databricks_tester_img/inputs/image/042dc758e67c807683d8f7cb3a064fd3\"\n",
       "       sizes: \"orig\"\n",
       "       sizes: \"tiny\"\n",
       "       sizes: \"small\"\n",
       "       sizes: \"large\"\n",
       "       crossorigin: \"use-credentials\"\n",
       "     }\n",
       "     image_info {\n",
       "       width: 540\n",
       "       height: 360\n",
       "       format: \"JPEG\"\n",
       "       color_mode: \"YUV\"\n",
       "     }\n",
       "   }\n",
       "   concepts {\n",
       "     id: \"id-cat\"\n",
       "     name: \"cat\"\n",
       "     value: 1\n",
       "     app_id: \"databricks_tester_img\"\n",
       "   }\n",
       " }\n",
       " created_at {\n",
       "   seconds: 1700217667\n",
       "   nanos: 95690000\n",
       " }\n",
       " modified_at {\n",
       "   seconds: 1700217668\n",
       "   nanos: 751659000\n",
       " }\n",
       " status {\n",
       "   code: INPUT_DOWNLOAD_SUCCESS\n",
       "   description: \"Download complete\"\n",
       " },\n",
       " id: \"c9\"\n",
       " data {\n",
       "   image {\n",
       "     url: \"https://data.clarifai.com/orig/users/mansi_k/apps/databricks_tester_img/inputs/image/b88d83dd8fb9f34011ce441bd0cb823b\"\n",
       "     hosted {\n",
       "       prefix: \"https://data.clarifai.com\"\n",
       "       suffix: \"users/mansi_k/apps/databricks_tester_img/inputs/image/b88d83dd8fb9f34011ce441bd0cb823b\"\n",
       "       sizes: \"orig\"\n",
       "       sizes: \"tiny\"\n",
       "       sizes: \"small\"\n",
       "       sizes: \"large\"\n",
       "       crossorigin: \"use-credentials\"\n",
       "     }\n",
       "     image_info {\n",
       "       width: 1200\n",
       "       height: 834\n",
       "       format: \"JPEG\"\n",
       "       color_mode: \"YUV\"\n",
       "     }\n",
       "   }\n",
       "   concepts {\n",
       "     id: \"id-cat\"\n",
       "     name: \"cat\"\n",
       "     value: 1\n",
       "     app_id: \"databricks_tester_img\"\n",
       "   }\n",
       " }\n",
       " created_at {\n",
       "   seconds: 1700217667\n",
       "   nanos: 95690000\n",
       " }\n",
       " modified_at {\n",
       "   seconds: 1700217668\n",
       "   nanos: 751659000\n",
       " }\n",
       " status {\n",
       "   code: INPUT_DOWNLOAD_SUCCESS\n",
       "   description: \"Download complete\"\n",
       " },\n",
       " id: \"c4\"\n",
       " data {\n",
       "   image {\n",
       "     url: \"https://data.clarifai.com/orig/users/mansi_k/apps/databricks_tester_img/inputs/image/55889a69788a8ff9a4aab1e457f7420f\"\n",
       "     hosted {\n",
       "       prefix: \"https://data.clarifai.com\"\n",
       "       suffix: \"users/mansi_k/apps/databricks_tester_img/inputs/image/55889a69788a8ff9a4aab1e457f7420f\"\n",
       "       sizes: \"orig\"\n",
       "       sizes: \"tiny\"\n",
       "       sizes: \"small\"\n",
       "       sizes: \"large\"\n",
       "       crossorigin: \"use-credentials\"\n",
       "     }\n",
       "     image_info {\n",
       "       width: 1600\n",
       "       height: 1435\n",
       "       format: \"WebP\"\n",
       "       color_mode: \"YUV\"\n",
       "     }\n",
       "   }\n",
       "   concepts {\n",
       "     id: \"id-cat\"\n",
       "     name: \"cat\"\n",
       "     value: 1\n",
       "     app_id: \"databricks_tester_img\"\n",
       "   }\n",
       " }\n",
       " created_at {\n",
       "   seconds: 1700217667\n",
       "   nanos: 95690000\n",
       " }\n",
       " modified_at {\n",
       "   seconds: 1700217668\n",
       "   nanos: 751659000\n",
       " }\n",
       " status {\n",
       "   code: INPUT_DOWNLOAD_SUCCESS\n",
       "   description: \"Download complete\"\n",
       " },\n",
       " id: \"c5\"\n",
       " data {\n",
       "   image {\n",
       "     url: \"https://data.clarifai.com/orig/users/mansi_k/apps/databricks_tester_img/inputs/image/e91483b17642cc4540cfb97afad3196b\"\n",
       "     hosted {\n",
       "       prefix: \"https://data.clarifai.com\"\n",
       "       suffix: \"users/mansi_k/apps/databricks_tester_img/inputs/image/e91483b17642cc4540cfb97afad3196b\"\n",
       "       sizes: \"orig\"\n",
       "       sizes: \"tiny\"\n",
       "       sizes: \"small\"\n",
       "       sizes: \"large\"\n",
       "       crossorigin: \"use-credentials\"\n",
       "     }\n",
       "     image_info {\n",
       "       width: 500\n",
       "       height: 473\n",
       "       format: \"JPEG\"\n",
       "       color_mode: \"YUV\"\n",
       "     }\n",
       "   }\n",
       "   concepts {\n",
       "     id: \"id-cat\"\n",
       "     name: \"cat\"\n",
       "     value: 1\n",
       "     app_id: \"databricks_tester_img\"\n",
       "   }\n",
       " }\n",
       " created_at {\n",
       "   seconds: 1700217667\n",
       "   nanos: 95690000\n",
       " }\n",
       " modified_at {\n",
       "   seconds: 1700217668\n",
       "   nanos: 751659000\n",
       " }\n",
       " status {\n",
       "   code: INPUT_DOWNLOAD_SUCCESS\n",
       "   description: \"Download complete\"\n",
       " },\n",
       " id: \"c10\"\n",
       " data {\n",
       "   image {\n",
       "     url: \"https://data.clarifai.com/orig/users/mansi_k/apps/databricks_tester_img/inputs/image/c1b5a9392f89cf42deca348758a63c79\"\n",
       "     hosted {\n",
       "       prefix: \"https://data.clarifai.com\"\n",
       "       suffix: \"users/mansi_k/apps/databricks_tester_img/inputs/image/c1b5a9392f89cf42deca348758a63c79\"\n",
       "       sizes: \"orig\"\n",
       "       sizes: \"tiny\"\n",
       "       sizes: \"small\"\n",
       "       sizes: \"large\"\n",
       "       crossorigin: \"use-credentials\"\n",
       "     }\n",
       "     image_info {\n",
       "       width: 1000\n",
       "       height: 665\n",
       "       format: \"JPEG\"\n",
       "       color_mode: \"YUV\"\n",
       "     }\n",
       "   }\n",
       "   concepts {\n",
       "     id: \"id-cat\"\n",
       "     name: \"cat\"\n",
       "     value: 1\n",
       "     app_id: \"databricks_tester_img\"\n",
       "   }\n",
       " }\n",
       " created_at {\n",
       "   seconds: 1698049660\n",
       "   nanos: 961070000\n",
       " }\n",
       " modified_at {\n",
       "   seconds: 1698049664\n",
       "   nanos: 89517000\n",
       " }\n",
       " status {\n",
       "   code: INPUT_DOWNLOAD_SUCCESS\n",
       "   description: \"Download complete\"\n",
       " },\n",
       " id: \"c3\"\n",
       " data {\n",
       "   image {\n",
       "     url: \"https://data.clarifai.com/orig/users/mansi_k/apps/databricks_tester_img/inputs/image/737ab81969b3ce8dee6e4e578cfcb7f7\"\n",
       "     hosted {\n",
       "       prefix: \"https://data.clarifai.com\"\n",
       "       suffix: \"users/mansi_k/apps/databricks_tester_img/inputs/image/737ab81969b3ce8dee6e4e578cfcb7f7\"\n",
       "       sizes: \"orig\"\n",
       "       sizes: \"tiny\"\n",
       "       sizes: \"small\"\n",
       "       sizes: \"large\"\n",
       "       crossorigin: \"use-credentials\"\n",
       "     }\n",
       "     image_info {\n",
       "       width: 1200\n",
       "       height: 901\n",
       "       format: \"JPEG\"\n",
       "       color_mode: \"YUV\"\n",
       "     }\n",
       "   }\n",
       "   concepts {\n",
       "     id: \"id-cat\"\n",
       "     name: \"cat\"\n",
       "     value: 1\n",
       "     app_id: \"databricks_tester_img\"\n",
       "   }\n",
       " }\n",
       " created_at {\n",
       "   seconds: 1698049660\n",
       "   nanos: 961070000\n",
       " }\n",
       " modified_at {\n",
       "   seconds: 1698049664\n",
       "   nanos: 89517000\n",
       " }\n",
       " status {\n",
       "   code: INPUT_DOWNLOAD_SUCCESS\n",
       "   description: \"Download complete\"\n",
       " },\n",
       " id: \"c1\"\n",
       " data {\n",
       "   image {\n",
       "     url: \"https://data.clarifai.com/orig/users/mansi_k/apps/databricks_tester_img/inputs/image/4137614e89b636f6afaf749bf7dcea6f\"\n",
       "     hosted {\n",
       "       prefix: \"https://data.clarifai.com\"\n",
       "       suffix: \"users/mansi_k/apps/databricks_tester_img/inputs/image/4137614e89b636f6afaf749bf7dcea6f\"\n",
       "       sizes: \"orig\"\n",
       "       sizes: \"tiny\"\n",
       "       sizes: \"small\"\n",
       "       sizes: \"large\"\n",
       "       crossorigin: \"use-credentials\"\n",
       "     }\n",
       "     image_info {\n",
       "       width: 736\n",
       "       height: 566\n",
       "       format: \"JPEG\"\n",
       "       color_mode: \"YUV\"\n",
       "     }\n",
       "   }\n",
       "   concepts {\n",
       "     id: \"id-cat\"\n",
       "     name: \"cat\"\n",
       "     value: 1\n",
       "     app_id: \"databricks_tester_img\"\n",
       "   }\n",
       " }\n",
       " created_at {\n",
       "   seconds: 1698049660\n",
       "   nanos: 961070000\n",
       " }\n",
       " modified_at {\n",
       "   seconds: 1698049664\n",
       "   nanos: 89517000\n",
       " }\n",
       " status {\n",
       "   code: INPUT_DOWNLOAD_SUCCESS\n",
       "   description: \"Download complete\"\n",
       " },\n",
       " id: \"c11\"\n",
       " data {\n",
       "   image {\n",
       "     url: \"https://data.clarifai.com/orig/users/mansi_k/apps/databricks_tester_img/inputs/image/009e353544134aa65d29c20fa2922e63\"\n",
       "     hosted {\n",
       "       prefix: \"https://data.clarifai.com\"\n",
       "       suffix: \"users/mansi_k/apps/databricks_tester_img/inputs/image/009e353544134aa65d29c20fa2922e63\"\n",
       "       sizes: \"orig\"\n",
       "       sizes: \"tiny\"\n",
       "       sizes: \"small\"\n",
       "       sizes: \"large\"\n",
       "       crossorigin: \"use-credentials\"\n",
       "     }\n",
       "     image_info {\n",
       "       width: 1200\n",
       "       height: 1200\n",
       "       format: \"JPEG\"\n",
       "       color_mode: \"YUV\"\n",
       "     }\n",
       "   }\n",
       "   concepts {\n",
       "     id: \"id-cat\"\n",
       "     name: \"cat\"\n",
       "     value: 1\n",
       "     app_id: \"databricks_tester_img\"\n",
       "   }\n",
       " }\n",
       " created_at {\n",
       "   seconds: 1698049660\n",
       "   nanos: 961070000\n",
       " }\n",
       " modified_at {\n",
       "   seconds: 1698049664\n",
       "   nanos: 89517000\n",
       " }\n",
       " status {\n",
       "   code: INPUT_DOWNLOAD_SUCCESS\n",
       "   description: \"Download complete\"\n",
       " },\n",
       " id: \"c2\"\n",
       " data {\n",
       "   image {\n",
       "     url: \"https://data.clarifai.com/orig/users/mansi_k/apps/databricks_tester_img/inputs/image/6e2a3ada6f10f0b4eb2f1e851b930c1b\"\n",
       "     hosted {\n",
       "       prefix: \"https://data.clarifai.com\"\n",
       "       suffix: \"users/mansi_k/apps/databricks_tester_img/inputs/image/6e2a3ada6f10f0b4eb2f1e851b930c1b\"\n",
       "       sizes: \"orig\"\n",
       "       sizes: \"tiny\"\n",
       "       sizes: \"small\"\n",
       "       sizes: \"large\"\n",
       "       crossorigin: \"use-credentials\"\n",
       "     }\n",
       "     image_info {\n",
       "       width: 1500\n",
       "       height: 1000\n",
       "       format: \"JPEG\"\n",
       "       color_mode: \"YUV\"\n",
       "     }\n",
       "   }\n",
       "   concepts {\n",
       "     id: \"id-cat\"\n",
       "     name: \"cat\"\n",
       "     value: 1\n",
       "     app_id: \"databricks_tester_img\"\n",
       "   }\n",
       " }\n",
       " created_at {\n",
       "   seconds: 1698049660\n",
       "   nanos: 961070000\n",
       " }\n",
       " modified_at {\n",
       "   seconds: 1698049664\n",
       "   nanos: 89517000\n",
       " }\n",
       " status {\n",
       "   code: INPUT_DOWNLOAD_SUCCESS\n",
       "   description: \"Download complete\"\n",
       " }]"
      ]
     },
     "execution_count": 13,
     "metadata": {},
     "output_type": "execute_result"
    }
   ],
   "source": [
    "my_inputs = list(dataset_obj.list_inputs(input_type='image'))\n",
    "my_inputs"
   ]
  },
  {
   "cell_type": "markdown",
   "metadata": {
    "application/vnd.databricks.v1+cell": {
     "cellMetadata": {
      "byteLimit": 2048000,
      "rowLimit": 10000
     },
     "inputWidgets": {},
     "nuid": "522a228a-52dd-417e-b02c-fa896e7833ad",
     "showTitle": false,
     "title": ""
    }
   },
   "source": [
    "### Export image annotations to spark dataframe"
   ]
  },
  {
   "cell_type": "code",
   "execution_count": null,
   "metadata": {
    "application/vnd.databricks.v1+cell": {
     "cellMetadata": {
      "byteLimit": 2048000,
      "rowLimit": 10000
     },
     "inputWidgets": {},
     "nuid": "d61eedc2-2488-499a-a367-a943bc692062",
     "showTitle": false,
     "title": ""
    }
   },
   "outputs": [
    {
     "data": {
      "text/html": [
       "<pre style=\"white-space:pre;overflow-x:auto;line-height:normal;font-family:Menlo,'DejaVu Sans Mono',consolas,'Courier New',monospace\"><span style=\"color: #7fbfbf; text-decoration-color: #7fbfbf\">2023-12-15 09:36:07 </span><span style=\"color: #000080; text-decoration-color: #000080\">INFO    </span> INFO:py4j.clientserver:Received command c on object id p0          <a href=\"file:///databricks/spark/python/lib/py4j-0.10.9.7-src.zip/py4j/clientserver.py\" target=\"_blank\"><span style=\"color: #7f7f7f; text-decoration-color: #7f7f7f\">clientserver.py</span></a><span style=\"color: #7f7f7f; text-decoration-color: #7f7f7f\">:</span><a href=\"file:///databricks/spark/python/lib/py4j-0.10.9.7-src.zip/py4j/clientserver.py#575\" target=\"_blank\"><span style=\"color: #7f7f7f; text-decoration-color: #7f7f7f\">575</span></a>\n",
       "</pre>\n"
      ],
      "text/plain": [
       "\u001b[2;36m2023-12-15 09:36:07\u001b[0m\u001b[2;36m \u001b[0m\u001b[34mINFO    \u001b[0m INFO:py4j.clientserver:Received command c on object id p0          \u001b]8;id=445298;file:///databricks/spark/python/lib/py4j-0.10.9.7-src.zip/py4j/clientserver.py\u001b\\\u001b[2mclientserver.py\u001b[0m\u001b]8;;\u001b\\\u001b[2m:\u001b[0m\u001b]8;id=139856;file:///databricks/spark/python/lib/py4j-0.10.9.7-src.zip/py4j/clientserver.py#575\u001b\\\u001b[2m575\u001b[0m\u001b]8;;\u001b\\\n"
      ]
     },
     "metadata": {},
     "output_type": "display_data"
    },
    {
     "data": {
      "text/plain": [
       "DataFrame[annotation: string, annotation_created_at: string, annotation_id: string, annotation_modified_at: string, annotation_user_id: string, input_id: string]"
      ]
     },
     "execution_count": 7,
     "metadata": {},
     "output_type": "execute_result"
    }
   ],
   "source": [
    "annot_df = dataset_obj.export_annotations_to_dataframe()\n",
    "annot_df"
   ]
  },
  {
   "cell_type": "markdown",
   "metadata": {
    "application/vnd.databricks.v1+cell": {
     "cellMetadata": {
      "byteLimit": 2048000,
      "rowLimit": 10000
     },
     "inputWidgets": {},
     "nuid": "228872b2-c1d2-4058-a92c-f81b23d48b47",
     "showTitle": false,
     "title": ""
    }
   },
   "source": [
    "### Write annotations dataframe to volume as delta table"
   ]
  },
  {
   "cell_type": "code",
   "execution_count": null,
   "metadata": {
    "application/vnd.databricks.v1+cell": {
     "cellMetadata": {
      "byteLimit": 2048000,
      "rowLimit": 10000
     },
     "inputWidgets": {},
     "nuid": "60b3f2dc-3e02-41ce-b0bd-1eedb7db176a",
     "showTitle": false,
     "title": ""
    }
   },
   "outputs": [
    {
     "data": {
      "text/html": [
       "<pre style=\"white-space:pre;overflow-x:auto;line-height:normal;font-family:Menlo,'DejaVu Sans Mono',consolas,'Courier New',monospace\"><span style=\"color: #7fbfbf; text-decoration-color: #7fbfbf\">2023-12-15 09:36:18 </span><span style=\"color: #000080; text-decoration-color: #000080\">INFO    </span> INFO:py4j.clientserver:Received command c on object id p0          <a href=\"file:///databricks/spark/python/lib/py4j-0.10.9.7-src.zip/py4j/clientserver.py\" target=\"_blank\"><span style=\"color: #7f7f7f; text-decoration-color: #7f7f7f\">clientserver.py</span></a><span style=\"color: #7f7f7f; text-decoration-color: #7f7f7f\">:</span><a href=\"file:///databricks/spark/python/lib/py4j-0.10.9.7-src.zip/py4j/clientserver.py#575\" target=\"_blank\"><span style=\"color: #7f7f7f; text-decoration-color: #7f7f7f\">575</span></a>\n",
       "</pre>\n"
      ],
      "text/plain": [
       "\u001b[2;36m2023-12-15 09:36:18\u001b[0m\u001b[2;36m \u001b[0m\u001b[34mINFO    \u001b[0m INFO:py4j.clientserver:Received command c on object id p0          \u001b]8;id=669970;file:///databricks/spark/python/lib/py4j-0.10.9.7-src.zip/py4j/clientserver.py\u001b\\\u001b[2mclientserver.py\u001b[0m\u001b]8;;\u001b\\\u001b[2m:\u001b[0m\u001b]8;id=978259;file:///databricks/spark/python/lib/py4j-0.10.9.7-src.zip/py4j/clientserver.py#575\u001b\\\u001b[2m575\u001b[0m\u001b]8;;\u001b\\\n"
      ]
     },
     "metadata": {},
     "output_type": "display_data"
    }
   ],
   "source": [
    "annot_df.write.mode(\"overwrite\").saveAsTable(\"mansi_test.default.imgAnnsDeltaTable\")\n"
   ]
  },
  {
   "cell_type": "markdown",
   "metadata": {
    "application/vnd.databricks.v1+cell": {
     "cellMetadata": {
      "byteLimit": 2048000,
      "rowLimit": 10000
     },
     "inputWidgets": {},
     "nuid": "d938ddb1-ae12-44df-92b2-cceeb19b24e7",
     "showTitle": false,
     "title": ""
    }
   },
   "source": [
    "### Load annotations delta table from volume"
   ]
  },
  {
   "cell_type": "code",
   "execution_count": null,
   "metadata": {
    "application/vnd.databricks.v1+cell": {
     "cellMetadata": {
      "byteLimit": 2048000,
      "rowLimit": 10000
     },
     "inputWidgets": {},
     "nuid": "ec9866be-484d-4e26-9e2d-eaf93243e9bb",
     "showTitle": false,
     "title": ""
    }
   },
   "outputs": [
    {
     "data": {
      "text/html": [
       "<pre style=\"white-space:pre;overflow-x:auto;line-height:normal;font-family:Menlo,'DejaVu Sans Mono',consolas,'Courier New',monospace\"><span style=\"color: #7fbfbf; text-decoration-color: #7fbfbf\">2023-12-15 09:37:26 </span><span style=\"color: #000080; text-decoration-color: #000080\">INFO    </span> INFO:py4j.clientserver:Received command c on object id p0          <a href=\"file:///databricks/spark/python/lib/py4j-0.10.9.7-src.zip/py4j/clientserver.py\" target=\"_blank\"><span style=\"color: #7f7f7f; text-decoration-color: #7f7f7f\">clientserver.py</span></a><span style=\"color: #7f7f7f; text-decoration-color: #7f7f7f\">:</span><a href=\"file:///databricks/spark/python/lib/py4j-0.10.9.7-src.zip/py4j/clientserver.py#575\" target=\"_blank\"><span style=\"color: #7f7f7f; text-decoration-color: #7f7f7f\">575</span></a>\n",
       "</pre>\n"
      ],
      "text/plain": [
       "\u001b[2;36m2023-12-15 09:37:26\u001b[0m\u001b[2;36m \u001b[0m\u001b[34mINFO    \u001b[0m INFO:py4j.clientserver:Received command c on object id p0          \u001b]8;id=299959;file:///databricks/spark/python/lib/py4j-0.10.9.7-src.zip/py4j/clientserver.py\u001b\\\u001b[2mclientserver.py\u001b[0m\u001b]8;;\u001b\\\u001b[2m:\u001b[0m\u001b]8;id=970950;file:///databricks/spark/python/lib/py4j-0.10.9.7-src.zip/py4j/clientserver.py#575\u001b\\\u001b[2m575\u001b[0m\u001b]8;;\u001b\\\n"
      ]
     },
     "metadata": {},
     "output_type": "display_data"
    },
    {
     "name": "stdout",
     "output_type": "stream",
     "text": [
      "+--------------------+---------------------+--------------------+----------------------+------------------+--------------------+\n",
      "|          annotation|annotation_created_at|       annotation_id|annotation_modified_at|annotation_user_id|            input_id|\n",
      "+--------------------+---------------------+--------------------+----------------------+------------------+--------------------+\n",
      "|concepts {\\n  id:...|  11/17/% 10:48:   %5|ed88ef462bfc420cb...|   11/17/% 10:48:   %5|           mansi_k|dataset1-train-33...|\n",
      "|concepts {\\n  id:...|  11/17/% 10:48:   %5|8a548049732840edb...|   11/17/% 10:48:   %5|           mansi_k|               img21|\n",
      "|concepts {\\n  id:...|  11/17/% 10:48:   %5|99e1544ff42a4695a...|   11/17/% 10:48:   %5|           mansi_k|               img11|\n",
      "|concepts {\\n  id:...|  11/17/% 10:41:   %5|170d036a60544e789...|   11/17/% 10:41:   %5|           mansi_k|                  c9|\n",
      "|concepts {\\n  id:...|  11/17/% 10:41:   %5|7edf0bc509454a9ca...|   11/17/% 10:41:   %5|           mansi_k|                  c4|\n",
      "|concepts {\\n  id:...|  11/17/% 10:41:   %5|a759f8a2d0a248b2b...|   11/17/% 10:41:   %5|           mansi_k|                  c5|\n",
      "|concepts {\\n  id:...|  11/17/% 10:41:   %5|f044bc745f754544b...|   11/17/% 10:41:   %5|           mansi_k|                  c7|\n",
      "|concepts {\\n  id:...|  10/23/% 08:27:   %5|0a28d0a6b7a04234b...|   10/23/% 08:27:   %5|           mansi_k|                 c10|\n",
      "|concepts {\\n  id:...|  11/17/% 10:48:   %5|8d1809e5078d40579...|   11/17/% 10:48:   %5|           mansi_k|dataset1-train-35...|\n",
      "|concepts {\\n  id:...|  11/17/% 10:48:   %5|8e246698055843cfa...|   11/17/% 10:48:   %5|           mansi_k|dataset1-train-24...|\n",
      "+--------------------+---------------------+--------------------+----------------------+------------------+--------------------+\n",
      "only showing top 10 rows\n",
      "\n"
     ]
    }
   ],
   "source": [
    "spark = SparkSession.builder.appName(\"Clarifai-pyspark\").getOrCreate()\n",
    "spark.conf.set(\"spark.databricks.agent.id\", \"clarifai-pyspark\")\n",
    "df_delta = spark.read.table(\"mansi_test.default.imgAnnsDeltaTable\")\n",
    "df_delta.show(10)"
   ]
  },
  {
   "cell_type": "markdown",
   "metadata": {
    "application/vnd.databricks.v1+cell": {
     "cellMetadata": {},
     "inputWidgets": {},
     "nuid": "ab6dfc75-d4e7-4541-bc3a-6863a8561882",
     "showTitle": false,
     "title": ""
    }
   },
   "source": [
    "### Loop through delta table rows & columns"
   ]
  },
  {
   "cell_type": "code",
   "execution_count": null,
   "metadata": {
    "application/vnd.databricks.v1+cell": {
     "cellMetadata": {
      "byteLimit": 2048000,
      "rowLimit": 10000
     },
     "inputWidgets": {},
     "nuid": "b46930f4-b3a8-4491-b134-089cd3c9155a",
     "showTitle": false,
     "title": ""
    }
   },
   "outputs": [
    {
     "data": {
      "text/html": [
       "<pre style=\"white-space:pre;overflow-x:auto;line-height:normal;font-family:Menlo,'DejaVu Sans Mono',consolas,'Courier New',monospace\"><span style=\"color: #7fbfbf; text-decoration-color: #7fbfbf\">2023-11-17 10:46:19 </span><span style=\"color: #000080; text-decoration-color: #000080\">INFO    </span> INFO:py4j.clientserver:Received command c on object id p0          <a href=\"file:///databricks/spark/python/lib/py4j-0.10.9.7-src.zip/py4j/clientserver.py\" target=\"_blank\"><span style=\"color: #7f7f7f; text-decoration-color: #7f7f7f\">clientserver.py</span></a><span style=\"color: #7f7f7f; text-decoration-color: #7f7f7f\">:</span><a href=\"file:///databricks/spark/python/lib/py4j-0.10.9.7-src.zip/py4j/clientserver.py#575\" target=\"_blank\"><span style=\"color: #7f7f7f; text-decoration-color: #7f7f7f\">575</span></a>\n",
       "</pre>\n"
      ],
      "text/plain": [
       "\u001b[2;36m2023-11-17 10:46:19\u001b[0m\u001b[2;36m \u001b[0m\u001b[34mINFO    \u001b[0m INFO:py4j.clientserver:Received command c on object id p0          \u001b]8;id=745449;file:///databricks/spark/python/lib/py4j-0.10.9.7-src.zip/py4j/clientserver.py\u001b\\\u001b[2mclientserver.py\u001b[0m\u001b]8;;\u001b\\\u001b[2m:\u001b[0m\u001b]8;id=380513;file:///databricks/spark/python/lib/py4j-0.10.9.7-src.zip/py4j/clientserver.py#575\u001b\\\u001b[2m575\u001b[0m\u001b]8;;\u001b\\\n"
      ]
     },
     "metadata": {},
     "output_type": "display_data"
    },
    {
     "name": "stdout",
     "output_type": "stream",
     "text": [
      "b3847d13486f4f1189315ad4565221db\n",
      "c2\n",
      "mansi_k\n",
      "10/23/% 08:27:   %5\n",
      "10/23/% 08:27:   %5\n",
      "concepts {\n",
      "  id: \"id-cat\"\n",
      "  name: \"cat\"\n",
      "  value: 1.0\n",
      "  app_id: \"databricks_tester_img\"\n",
      "}\n",
      "\n",
      "########################\n",
      "\n",
      "f65d75b3446b40ffa012735a31dcbb62\n",
      "c11\n",
      "mansi_k\n",
      "10/23/% 08:27:   %5\n",
      "10/23/% 08:27:   %5\n",
      "concepts {\n",
      "  id: \"id-cat\"\n",
      "  name: \"cat\"\n",
      "  value: 1.0\n",
      "  app_id: \"databricks_tester_img\"\n",
      "}\n",
      "\n",
      "########################\n",
      "\n",
      "76ac2fcb998440bc8d2a5fffd3a8ae1a\n",
      "c8\n",
      "mansi_k\n",
      "11/17/% 10:41:   %5\n",
      "11/17/% 10:41:   %5\n",
      "concepts {\n",
      "  id: \"id-cat\"\n",
      "  name: \"cat\"\n",
      "  value: 1.0\n",
      "  app_id: \"databricks_tester_img\"\n",
      "}\n",
      "\n",
      "########################\n",
      "\n",
      "7edf0bc509454a9caa74ac15d5604211\n",
      "c4\n",
      "mansi_k\n",
      "11/17/% 10:41:   %5\n",
      "11/17/% 10:41:   %5\n",
      "concepts {\n",
      "  id: \"id-cat\"\n",
      "  name: \"cat\"\n",
      "  value: 1.0\n",
      "  app_id: \"databricks_tester_img\"\n",
      "}\n",
      "\n",
      "########################\n",
      "\n"
     ]
    }
   ],
   "source": [
    "for row in df_delta.collect()[:4]:\n",
    "    print(row['annotation_id'])\n",
    "    print(row['input_id'])\n",
    "    print(row['annotation_user_id'])\n",
    "    print(row['annotation_created_at'])\n",
    "    print(row['annotation_modified_at'])\n",
    "    print(row['annotation'])\n",
    "    print(\"########################\\n\")"
   ]
  },
  {
   "cell_type": "markdown",
   "metadata": {
    "application/vnd.databricks.v1+cell": {
     "cellMetadata": {},
     "inputWidgets": {},
     "nuid": "9b869a1a-2b07-4ce5-ba12-2b4481fc3803",
     "showTitle": false,
     "title": ""
    }
   },
   "source": [
    "### Testing export_images_to_volume()"
   ]
  },
  {
   "cell_type": "code",
   "execution_count": null,
   "metadata": {
    "application/vnd.databricks.v1+cell": {
     "cellMetadata": {
      "byteLimit": 2048000,
      "rowLimit": 10000
     },
     "inputWidgets": {},
     "nuid": "a7825f27-d719-4a6c-8e7d-6234444865f9",
     "showTitle": false,
     "title": ""
    }
   },
   "outputs": [
    {
     "data": {
      "text/html": [
       "<pre style=\"white-space:pre;overflow-x:auto;line-height:normal;font-family:Menlo,'DejaVu Sans Mono',consolas,'Courier New',monospace\"><span style=\"color: #7fbfbf; text-decoration-color: #7fbfbf\">2023-10-23 08:31:44 </span><span style=\"color: #000080; text-decoration-color: #000080\">INFO    </span> INFO:py4j.clientserver:Received command c on object id p0          <a href=\"file:///databricks/spark/python/lib/py4j-0.10.9.7-src.zip/py4j/clientserver.py\" target=\"_blank\"><span style=\"color: #7f7f7f; text-decoration-color: #7f7f7f\">clientserver.py</span></a><span style=\"color: #7f7f7f; text-decoration-color: #7f7f7f\">:</span><a href=\"file:///databricks/spark/python/lib/py4j-0.10.9.7-src.zip/py4j/clientserver.py#575\" target=\"_blank\"><span style=\"color: #7f7f7f; text-decoration-color: #7f7f7f\">575</span></a>\n",
       "</pre>\n"
      ],
      "text/plain": [
       "\u001b[2;36m2023-10-23 08:31:44\u001b[0m\u001b[2;36m \u001b[0m\u001b[34mINFO    \u001b[0m INFO:py4j.clientserver:Received command c on object id p0          \u001b]8;id=244234;file:///databricks/spark/python/lib/py4j-0.10.9.7-src.zip/py4j/clientserver.py\u001b\\\u001b[2mclientserver.py\u001b[0m\u001b]8;;\u001b\\\u001b[2m:\u001b[0m\u001b]8;id=125648;file:///databricks/spark/python/lib/py4j-0.10.9.7-src.zip/py4j/clientserver.py#575\u001b\\\u001b[2m575\u001b[0m\u001b]8;;\u001b\\\n"
      ]
     },
     "metadata": {},
     "output_type": "display_data"
    }
   ],
   "source": [
    "dataset_obj.export_images_to_volume(path=\"/Volumes/mansi_test/default/test_vol1\", input_response=my_inputs[:5])"
   ]
  },
  {
   "cell_type": "markdown",
   "metadata": {
    "application/vnd.databricks.v1+cell": {
     "cellMetadata": {},
     "inputWidgets": {},
     "nuid": "ec8d8448-bfb3-48b8-87a4-430ea1555985",
     "showTitle": false,
     "title": ""
    }
   },
   "source": [
    "### Load image csv file & upload image data into app using dataframe"
   ]
  },
  {
   "cell_type": "code",
   "execution_count": null,
   "metadata": {
    "application/vnd.databricks.v1+cell": {
     "cellMetadata": {
      "byteLimit": 2048000,
      "rowLimit": 10000
     },
     "inputWidgets": {},
     "nuid": "0db5727d-fdcc-49f2-9197-315671da3804",
     "showTitle": false,
     "title": ""
    }
   },
   "outputs": [
    {
     "data": {
      "text/html": [
       "<pre style=\"white-space:pre;overflow-x:auto;line-height:normal;font-family:Menlo,'DejaVu Sans Mono',consolas,'Courier New',monospace\"><span style=\"color: #7fbfbf; text-decoration-color: #7fbfbf\">2023-11-17 10:47:41 </span><span style=\"color: #000080; text-decoration-color: #000080\">INFO    </span> INFO:py4j.clientserver:Received command c on object id p0          <a href=\"file:///databricks/spark/python/lib/py4j-0.10.9.7-src.zip/py4j/clientserver.py\" target=\"_blank\"><span style=\"color: #7f7f7f; text-decoration-color: #7f7f7f\">clientserver.py</span></a><span style=\"color: #7f7f7f; text-decoration-color: #7f7f7f\">:</span><a href=\"file:///databricks/spark/python/lib/py4j-0.10.9.7-src.zip/py4j/clientserver.py#575\" target=\"_blank\"><span style=\"color: #7f7f7f; text-decoration-color: #7f7f7f\">575</span></a>\n",
       "</pre>\n"
      ],
      "text/plain": [
       "\u001b[2;36m2023-11-17 10:47:41\u001b[0m\u001b[2;36m \u001b[0m\u001b[34mINFO    \u001b[0m INFO:py4j.clientserver:Received command c on object id p0          \u001b]8;id=757081;file:///databricks/spark/python/lib/py4j-0.10.9.7-src.zip/py4j/clientserver.py\u001b\\\u001b[2mclientserver.py\u001b[0m\u001b]8;;\u001b\\\u001b[2m:\u001b[0m\u001b]8;id=883448;file:///databricks/spark/python/lib/py4j-0.10.9.7-src.zip/py4j/clientserver.py#575\u001b\\\u001b[2m575\u001b[0m\u001b]8;;\u001b\\\n"
      ]
     },
     "metadata": {},
     "output_type": "display_data"
    },
    {
     "name": "stdout",
     "output_type": "stream",
     "text": [
      "+-------+--------------------+--------+\n",
      "|inputid|               input|concepts|\n",
      "+-------+--------------------+--------+\n",
      "|  img11|https://img.freep...|     dog|\n",
      "|  img21|https://images.un...|    duck|\n",
      "|  img31|https://mymodernm...|    duck|\n",
      "+-------+--------------------+--------+\n",
      "\n"
     ]
    }
   ],
   "source": [
    "spark = SparkSession.builder.appName(\"Clarifai-pyspark\").getOrCreate()\n",
    "spark.conf.set(\"spark.databricks.agent.id\", \"clarifai-pyspark\")\n",
    "df = spark.read.option(\"header\",True).csv(\"/Volumes/mansi_test/default/test_vol1/img_data2.csv\")\n",
    "df.show()"
   ]
  },
  {
   "cell_type": "code",
   "execution_count": null,
   "metadata": {
    "application/vnd.databricks.v1+cell": {
     "cellMetadata": {
      "byteLimit": 2048000,
      "rowLimit": 10000
     },
     "inputWidgets": {},
     "nuid": "ea2f83f5-2609-4343-9624-d4664b30e686",
     "showTitle": false,
     "title": ""
    }
   },
   "outputs": [
    {
     "data": {
      "text/html": [
       "<pre style=\"white-space:pre;overflow-x:auto;line-height:normal;font-family:Menlo,'DejaVu Sans Mono',consolas,'Courier New',monospace\"><span style=\"color: #7fbfbf; text-decoration-color: #7fbfbf\">2023-11-17 10:48:02 </span><span style=\"color: #000080; text-decoration-color: #000080\">INFO    </span> INFO:py4j.clientserver:Received command c on object id p0          <a href=\"file:///databricks/spark/python/lib/py4j-0.10.9.7-src.zip/py4j/clientserver.py\" target=\"_blank\"><span style=\"color: #7f7f7f; text-decoration-color: #7f7f7f\">clientserver.py</span></a><span style=\"color: #7f7f7f; text-decoration-color: #7f7f7f\">:</span><a href=\"file:///databricks/spark/python/lib/py4j-0.10.9.7-src.zip/py4j/clientserver.py#575\" target=\"_blank\"><span style=\"color: #7f7f7f; text-decoration-color: #7f7f7f\">575</span></a>\n",
       "</pre>\n"
      ],
      "text/plain": [
       "\u001b[2;36m2023-11-17 10:48:02\u001b[0m\u001b[2;36m \u001b[0m\u001b[34mINFO    \u001b[0m INFO:py4j.clientserver:Received command c on object id p0          \u001b]8;id=167577;file:///databricks/spark/python/lib/py4j-0.10.9.7-src.zip/py4j/clientserver.py\u001b\\\u001b[2mclientserver.py\u001b[0m\u001b]8;;\u001b\\\u001b[2m:\u001b[0m\u001b]8;id=322666;file:///databricks/spark/python/lib/py4j-0.10.9.7-src.zip/py4j/clientserver.py#575\u001b\\\u001b[2m575\u001b[0m\u001b]8;;\u001b\\\n"
      ]
     },
     "metadata": {},
     "output_type": "display_data"
    },
    {
     "name": "stderr",
     "output_type": "stream",
     "text": [
      "\rUploading inputs:   0%|          | 0/1 [00:00<?, ?it/s]\rUploading inputs: 100%|██████████| 1/1 [00:02<00:00,  2.49s/it]\rUploading inputs: 100%|██████████| 1/1 [00:02<00:00,  2.49s/it]\n"
     ]
    }
   ],
   "source": [
    "dataset_obj.upload_dataset_from_dataframe(dataframe=df, input_type='image', df_type='url', labels=True)"
   ]
  },
  {
   "cell_type": "markdown",
   "metadata": {
    "application/vnd.databricks.v1+cell": {
     "cellMetadata": {},
     "inputWidgets": {},
     "nuid": "1db3300b-3940-497d-be2c-2268314b6308",
     "showTitle": false,
     "title": ""
    }
   },
   "source": [
    "### Upload images from a delta table to Clarifai app"
   ]
  },
  {
   "cell_type": "code",
   "execution_count": null,
   "metadata": {
    "application/vnd.databricks.v1+cell": {
     "cellMetadata": {
      "byteLimit": 2048000,
      "rowLimit": 10000
     },
     "inputWidgets": {},
     "nuid": "03d929fe-d943-4e32-917d-aae28430c6e4",
     "showTitle": false,
     "title": ""
    }
   },
   "outputs": [
    {
     "name": "stderr",
     "output_type": "stream",
     "text": [
      "\rUploading inputs:   0%|          | 0/1 [00:00<?, ?it/s]"
     ]
    },
    {
     "data": {
      "text/html": [
       "<pre style=\"white-space:pre;overflow-x:auto;line-height:normal;font-family:Menlo,'DejaVu Sans Mono',consolas,'Courier New',monospace\"><span style=\"color: #7fbfbf; text-decoration-color: #7fbfbf\">2023-12-11 17:47:48 </span><span style=\"color: #800000; text-decoration-color: #800000\">WARNING </span> clarifai.client.input:  code: IN<span style=\"color: #808000; text-decoration-color: #808000; font-weight: bold\">PUT</span>_DUPLICATE                             <a href=\"file:///local_disk0/.ephemeral_nfs/envs/pythonEnv-c207ed42-01ac-4f0a-b762-3bca3452a74d/lib/python3.10/site-packages/clarifai/client/input.py\" target=\"_blank\"><span style=\"color: #7f7f7f; text-decoration-color: #7f7f7f\">input.py</span></a><span style=\"color: #7f7f7f; text-decoration-color: #7f7f7f\">:</span><a href=\"file:///local_disk0/.ephemeral_nfs/envs/pythonEnv-c207ed42-01ac-4f0a-b762-3bca3452a74d/lib/python3.10/site-packages/clarifai/client/input.py#662\" target=\"_blank\"><span style=\"color: #7f7f7f; text-decoration-color: #7f7f7f\">662</span></a>\n",
       "<span style=\"color: #7fbfbf; text-decoration-color: #7fbfbf\">                    </span>         description: <span style=\"color: #008000; text-decoration-color: #008000\">\"Duplicate URL in your application. Check the documentation </span> <span style=\"color: #7f7f7f; text-decoration-color: #7f7f7f\">            </span>\n",
       "<span style=\"color: #7fbfbf; text-decoration-color: #7fbfbf\">                    </span>         <span style=\"color: #008000; text-decoration-color: #008000\">to allow duplications.\"</span>                                                   <span style=\"color: #7f7f7f; text-decoration-color: #7f7f7f\">            </span>\n",
       "<span style=\"color: #7fbfbf; text-decoration-color: #7fbfbf\">                    </span>         details: <span style=\"color: #008000; text-decoration-color: #008000\">\"The input URL is duplicate.\"</span>                                    <span style=\"color: #7f7f7f; text-decoration-color: #7f7f7f\">            </span>\n",
       "<span style=\"color: #7fbfbf; text-decoration-color: #7fbfbf\">                    </span>                                                                                   <span style=\"color: #7f7f7f; text-decoration-color: #7f7f7f\">            </span>\n",
       "</pre>\n"
      ],
      "text/plain": [
       "\u001b[2;36m2023-12-11 17:47:48\u001b[0m\u001b[2;36m \u001b[0m\u001b[31mWARNING \u001b[0m clarifai.client.input:  code: IN\u001b[1;33mPUT\u001b[0m_DUPLICATE                             \u001b]8;id=345352;file:///local_disk0/.ephemeral_nfs/envs/pythonEnv-c207ed42-01ac-4f0a-b762-3bca3452a74d/lib/python3.10/site-packages/clarifai/client/input.py\u001b\\\u001b[2minput.py\u001b[0m\u001b]8;;\u001b\\\u001b[2m:\u001b[0m\u001b]8;id=764534;file:///local_disk0/.ephemeral_nfs/envs/pythonEnv-c207ed42-01ac-4f0a-b762-3bca3452a74d/lib/python3.10/site-packages/clarifai/client/input.py#662\u001b\\\u001b[2m662\u001b[0m\u001b]8;;\u001b\\\n",
       "\u001b[2;36m                    \u001b[0m         description: \u001b[32m\"Duplicate URL in your application. Check the documentation \u001b[0m \u001b[2m            \u001b[0m\n",
       "\u001b[2;36m                    \u001b[0m         \u001b[32mto allow duplications.\"\u001b[0m                                                   \u001b[2m            \u001b[0m\n",
       "\u001b[2;36m                    \u001b[0m         details: \u001b[32m\"The input URL is duplicate.\"\u001b[0m                                    \u001b[2m            \u001b[0m\n",
       "\u001b[2;36m                    \u001b[0m                                                                                   \u001b[2m            \u001b[0m\n"
      ]
     },
     "metadata": {},
     "output_type": "display_data"
    },
    {
     "data": {
      "text/html": [
       "<pre style=\"white-space:pre;overflow-x:auto;line-height:normal;font-family:Menlo,'DejaVu Sans Mono',consolas,'Courier New',monospace\"><span style=\"color: #7fbfbf; text-decoration-color: #7fbfbf\">2023-12-11 17:47:48 </span><span style=\"color: #800000; text-decoration-color: #800000\">WARNING </span> clarifai.client.input:  code: IN<span style=\"color: #808000; text-decoration-color: #808000; font-weight: bold\">PUT</span>_DUPLICATE                             <a href=\"file:///local_disk0/.ephemeral_nfs/envs/pythonEnv-c207ed42-01ac-4f0a-b762-3bca3452a74d/lib/python3.10/site-packages/clarifai/client/input.py\" target=\"_blank\"><span style=\"color: #7f7f7f; text-decoration-color: #7f7f7f\">input.py</span></a><span style=\"color: #7f7f7f; text-decoration-color: #7f7f7f\">:</span><a href=\"file:///local_disk0/.ephemeral_nfs/envs/pythonEnv-c207ed42-01ac-4f0a-b762-3bca3452a74d/lib/python3.10/site-packages/clarifai/client/input.py#662\" target=\"_blank\"><span style=\"color: #7f7f7f; text-decoration-color: #7f7f7f\">662</span></a>\n",
       "<span style=\"color: #7fbfbf; text-decoration-color: #7fbfbf\">                    </span>         description: <span style=\"color: #008000; text-decoration-color: #008000\">\"Duplicate URL in your application. Check the documentation </span> <span style=\"color: #7f7f7f; text-decoration-color: #7f7f7f\">            </span>\n",
       "<span style=\"color: #7fbfbf; text-decoration-color: #7fbfbf\">                    </span>         <span style=\"color: #008000; text-decoration-color: #008000\">to allow duplications.\"</span>                                                   <span style=\"color: #7f7f7f; text-decoration-color: #7f7f7f\">            </span>\n",
       "<span style=\"color: #7fbfbf; text-decoration-color: #7fbfbf\">                    </span>         details: <span style=\"color: #008000; text-decoration-color: #008000\">\"The input URL is duplicate.\"</span>                                    <span style=\"color: #7f7f7f; text-decoration-color: #7f7f7f\">            </span>\n",
       "<span style=\"color: #7fbfbf; text-decoration-color: #7fbfbf\">                    </span>                                                                                   <span style=\"color: #7f7f7f; text-decoration-color: #7f7f7f\">            </span>\n",
       "</pre>\n"
      ],
      "text/plain": [
       "\u001b[2;36m2023-12-11 17:47:48\u001b[0m\u001b[2;36m \u001b[0m\u001b[31mWARNING \u001b[0m clarifai.client.input:  code: IN\u001b[1;33mPUT\u001b[0m_DUPLICATE                             \u001b]8;id=392716;file:///local_disk0/.ephemeral_nfs/envs/pythonEnv-c207ed42-01ac-4f0a-b762-3bca3452a74d/lib/python3.10/site-packages/clarifai/client/input.py\u001b\\\u001b[2minput.py\u001b[0m\u001b]8;;\u001b\\\u001b[2m:\u001b[0m\u001b]8;id=422922;file:///local_disk0/.ephemeral_nfs/envs/pythonEnv-c207ed42-01ac-4f0a-b762-3bca3452a74d/lib/python3.10/site-packages/clarifai/client/input.py#662\u001b\\\u001b[2m662\u001b[0m\u001b]8;;\u001b\\\n",
       "\u001b[2;36m                    \u001b[0m         description: \u001b[32m\"Duplicate URL in your application. Check the documentation \u001b[0m \u001b[2m            \u001b[0m\n",
       "\u001b[2;36m                    \u001b[0m         \u001b[32mto allow duplications.\"\u001b[0m                                                   \u001b[2m            \u001b[0m\n",
       "\u001b[2;36m                    \u001b[0m         details: \u001b[32m\"The input URL is duplicate.\"\u001b[0m                                    \u001b[2m            \u001b[0m\n",
       "\u001b[2;36m                    \u001b[0m                                                                                   \u001b[2m            \u001b[0m\n"
      ]
     },
     "metadata": {},
     "output_type": "display_data"
    },
    {
     "name": "stderr",
     "output_type": "stream",
     "text": [
      "\rUploading inputs: 100%|██████████| 1/1 [00:02<00:00,  2.71s/it]\rUploading inputs: 100%|██████████| 1/1 [00:02<00:00,  2.71s/it]\n"
     ]
    }
   ],
   "source": [
    "dataset_obj.upload_dataset_from_table(table_path=\"/Volumes/mansi_test/default/test_vol1/imgdeltatable1\", \n",
    "                                      input_type=\"image\",\n",
    "                                      table_type=\"url\",\n",
    "                                      labels=True)"
   ]
  },
  {
   "cell_type": "markdown",
   "metadata": {
    "application/vnd.databricks.v1+cell": {
     "cellMetadata": {},
     "inputWidgets": {},
     "nuid": "a1382140-4c49-4bbf-9e0c-9fcd860071e5",
     "showTitle": false,
     "title": ""
    }
   },
   "source": [
    "### Using a custom dataloader to upload images from Volume"
   ]
  },
  {
   "cell_type": "code",
   "execution_count": null,
   "metadata": {
    "application/vnd.databricks.v1+cell": {
     "cellMetadata": {},
     "inputWidgets": {},
     "nuid": "4c550131-e182-446f-a6b6-b7e11c38826c",
     "showTitle": false,
     "title": ""
    }
   },
   "outputs": [
    {
     "data": {
      "text/html": [
       "<pre style=\"white-space:pre;overflow-x:auto;line-height:normal;font-family:Menlo,'DejaVu Sans Mono',consolas,'Courier New',monospace\"><span style=\"color: #7fbfbf; text-decoration-color: #7fbfbf\">2023-10-23 09:06:51 </span><span style=\"color: #000080; text-decoration-color: #000080\">INFO    </span> INFO:py4j.clientserver:Received command c on object id p0          <a href=\"file:///databricks/spark/python/lib/py4j-0.10.9.7-src.zip/py4j/clientserver.py\" target=\"_blank\"><span style=\"color: #7f7f7f; text-decoration-color: #7f7f7f\">clientserver.py</span></a><span style=\"color: #7f7f7f; text-decoration-color: #7f7f7f\">:</span><a href=\"file:///databricks/spark/python/lib/py4j-0.10.9.7-src.zip/py4j/clientserver.py#575\" target=\"_blank\"><span style=\"color: #7f7f7f; text-decoration-color: #7f7f7f\">575</span></a>\n",
       "</pre>\n"
      ],
      "text/plain": [
       "\u001b[2;36m2023-10-23 09:06:51\u001b[0m\u001b[2;36m \u001b[0m\u001b[34mINFO    \u001b[0m INFO:py4j.clientserver:Received command c on object id p0          \u001b]8;id=977950;file:///databricks/spark/python/lib/py4j-0.10.9.7-src.zip/py4j/clientserver.py\u001b\\\u001b[2mclientserver.py\u001b[0m\u001b]8;;\u001b\\\u001b[2m:\u001b[0m\u001b]8;id=507837;file:///databricks/spark/python/lib/py4j-0.10.9.7-src.zip/py4j/clientserver.py#575\u001b\\\u001b[2m575\u001b[0m\u001b]8;;\u001b\\\n"
      ]
     },
     "metadata": {},
     "output_type": "display_data"
    },
    {
     "name": "stderr",
     "output_type": "stream",
     "text": [
      "\rUploading Dataset:   0%|          | 0/1 [00:00<?, ?it/s]\rUploading Dataset: 100%|██████████| 1/1 [00:02<00:00,  2.61s/it]\rUploading Dataset: 100%|██████████| 1/1 [00:02<00:00,  2.61s/it]\n"
     ]
    }
   ],
   "source": [
    "# Form a dataloader\n",
    "from clarifai.datasets.upload.utils import load_module_dataloader\n",
    "\n",
    "food_dataloader = load_module_dataloader(module_dir=\"/Volumes/mansi_test/default/test_vol1/food-101\")"
   ]
  },
  {
   "cell_type": "markdown",
   "metadata": {
    "application/vnd.databricks.v1+cell": {
     "cellMetadata": {},
     "inputWidgets": {},
     "nuid": "45be1dd7-b187-41e1-ba46-3620cf0fbb9d",
     "showTitle": false,
     "title": ""
    }
   },
   "source": [
    "### Export annotations with their associated images into Databricks Volume"
   ]
  },
  {
   "cell_type": "code",
   "execution_count": null,
   "metadata": {
    "application/vnd.databricks.v1+cell": {
     "cellMetadata": {
      "byteLimit": 2048000,
      "rowLimit": 10000
     },
     "inputWidgets": {},
     "nuid": "ff8ea528-befd-48e4-a7f6-0899c1112896",
     "showTitle": false,
     "title": ""
    }
   },
   "outputs": [
    {
     "data": {
      "text/html": [
       "<pre style=\"white-space:pre;overflow-x:auto;line-height:normal;font-family:Menlo,'DejaVu Sans Mono',consolas,'Courier New',monospace\"><span style=\"color: #7fbfbf; text-decoration-color: #7fbfbf\">2023-12-15 08:19:00 </span><span style=\"color: #000080; text-decoration-color: #000080\">INFO    </span> INFO:py4j.clientserver:Received command c on object id p0          <a href=\"file:///databricks/spark/python/lib/py4j-0.10.9.7-src.zip/py4j/clientserver.py\" target=\"_blank\"><span style=\"color: #7f7f7f; text-decoration-color: #7f7f7f\">clientserver.py</span></a><span style=\"color: #7f7f7f; text-decoration-color: #7f7f7f\">:</span><a href=\"file:///databricks/spark/python/lib/py4j-0.10.9.7-src.zip/py4j/clientserver.py#575\" target=\"_blank\"><span style=\"color: #7f7f7f; text-decoration-color: #7f7f7f\">575</span></a>\n",
       "</pre>\n"
      ],
      "text/plain": [
       "\u001b[2;36m2023-12-15 08:19:00\u001b[0m\u001b[2;36m \u001b[0m\u001b[34mINFO    \u001b[0m INFO:py4j.clientserver:Received command c on object id p0          \u001b]8;id=117498;file:///databricks/spark/python/lib/py4j-0.10.9.7-src.zip/py4j/clientserver.py\u001b\\\u001b[2mclientserver.py\u001b[0m\u001b]8;;\u001b\\\u001b[2m:\u001b[0m\u001b]8;id=437332;file:///databricks/spark/python/lib/py4j-0.10.9.7-src.zip/py4j/clientserver.py#575\u001b\\\u001b[2m575\u001b[0m\u001b]8;;\u001b\\\n"
      ]
     },
     "metadata": {},
     "output_type": "display_data"
    },
    {
     "name": "stderr",
     "output_type": "stream",
     "text": [
      "\rExporting Images:   0%|          | 0/20 [00:00<?, ?it/s]\rExporting Images:   5%|▌         | 1/20 [00:01<00:32,  1.71s/it]\rExporting Images:  20%|██        | 4/20 [00:01<00:05,  2.84it/s]\rExporting Images:  30%|███       | 6/20 [00:02<00:04,  3.15it/s]\rExporting Images:  40%|████      | 8/20 [00:03<00:03,  3.10it/s]\rExporting Images:  45%|████▌     | 9/20 [00:03<00:03,  3.31it/s]\rExporting Images:  55%|█████▌    | 11/20 [00:03<00:02,  4.03it/s]\rExporting Images:  65%|██████▌   | 13/20 [00:03<00:01,  5.47it/s]\rExporting Images:  80%|████████  | 16/20 [00:04<00:00,  4.65it/s]\rExporting Images:  85%|████████▌ | 17/20 [00:04<00:00,  4.62it/s]\rExporting Images:  95%|█████████▌| 19/20 [00:04<00:00,  5.55it/s]\rExporting Images: 100%|██████████| 20/20 [00:04<00:00,  4.08it/s]\n"
     ]
    }
   ],
   "source": [
    "dataset_obj.export_annotations_to_volume(volumepath=\"/Volumes/mansi_test/default/test_vol4\",)"
   ]
  },
  {
   "cell_type": "code",
   "execution_count": null,
   "metadata": {
    "application/vnd.databricks.v1+cell": {
     "cellMetadata": {
      "byteLimit": 2048000,
      "rowLimit": 10000
     },
     "inputWidgets": {},
     "nuid": "d4f6fa4d-0730-4929-8f5e-103a50ae446a",
     "showTitle": false,
     "title": ""
    }
   },
   "outputs": [
    {
     "data": {
      "text/html": [
       "<pre style=\"white-space:pre;overflow-x:auto;line-height:normal;font-family:Menlo,'DejaVu Sans Mono',consolas,'Courier New',monospace\"><span style=\"color: #7fbfbf; text-decoration-color: #7fbfbf\">2023-12-15 08:22:46 </span><span style=\"color: #000080; text-decoration-color: #000080\">INFO    </span> INFO:py4j.clientserver:Received command c on object id p0          <a href=\"file:///databricks/spark/python/lib/py4j-0.10.9.7-src.zip/py4j/clientserver.py\" target=\"_blank\"><span style=\"color: #7f7f7f; text-decoration-color: #7f7f7f\">clientserver.py</span></a><span style=\"color: #7f7f7f; text-decoration-color: #7f7f7f\">:</span><a href=\"file:///databricks/spark/python/lib/py4j-0.10.9.7-src.zip/py4j/clientserver.py#575\" target=\"_blank\"><span style=\"color: #7f7f7f; text-decoration-color: #7f7f7f\">575</span></a>\n",
       "</pre>\n"
      ],
      "text/plain": [
       "\u001b[2;36m2023-12-15 08:22:46\u001b[0m\u001b[2;36m \u001b[0m\u001b[34mINFO    \u001b[0m INFO:py4j.clientserver:Received command c on object id p0          \u001b]8;id=334353;file:///databricks/spark/python/lib/py4j-0.10.9.7-src.zip/py4j/clientserver.py\u001b\\\u001b[2mclientserver.py\u001b[0m\u001b]8;;\u001b\\\u001b[2m:\u001b[0m\u001b]8;id=684348;file:///databricks/spark/python/lib/py4j-0.10.9.7-src.zip/py4j/clientserver.py#575\u001b\\\u001b[2m575\u001b[0m\u001b]8;;\u001b\\\n"
      ]
     },
     "metadata": {},
     "output_type": "display_data"
    },
    {
     "name": "stdout",
     "output_type": "stream",
     "text": [
      "+--------------------+---------------------+--------------------+----------------------+------------------+--------------------+--------------------+\n",
      "|          annotation|annotation_created_at|       annotation_id|annotation_modified_at|annotation_user_id|           image_url|            input_id|\n",
      "+--------------------+---------------------+--------------------+----------------------+------------------+--------------------+--------------------+\n",
      "|concepts {\\n  id:...|  11/17/% 10:48:   %5|8d1809e5078d40579...|   11/17/% 10:48:   %5|           mansi_k|https://data.clar...|dataset1-train-35...|\n",
      "|concepts {\\n  id:...|  11/17/% 10:48:   %5|8e246698055843cfa...|   11/17/% 10:48:   %5|           mansi_k|https://data.clar...|dataset1-train-24...|\n",
      "|concepts {\\n  id:...|  11/17/% 10:41:   %5|f044bc745f754544b...|   11/17/% 10:41:   %5|           mansi_k|https://data.clar...|                  c7|\n",
      "|concepts {\\n  id:...|  10/23/% 08:27:   %5|0a28d0a6b7a04234b...|   10/23/% 08:27:   %5|           mansi_k|https://data.clar...|                 c10|\n",
      "+--------------------+---------------------+--------------------+----------------------+------------------+--------------------+--------------------+\n",
      "only showing top 4 rows\n",
      "\n"
     ]
    }
   ],
   "source": [
    "df_delta = spark.read.format(\"delta\").load(\"/Volumes/mansi_test/default/test_vol4\")\n",
    "df_delta.show(4)"
   ]
  },
  {
   "cell_type": "markdown",
   "metadata": {
    "application/vnd.databricks.v1+cell": {
     "cellMetadata": {},
     "inputWidgets": {},
     "nuid": "bdb964fd-2203-4c83-9313-cce1c5adcbc6",
     "showTitle": false,
     "title": ""
    }
   },
   "source": [
    "### Creating ClarifaiPyspark object & creating/fetching text dataset from app"
   ]
  },
  {
   "cell_type": "code",
   "execution_count": null,
   "metadata": {
    "application/vnd.databricks.v1+cell": {
     "cellMetadata": {
      "byteLimit": 2048000,
      "rowLimit": 10000
     },
     "inputWidgets": {},
     "nuid": "3be66328-fbf5-4218-b4f7-971d03c67ead",
     "showTitle": false,
     "title": ""
    }
   },
   "outputs": [
    {
     "data": {
      "text/html": [
       "<pre style=\"white-space:pre;overflow-x:auto;line-height:normal;font-family:Menlo,'DejaVu Sans Mono',consolas,'Courier New',monospace\"><span style=\"color: #7fbfbf; text-decoration-color: #7fbfbf\">2023-11-17 10:48:46 </span><span style=\"color: #000080; text-decoration-color: #000080\">INFO    </span> INFO:py4j.clientserver:Received command c on object id p0          <a href=\"file:///databricks/spark/python/lib/py4j-0.10.9.7-src.zip/py4j/clientserver.py\" target=\"_blank\"><span style=\"color: #7f7f7f; text-decoration-color: #7f7f7f\">clientserver.py</span></a><span style=\"color: #7f7f7f; text-decoration-color: #7f7f7f\">:</span><a href=\"file:///databricks/spark/python/lib/py4j-0.10.9.7-src.zip/py4j/clientserver.py#575\" target=\"_blank\"><span style=\"color: #7f7f7f; text-decoration-color: #7f7f7f\">575</span></a>\n",
       "</pre>\n"
      ],
      "text/plain": [
       "\u001b[2;36m2023-11-17 10:48:46\u001b[0m\u001b[2;36m \u001b[0m\u001b[34mINFO    \u001b[0m INFO:py4j.clientserver:Received command c on object id p0          \u001b]8;id=496906;file:///databricks/spark/python/lib/py4j-0.10.9.7-src.zip/py4j/clientserver.py\u001b\\\u001b[2mclientserver.py\u001b[0m\u001b]8;;\u001b\\\u001b[2m:\u001b[0m\u001b]8;id=172685;file:///databricks/spark/python/lib/py4j-0.10.9.7-src.zip/py4j/clientserver.py#575\u001b\\\u001b[2m575\u001b[0m\u001b]8;;\u001b\\\n"
      ]
     },
     "metadata": {},
     "output_type": "display_data"
    }
   ],
   "source": [
    "cspark_obj = ClarifaiPySpark(user_id='mansi_k', app_id='databricks_tester_txt', pat=CLARIFAI_PAT)\n",
    "\n",
    "dataset_obj = cspark_obj.dataset(dataset_id='dataset1')"
   ]
  },
  {
   "cell_type": "markdown",
   "metadata": {
    "application/vnd.databricks.v1+cell": {
     "cellMetadata": {},
     "inputWidgets": {},
     "nuid": "5f12641b-c675-4e76-bbfd-30c3ca0592a5",
     "showTitle": false,
     "title": ""
    }
   },
   "source": [
    "### Fetching current inputs from text dataset"
   ]
  },
  {
   "cell_type": "code",
   "execution_count": null,
   "metadata": {
    "application/vnd.databricks.v1+cell": {
     "cellMetadata": {
      "byteLimit": 2048000,
      "rowLimit": 10000
     },
     "inputWidgets": {},
     "nuid": "301a1f0f-b1fa-4220-b8ee-02710876a414",
     "showTitle": false,
     "title": ""
    }
   },
   "outputs": [
    {
     "data": {
      "text/html": [
       "<pre style=\"white-space:pre;overflow-x:auto;line-height:normal;font-family:Menlo,'DejaVu Sans Mono',consolas,'Courier New',monospace\"><span style=\"color: #7fbfbf; text-decoration-color: #7fbfbf\">2023-11-17 10:49:23 </span><span style=\"color: #000080; text-decoration-color: #000080\">INFO    </span> INFO:py4j.clientserver:Received command c on object id p0          <a href=\"file:///databricks/spark/python/lib/py4j-0.10.9.7-src.zip/py4j/clientserver.py\" target=\"_blank\"><span style=\"color: #7f7f7f; text-decoration-color: #7f7f7f\">clientserver.py</span></a><span style=\"color: #7f7f7f; text-decoration-color: #7f7f7f\">:</span><a href=\"file:///databricks/spark/python/lib/py4j-0.10.9.7-src.zip/py4j/clientserver.py#575\" target=\"_blank\"><span style=\"color: #7f7f7f; text-decoration-color: #7f7f7f\">575</span></a>\n",
       "</pre>\n"
      ],
      "text/plain": [
       "\u001b[2;36m2023-11-17 10:49:23\u001b[0m\u001b[2;36m \u001b[0m\u001b[34mINFO    \u001b[0m INFO:py4j.clientserver:Received command c on object id p0          \u001b]8;id=658476;file:///databricks/spark/python/lib/py4j-0.10.9.7-src.zip/py4j/clientserver.py\u001b\\\u001b[2mclientserver.py\u001b[0m\u001b]8;;\u001b\\\u001b[2m:\u001b[0m\u001b]8;id=961521;file:///databricks/spark/python/lib/py4j-0.10.9.7-src.zip/py4j/clientserver.py#575\u001b\\\u001b[2m575\u001b[0m\u001b]8;;\u001b\\\n"
      ]
     },
     "metadata": {},
     "output_type": "display_data"
    },
    {
     "data": {
      "text/plain": [
       "[id: \"XFmGD0xHlNXgGIXF\"\n",
       " data {\n",
       "   text {\n",
       "     url: \"https://data.clarifai.com/orig/users/mansi_k/apps/databricks_tester_txt/inputs/text/65c1aa5487711a23f7477200fd01e253\"\n",
       "     hosted {\n",
       "       prefix: \"https://data.clarifai.com\"\n",
       "       suffix: \"users/mansi_k/apps/databricks_tester_txt/inputs/text/65c1aa5487711a23f7477200fd01e253\"\n",
       "       sizes: \"orig\"\n",
       "       crossorigin: \"use-credentials\"\n",
       "     }\n",
       "     text_info {\n",
       "       char_count: 3\n",
       "       encoding: \"UTF8\"\n",
       "     }\n",
       "   }\n",
       " }\n",
       " created_at {\n",
       "   seconds: 1698678263\n",
       "   nanos: 736342000\n",
       " }\n",
       " modified_at {\n",
       "   seconds: 1698678273\n",
       "   nanos: 49546000\n",
       " }\n",
       " status {\n",
       "   code: INPUT_DOWNLOAD_SUCCESS\n",
       "   description: \"Download complete\"\n",
       " },\n",
       " id: \"Ak1n8DZ1l1RWKATv\"\n",
       " data {\n",
       "   text {\n",
       "     url: \"https://data.clarifai.com/orig/users/mansi_k/apps/databricks_tester_txt/inputs/text/5a8dd3ad0756a93ded72b823b19dd877\"\n",
       "     hosted {\n",
       "       prefix: \"https://data.clarifai.com\"\n",
       "       suffix: \"users/mansi_k/apps/databricks_tester_txt/inputs/text/5a8dd3ad0756a93ded72b823b19dd877\"\n",
       "       sizes: \"orig\"\n",
       "       crossorigin: \"use-credentials\"\n",
       "     }\n",
       "     text_info {\n",
       "       char_count: 6\n",
       "       encoding: \"UTF8\"\n",
       "     }\n",
       "   }\n",
       " }\n",
       " created_at {\n",
       "   seconds: 1698670010\n",
       "   nanos: 189075000\n",
       " }\n",
       " modified_at {\n",
       "   seconds: 1698670015\n",
       "   nanos: 599498000\n",
       " }\n",
       " status {\n",
       "   code: INPUT_DOWNLOAD_SUCCESS\n",
       "   description: \"Download complete\"\n",
       " },\n",
       " id: \"PKaXcNjJ5fJ7wZqR\"\n",
       " data {\n",
       "   concepts {\n",
       "     id: \"id-neutral\"\n",
       "     name: \"neutral\"\n",
       "     value: 1.0\n",
       "     app_id: \"databricks_tester_txt\"\n",
       "   }\n",
       "   text {\n",
       "     url: \"https://data.clarifai.com/orig/users/mansi_k/apps/databricks_tester_txt/inputs/text/7faca309a8e25eae41a7a284a486ce71\"\n",
       "     hosted {\n",
       "       prefix: \"https://data.clarifai.com\"\n",
       "       suffix: \"users/mansi_k/apps/databricks_tester_txt/inputs/text/7faca309a8e25eae41a7a284a486ce71\"\n",
       "       sizes: \"orig\"\n",
       "       crossorigin: \"use-credentials\"\n",
       "     }\n",
       "     text_info {\n",
       "       char_count: 18\n",
       "       encoding: \"UTF8\"\n",
       "     }\n",
       "   }\n",
       " }\n",
       " created_at {\n",
       "   seconds: 1698324346\n",
       "   nanos: 835970000\n",
       " }\n",
       " modified_at {\n",
       "   seconds: 1698324368\n",
       "   nanos: 772137000\n",
       " }\n",
       " status {\n",
       "   code: INPUT_DOWNLOAD_SUCCESS\n",
       "   description: \"Download complete\"\n",
       " },\n",
       " id: \"IYMxwJq0jjwJguLE\"\n",
       " data {\n",
       "   concepts {\n",
       "     id: \"id-happy\"\n",
       "     name: \"happy\"\n",
       "     value: 1.0\n",
       "     app_id: \"databricks_tester_txt\"\n",
       "   }\n",
       "   text {\n",
       "     url: \"https://data.clarifai.com/orig/users/mansi_k/apps/databricks_tester_txt/inputs/text/e5706f62fbb0b29d6f07c22e9159d616\"\n",
       "     hosted {\n",
       "       prefix: \"https://data.clarifai.com\"\n",
       "       suffix: \"users/mansi_k/apps/databricks_tester_txt/inputs/text/e5706f62fbb0b29d6f07c22e9159d616\"\n",
       "       sizes: \"orig\"\n",
       "       crossorigin: \"use-credentials\"\n",
       "     }\n",
       "     text_info {\n",
       "       char_count: 22\n",
       "       encoding: \"UTF8\"\n",
       "     }\n",
       "   }\n",
       " }\n",
       " created_at {\n",
       "   seconds: 1698324327\n",
       "   nanos: 262595000\n",
       " }\n",
       " modified_at {\n",
       "   seconds: 1698324370\n",
       "   nanos: 331620000\n",
       " }\n",
       " status {\n",
       "   code: INPUT_DOWNLOAD_SUCCESS\n",
       "   description: \"Download complete\"\n",
       " },\n",
       " id: \"t11\"\n",
       " data {\n",
       "   text {\n",
       "     url: \"https://data.clarifai.com/orig/users/mansi_k/apps/databricks_tester_txt/inputs/text/d1c741eab86e90857e89b31e4c6b0a24\"\n",
       "     hosted {\n",
       "       prefix: \"https://data.clarifai.com\"\n",
       "       suffix: \"users/mansi_k/apps/databricks_tester_txt/inputs/text/d1c741eab86e90857e89b31e4c6b0a24\"\n",
       "       sizes: \"orig\"\n",
       "       crossorigin: \"use-credentials\"\n",
       "     }\n",
       "     text_info {\n",
       "       char_count: 17\n",
       "       encoding: \"UTF8\"\n",
       "     }\n",
       "   }\n",
       " }\n",
       " created_at {\n",
       "   seconds: 1698050291\n",
       "   nanos: 241146000\n",
       " }\n",
       " modified_at {\n",
       "   seconds: 1698050302\n",
       "   nanos: 997665000\n",
       " }\n",
       " status {\n",
       "   code: INPUT_DOWNLOAD_SUCCESS\n",
       "   description: \"Download complete\"\n",
       " },\n",
       " id: \"t31\"\n",
       " data {\n",
       "   text {\n",
       "     url: \"https://data.clarifai.com/orig/users/mansi_k/apps/databricks_tester_txt/inputs/text/452c6db0f45525271565b9c13ced455b\"\n",
       "     hosted {\n",
       "       prefix: \"https://data.clarifai.com\"\n",
       "       suffix: \"users/mansi_k/apps/databricks_tester_txt/inputs/text/452c6db0f45525271565b9c13ced455b\"\n",
       "       sizes: \"orig\"\n",
       "       crossorigin: \"use-credentials\"\n",
       "     }\n",
       "     text_info {\n",
       "       char_count: 28\n",
       "       encoding: \"UTF8\"\n",
       "     }\n",
       "   }\n",
       " }\n",
       " created_at {\n",
       "   seconds: 1698050291\n",
       "   nanos: 241146000\n",
       " }\n",
       " modified_at {\n",
       "   seconds: 1698050302\n",
       "   nanos: 997665000\n",
       " }\n",
       " status {\n",
       "   code: INPUT_DOWNLOAD_SUCCESS\n",
       "   description: \"Download complete\"\n",
       " },\n",
       " id: \"t21\"\n",
       " data {\n",
       "   text {\n",
       "     url: \"https://data.clarifai.com/orig/users/mansi_k/apps/databricks_tester_txt/inputs/text/3df3ee2eb4d33daa7049816c88ab1a10\"\n",
       "     hosted {\n",
       "       prefix: \"https://data.clarifai.com\"\n",
       "       suffix: \"users/mansi_k/apps/databricks_tester_txt/inputs/text/3df3ee2eb4d33daa7049816c88ab1a10\"\n",
       "       sizes: \"orig\"\n",
       "       crossorigin: \"use-credentials\"\n",
       "     }\n",
       "     text_info {\n",
       "       char_count: 20\n",
       "       encoding: \"UTF8\"\n",
       "     }\n",
       "   }\n",
       " }\n",
       " created_at {\n",
       "   seconds: 1698050291\n",
       "   nanos: 241146000\n",
       " }\n",
       " modified_at {\n",
       "   seconds: 1698050302\n",
       "   nanos: 997665000\n",
       " }\n",
       " status {\n",
       "   code: INPUT_DOWNLOAD_SUCCESS\n",
       "   description: \"Download complete\"\n",
       " }]"
      ]
     },
     "execution_count": 21,
     "metadata": {},
     "output_type": "execute_result"
    }
   ],
   "source": [
    "my_inputs = list(dataset_obj.list_inputs(input_type='text'))\n",
    "\n",
    "my_inputs"
   ]
  },
  {
   "cell_type": "markdown",
   "metadata": {
    "application/vnd.databricks.v1+cell": {
     "cellMetadata": {},
     "inputWidgets": {},
     "nuid": "59d06dc0-5235-41c1-be75-a5a8cd9dad73",
     "showTitle": false,
     "title": ""
    }
   },
   "source": [
    "### Testing export_text_to_volume()\n",
    "\n",
    "Q- Create folders acc to concept name?   \n",
    "Q- Save text as csv?"
   ]
  },
  {
   "cell_type": "code",
   "execution_count": null,
   "metadata": {
    "application/vnd.databricks.v1+cell": {
     "cellMetadata": {
      "byteLimit": 2048000,
      "rowLimit": 10000
     },
     "inputWidgets": {},
     "nuid": "e01c1396-1cd3-4290-b702-d9114244ff90",
     "showTitle": false,
     "title": ""
    }
   },
   "outputs": [
    {
     "data": {
      "text/html": [
       "<pre style=\"white-space:pre;overflow-x:auto;line-height:normal;font-family:Menlo,'DejaVu Sans Mono',consolas,'Courier New',monospace\"><span style=\"color: #7fbfbf; text-decoration-color: #7fbfbf\">2023-11-17 10:49:40 </span><span style=\"color: #000080; text-decoration-color: #000080\">INFO    </span> INFO:py4j.clientserver:Received command c on object id p0          <a href=\"file:///databricks/spark/python/lib/py4j-0.10.9.7-src.zip/py4j/clientserver.py\" target=\"_blank\"><span style=\"color: #7f7f7f; text-decoration-color: #7f7f7f\">clientserver.py</span></a><span style=\"color: #7f7f7f; text-decoration-color: #7f7f7f\">:</span><a href=\"file:///databricks/spark/python/lib/py4j-0.10.9.7-src.zip/py4j/clientserver.py#575\" target=\"_blank\"><span style=\"color: #7f7f7f; text-decoration-color: #7f7f7f\">575</span></a>\n",
       "</pre>\n"
      ],
      "text/plain": [
       "\u001b[2;36m2023-11-17 10:49:40\u001b[0m\u001b[2;36m \u001b[0m\u001b[34mINFO    \u001b[0m INFO:py4j.clientserver:Received command c on object id p0          \u001b]8;id=780975;file:///databricks/spark/python/lib/py4j-0.10.9.7-src.zip/py4j/clientserver.py\u001b\\\u001b[2mclientserver.py\u001b[0m\u001b]8;;\u001b\\\u001b[2m:\u001b[0m\u001b]8;id=579939;file:///databricks/spark/python/lib/py4j-0.10.9.7-src.zip/py4j/clientserver.py#575\u001b\\\u001b[2m575\u001b[0m\u001b]8;;\u001b\\\n"
      ]
     },
     "metadata": {},
     "output_type": "display_data"
    }
   ],
   "source": [
    "dataset_obj.export_text_to_volume(path=\"/Volumes/mansi_test/default/test_vol1\", input_response=my_inputs)"
   ]
  },
  {
   "cell_type": "markdown",
   "metadata": {
    "application/vnd.databricks.v1+cell": {
     "cellMetadata": {},
     "inputWidgets": {},
     "nuid": "0f8b3c16-8b05-4dee-b834-1270edc2b0b2",
     "showTitle": false,
     "title": ""
    }
   },
   "source": [
    "### Upload text from volume csv to Clarifai dataset"
   ]
  },
  {
   "cell_type": "code",
   "execution_count": null,
   "metadata": {
    "application/vnd.databricks.v1+cell": {
     "cellMetadata": {
      "byteLimit": 2048000,
      "rowLimit": 10000
     },
     "inputWidgets": {},
     "nuid": "1c7d8451-d9ac-42e6-85e6-ff451aeb6a1e",
     "showTitle": false,
     "title": ""
    }
   },
   "outputs": [
    {
     "data": {
      "text/html": [
       "<pre style=\"white-space:pre;overflow-x:auto;line-height:normal;font-family:Menlo,'DejaVu Sans Mono',consolas,'Courier New',monospace\"><span style=\"color: #7fbfbf; text-decoration-color: #7fbfbf\">2023-10-23 08:38:10 </span><span style=\"color: #000080; text-decoration-color: #000080\">INFO    </span> INFO:py4j.clientserver:Received command c on object id p0          <a href=\"file:///databricks/spark/python/lib/py4j-0.10.9.7-src.zip/py4j/clientserver.py\" target=\"_blank\"><span style=\"color: #7f7f7f; text-decoration-color: #7f7f7f\">clientserver.py</span></a><span style=\"color: #7f7f7f; text-decoration-color: #7f7f7f\">:</span><a href=\"file:///databricks/spark/python/lib/py4j-0.10.9.7-src.zip/py4j/clientserver.py#575\" target=\"_blank\"><span style=\"color: #7f7f7f; text-decoration-color: #7f7f7f\">575</span></a>\n",
       "</pre>\n"
      ],
      "text/plain": [
       "\u001b[2;36m2023-10-23 08:38:10\u001b[0m\u001b[2;36m \u001b[0m\u001b[34mINFO    \u001b[0m INFO:py4j.clientserver:Received command c on object id p0          \u001b]8;id=990114;file:///databricks/spark/python/lib/py4j-0.10.9.7-src.zip/py4j/clientserver.py\u001b\\\u001b[2mclientserver.py\u001b[0m\u001b]8;;\u001b\\\u001b[2m:\u001b[0m\u001b]8;id=279494;file:///databricks/spark/python/lib/py4j-0.10.9.7-src.zip/py4j/clientserver.py#575\u001b\\\u001b[2m575\u001b[0m\u001b]8;;\u001b\\\n"
      ]
     },
     "metadata": {},
     "output_type": "display_data"
    },
    {
     "name": "stderr",
     "output_type": "stream",
     "text": [
      "\rUploading inputs:   0%|          | 0/1 [00:00<?, ?it/s]\rUploading inputs: 100%|██████████| 1/1 [00:20<00:00, 20.56s/it]\rUploading inputs: 100%|██████████| 1/1 [00:20<00:00, 20.56s/it]\n"
     ]
    }
   ],
   "source": [
    "dataset_obj.upload_dataset_from_csv(csv_path='/Volumes/mansi_test/default/test_vol1/emotions_data1.csv', input_type='text', labels=True, csv_type='raw')"
   ]
  },
  {
   "cell_type": "markdown",
   "metadata": {
    "application/vnd.databricks.v1+cell": {
     "cellMetadata": {},
     "inputWidgets": {},
     "nuid": "b6363576-2540-491e-9506-5af1c7d5fa2b",
     "showTitle": false,
     "title": ""
    }
   },
   "source": [
    "### Load test csv file & upload text data into app using dataframe"
   ]
  },
  {
   "cell_type": "code",
   "execution_count": null,
   "metadata": {
    "application/vnd.databricks.v1+cell": {
     "cellMetadata": {
      "byteLimit": 2048000,
      "rowLimit": 10000
     },
     "inputWidgets": {},
     "nuid": "af76b341-7019-4513-bf93-a934067136ff",
     "showTitle": false,
     "title": ""
    }
   },
   "outputs": [
    {
     "data": {
      "text/html": [
       "<pre style=\"white-space:pre;overflow-x:auto;line-height:normal;font-family:Menlo,'DejaVu Sans Mono',consolas,'Courier New',monospace\"><span style=\"color: #7fbfbf; text-decoration-color: #7fbfbf\">2023-11-17 10:50:18 </span><span style=\"color: #000080; text-decoration-color: #000080\">INFO    </span> INFO:py4j.clientserver:Received command c on object id p0          <a href=\"file:///databricks/spark/python/lib/py4j-0.10.9.7-src.zip/py4j/clientserver.py\" target=\"_blank\"><span style=\"color: #7f7f7f; text-decoration-color: #7f7f7f\">clientserver.py</span></a><span style=\"color: #7f7f7f; text-decoration-color: #7f7f7f\">:</span><a href=\"file:///databricks/spark/python/lib/py4j-0.10.9.7-src.zip/py4j/clientserver.py#575\" target=\"_blank\"><span style=\"color: #7f7f7f; text-decoration-color: #7f7f7f\">575</span></a>\n",
       "</pre>\n"
      ],
      "text/plain": [
       "\u001b[2;36m2023-11-17 10:50:18\u001b[0m\u001b[2;36m \u001b[0m\u001b[34mINFO    \u001b[0m INFO:py4j.clientserver:Received command c on object id p0          \u001b]8;id=677723;file:///databricks/spark/python/lib/py4j-0.10.9.7-src.zip/py4j/clientserver.py\u001b\\\u001b[2mclientserver.py\u001b[0m\u001b]8;;\u001b\\\u001b[2m:\u001b[0m\u001b]8;id=27871;file:///databricks/spark/python/lib/py4j-0.10.9.7-src.zip/py4j/clientserver.py#575\u001b\\\u001b[2m575\u001b[0m\u001b]8;;\u001b\\\n"
      ]
     },
     "metadata": {},
     "output_type": "display_data"
    },
    {
     "name": "stdout",
     "output_type": "stream",
     "text": [
      "+-------+--------------------+--------+\n",
      "|inputid|               input|concepts|\n",
      "+-------+--------------------+--------+\n",
      "|    t11|   I am feeling good|   happy|\n",
      "|    t21|This is a guava tree| neutral|\n",
      "|    t31|This is a saddeni...|     sad|\n",
      "+-------+--------------------+--------+\n",
      "\n"
     ]
    }
   ],
   "source": [
    "spark = SparkSession.builder.appName(\"Clarifai-pyspark\").getOrCreate()\n",
    "spark.conf.set(\"spark.databricks.agent.id\", \"clarifai-pyspark\")\n",
    "df = spark.read.option(\"header\",True).csv(\"/Volumes/mansi_test/default/test_vol1/emotions_data1.csv\")\n",
    "df.show()"
   ]
  },
  {
   "cell_type": "code",
   "execution_count": null,
   "metadata": {
    "application/vnd.databricks.v1+cell": {
     "cellMetadata": {
      "byteLimit": 2048000,
      "rowLimit": 10000
     },
     "inputWidgets": {},
     "nuid": "c327d8d8-db0d-42db-bd79-a43743c08423",
     "showTitle": false,
     "title": ""
    }
   },
   "outputs": [
    {
     "data": {
      "text/html": [
       "<pre style=\"white-space:pre;overflow-x:auto;line-height:normal;font-family:Menlo,'DejaVu Sans Mono',consolas,'Courier New',monospace\"><span style=\"color: #7fbfbf; text-decoration-color: #7fbfbf\">2023-10-23 08:39:47 </span><span style=\"color: #000080; text-decoration-color: #000080\">INFO    </span> INFO:py4j.clientserver:Received command c on object id p0          <a href=\"file:///databricks/spark/python/lib/py4j-0.10.9.7-src.zip/py4j/clientserver.py\" target=\"_blank\"><span style=\"color: #7f7f7f; text-decoration-color: #7f7f7f\">clientserver.py</span></a><span style=\"color: #7f7f7f; text-decoration-color: #7f7f7f\">:</span><a href=\"file:///databricks/spark/python/lib/py4j-0.10.9.7-src.zip/py4j/clientserver.py#575\" target=\"_blank\"><span style=\"color: #7f7f7f; text-decoration-color: #7f7f7f\">575</span></a>\n",
       "</pre>\n"
      ],
      "text/plain": [
       "\u001b[2;36m2023-10-23 08:39:47\u001b[0m\u001b[2;36m \u001b[0m\u001b[34mINFO    \u001b[0m INFO:py4j.clientserver:Received command c on object id p0          \u001b]8;id=241980;file:///databricks/spark/python/lib/py4j-0.10.9.7-src.zip/py4j/clientserver.py\u001b\\\u001b[2mclientserver.py\u001b[0m\u001b]8;;\u001b\\\u001b[2m:\u001b[0m\u001b]8;id=257321;file:///databricks/spark/python/lib/py4j-0.10.9.7-src.zip/py4j/clientserver.py#575\u001b\\\u001b[2m575\u001b[0m\u001b]8;;\u001b\\\n"
      ]
     },
     "metadata": {},
     "output_type": "display_data"
    },
    {
     "name": "stderr",
     "output_type": "stream",
     "text": [
      "\rUploading inputs:   0%|          | 0/1 [00:00<?, ?it/s]"
     ]
    },
    {
     "data": {
      "text/html": [
       "<pre style=\"white-space:pre;overflow-x:auto;line-height:normal;font-family:Menlo,'DejaVu Sans Mono',consolas,'Courier New',monospace\"><span style=\"color: #7fbfbf; text-decoration-color: #7fbfbf\">2023-10-23 08:39:48 </span><span style=\"color: #800000; text-decoration-color: #800000\">WARNING </span> WARNING:clarifai.client.input:code: IN<span style=\"color: #808000; text-decoration-color: #808000; font-weight: bold\">PUT</span>_INVALID_ARGUMENT                <a href=\"file:///local_disk0/.ephemeral_nfs/envs/pythonEnv-07884fc6-4bdc-4cb9-bce0-6f0de44f7080/lib/python3.10/site-packages/clarifai/client/input.py\" target=\"_blank\"><span style=\"color: #7f7f7f; text-decoration-color: #7f7f7f\">input.py</span></a><span style=\"color: #7f7f7f; text-decoration-color: #7f7f7f\">:</span><a href=\"file:///local_disk0/.ephemeral_nfs/envs/pythonEnv-07884fc6-4bdc-4cb9-bce0-6f0de44f7080/lib/python3.10/site-packages/clarifai/client/input.py#631\" target=\"_blank\"><span style=\"color: #7f7f7f; text-decoration-color: #7f7f7f\">631</span></a>\n",
       "<span style=\"color: #7fbfbf; text-decoration-color: #7fbfbf\">                    </span>         description: <span style=\"color: #008000; text-decoration-color: #008000\">\"Input invalid argument\"</span>                                     <span style=\"color: #7f7f7f; text-decoration-color: #7f7f7f\">            </span>\n",
       "<span style=\"color: #7fbfbf; text-decoration-color: #7fbfbf\">                    </span>         details: <span style=\"color: #008000; text-decoration-color: #008000\">\"Input has a duplicate ID.\"</span>                                      <span style=\"color: #7f7f7f; text-decoration-color: #7f7f7f\">            </span>\n",
       "<span style=\"color: #7fbfbf; text-decoration-color: #7fbfbf\">                    </span>                                                                                   <span style=\"color: #7f7f7f; text-decoration-color: #7f7f7f\">            </span>\n",
       "</pre>\n"
      ],
      "text/plain": [
       "\u001b[2;36m2023-10-23 08:39:48\u001b[0m\u001b[2;36m \u001b[0m\u001b[31mWARNING \u001b[0m WARNING:clarifai.client.input:code: IN\u001b[1;33mPUT\u001b[0m_INVALID_ARGUMENT                \u001b]8;id=620274;file:///local_disk0/.ephemeral_nfs/envs/pythonEnv-07884fc6-4bdc-4cb9-bce0-6f0de44f7080/lib/python3.10/site-packages/clarifai/client/input.py\u001b\\\u001b[2minput.py\u001b[0m\u001b]8;;\u001b\\\u001b[2m:\u001b[0m\u001b]8;id=60565;file:///local_disk0/.ephemeral_nfs/envs/pythonEnv-07884fc6-4bdc-4cb9-bce0-6f0de44f7080/lib/python3.10/site-packages/clarifai/client/input.py#631\u001b\\\u001b[2m631\u001b[0m\u001b]8;;\u001b\\\n",
       "\u001b[2;36m                    \u001b[0m         description: \u001b[32m\"Input invalid argument\"\u001b[0m                                     \u001b[2m            \u001b[0m\n",
       "\u001b[2;36m                    \u001b[0m         details: \u001b[32m\"Input has a duplicate ID.\"\u001b[0m                                      \u001b[2m            \u001b[0m\n",
       "\u001b[2;36m                    \u001b[0m                                                                                   \u001b[2m            \u001b[0m\n"
      ]
     },
     "metadata": {},
     "output_type": "display_data"
    },
    {
     "name": "stderr",
     "output_type": "stream",
     "text": [
      "\rUploading inputs: 100%|██████████| 1/1 [00:00<00:00,  5.48it/s]\rUploading inputs: 100%|██████████| 1/1 [00:00<00:00,  5.45it/s]\n"
     ]
    }
   ],
   "source": [
    "dataset_obj.upload_dataset_from_dataframe(dataframe=df, input_type='text', df_type='raw', labels=True)"
   ]
  }
 ],
 "metadata": {
  "application/vnd.databricks.v1+notebook": {
   "dashboards": [],
   "language": "python",
   "notebookMetadata": {
    "pythonIndentUnit": 4
   },
   "notebookName": "ClarifaiPyspark_demobook",
   "widgets": {}
  },
  "language_info": {
   "name": "python"
  }
 },
 "nbformat": 4,
 "nbformat_minor": 0
}
