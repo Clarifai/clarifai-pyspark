{
 "cells": [
  {
   "cell_type": "markdown",
   "metadata": {
    "application/vnd.databricks.v1+cell": {
     "cellMetadata": {},
     "inputWidgets": {},
     "nuid": "92323063-1c0e-4b2b-aa14-4941abe35b56",
     "showTitle": false,
     "title": ""
    }
   },
   "source": [
    "## Installations"
   ]
  },
  {
   "cell_type": "code",
   "execution_count": null,
   "metadata": {
    "application/vnd.databricks.v1+cell": {
     "cellMetadata": {},
     "inputWidgets": {},
     "nuid": "9462d7e7-bfe4-44e6-82ca-4e0b8b2ee952",
     "showTitle": false,
     "title": ""
    }
   },
   "outputs": [],
   "source": [
    "%pip install clarifai-pyspark"
   ]
  },
  {
   "cell_type": "markdown",
   "metadata": {
    "application/vnd.databricks.v1+cell": {
     "cellMetadata": {},
     "inputWidgets": {},
     "nuid": "7ec9dd73-01ba-42d5-8ead-6315906bb73f",
     "showTitle": false,
     "title": ""
    }
   },
   "source": [
    "## Getting Started"
   ]
  },
  {
   "cell_type": "code",
   "execution_count": null,
   "metadata": {
    "application/vnd.databricks.v1+cell": {
     "cellMetadata": {
      "byteLimit": 2048000,
      "rowLimit": 10000
     },
     "inputWidgets": {},
     "nuid": "33babd36-715d-41b2-bac0-e417f357eb3d",
     "showTitle": false,
     "title": ""
    }
   },
   "outputs": [
    {
     "data": {
      "text/html": [
       "<pre style=\"white-space:pre;overflow-x:auto;line-height:normal;font-family:Menlo,'DejaVu Sans Mono',consolas,'Courier New',monospace\"><span style=\"color: #7fbfbf; text-decoration-color: #7fbfbf\">2023-10-30 15:45:38 </span><span style=\"color: #000080; text-decoration-color: #000080\">INFO    </span> INFO:py4j.clientserver:Received command c on object id p0          <a href=\"file:///databricks/spark/python/lib/py4j-0.10.9.7-src.zip/py4j/clientserver.py\" target=\"_blank\"><span style=\"color: #7f7f7f; text-decoration-color: #7f7f7f\">clientserver.py</span></a><span style=\"color: #7f7f7f; text-decoration-color: #7f7f7f\">:</span><a href=\"file:///databricks/spark/python/lib/py4j-0.10.9.7-src.zip/py4j/clientserver.py#575\" target=\"_blank\"><span style=\"color: #7f7f7f; text-decoration-color: #7f7f7f\">575</span></a>\n",
       "</pre>\n"
      ],
      "text/plain": [
       "\u001b[2;36m2023-10-30 15:45:38\u001b[0m\u001b[2;36m \u001b[0m\u001b[34mINFO    \u001b[0m INFO:py4j.clientserver:Received command c on object id p0          \u001b]8;id=166820;file:///databricks/spark/python/lib/py4j-0.10.9.7-src.zip/py4j/clientserver.py\u001b\\\u001b[2mclientserver.py\u001b[0m\u001b]8;;\u001b\\\u001b[2m:\u001b[0m\u001b]8;id=774774;file:///databricks/spark/python/lib/py4j-0.10.9.7-src.zip/py4j/clientserver.py#575\u001b\\\u001b[2m575\u001b[0m\u001b]8;;\u001b\\\n"
      ]
     },
     "metadata": {},
     "output_type": "display_data"
    }
   ],
   "source": [
    "from clarifaipyspark.client import ClarifaiPySpark\n",
    "\n",
    "CLARIFAI_PAT = dbutils.secrets.get(scope=\"clarifai\", key=\"clarifai-pat\")"
   ]
  },
  {
   "cell_type": "markdown",
   "metadata": {
    "application/vnd.databricks.v1+cell": {
     "cellMetadata": {},
     "inputWidgets": {},
     "nuid": "11044ce6-e8cd-45ff-841a-a7a091a5308a",
     "showTitle": false,
     "title": ""
    }
   },
   "source": [
    "## ClarifaiPyspark object for Clarifai app with image dataset"
   ]
  },
  {
   "cell_type": "code",
   "execution_count": null,
   "metadata": {
    "application/vnd.databricks.v1+cell": {
     "cellMetadata": {
      "byteLimit": 2048000,
      "rowLimit": 10000
     },
     "inputWidgets": {},
     "nuid": "125b9a70-51ed-40e1-9960-3217f620192d",
     "showTitle": false,
     "title": ""
    }
   },
   "outputs": [
    {
     "data": {
      "text/html": [
       "<pre style=\"white-space:pre;overflow-x:auto;line-height:normal;font-family:Menlo,'DejaVu Sans Mono',consolas,'Courier New',monospace\"><span style=\"color: #7fbfbf; text-decoration-color: #7fbfbf\">2023-10-30 16:24:03 </span><span style=\"color: #000080; text-decoration-color: #000080\">INFO    </span> INFO:py4j.clientserver:Received command c on object id p0          <a href=\"file:///databricks/spark/python/lib/py4j-0.10.9.7-src.zip/py4j/clientserver.py\" target=\"_blank\"><span style=\"color: #7f7f7f; text-decoration-color: #7f7f7f\">clientserver.py</span></a><span style=\"color: #7f7f7f; text-decoration-color: #7f7f7f\">:</span><a href=\"file:///databricks/spark/python/lib/py4j-0.10.9.7-src.zip/py4j/clientserver.py#575\" target=\"_blank\"><span style=\"color: #7f7f7f; text-decoration-color: #7f7f7f\">575</span></a>\n",
       "</pre>\n"
      ],
      "text/plain": [
       "\u001b[2;36m2023-10-30 16:24:03\u001b[0m\u001b[2;36m \u001b[0m\u001b[34mINFO    \u001b[0m INFO:py4j.clientserver:Received command c on object id p0          \u001b]8;id=227727;file:///databricks/spark/python/lib/py4j-0.10.9.7-src.zip/py4j/clientserver.py\u001b\\\u001b[2mclientserver.py\u001b[0m\u001b]8;;\u001b\\\u001b[2m:\u001b[0m\u001b]8;id=582870;file:///databricks/spark/python/lib/py4j-0.10.9.7-src.zip/py4j/clientserver.py#575\u001b\\\u001b[2m575\u001b[0m\u001b]8;;\u001b\\\n"
      ]
     },
     "metadata": {},
     "output_type": "display_data"
    }
   ],
   "source": [
    "user_id = 'user_id'\n",
    "app_id = 'app_id'\n",
    "dataset_id = 'dataset_id'\n",
    "\n",
    "cspark_obj = ClarifaiPySpark(user_id=user_id, app_id=app_id, pat=CLARIFAI_PAT)\n",
    "dataset_obj = cspark_obj.dataset(dataset_id=dataset_id)"
   ]
  },
  {
   "cell_type": "markdown",
   "metadata": {
    "application/vnd.databricks.v1+cell": {
     "cellMetadata": {},
     "inputWidgets": {},
     "nuid": "86fe299d-421c-44d0-9aa3-50749b0a7713",
     "showTitle": false,
     "title": ""
    }
   },
   "source": [
    "## Get details for images from Clarifai dataset"
   ]
  },
  {
   "cell_type": "code",
   "execution_count": null,
   "metadata": {
    "application/vnd.databricks.v1+cell": {
     "cellMetadata": {
      "byteLimit": 2048000,
      "rowLimit": 10000
     },
     "inputWidgets": {},
     "nuid": "7a8a33ba-6a2b-4616-b255-c00b0d3fef43",
     "showTitle": false,
     "title": ""
    }
   },
   "outputs": [
    {
     "data": {
      "text/html": [
       "<pre style=\"white-space:pre;overflow-x:auto;line-height:normal;font-family:Menlo,'DejaVu Sans Mono',consolas,'Courier New',monospace\"><span style=\"color: #7fbfbf; text-decoration-color: #7fbfbf\">2023-10-30 16:24:12 </span><span style=\"color: #000080; text-decoration-color: #000080\">INFO    </span> INFO:py4j.clientserver:Received command c on object id p0          <a href=\"file:///databricks/spark/python/lib/py4j-0.10.9.7-src.zip/py4j/clientserver.py\" target=\"_blank\"><span style=\"color: #7f7f7f; text-decoration-color: #7f7f7f\">clientserver.py</span></a><span style=\"color: #7f7f7f; text-decoration-color: #7f7f7f\">:</span><a href=\"file:///databricks/spark/python/lib/py4j-0.10.9.7-src.zip/py4j/clientserver.py#575\" target=\"_blank\"><span style=\"color: #7f7f7f; text-decoration-color: #7f7f7f\">575</span></a>\n",
       "</pre>\n"
      ],
      "text/plain": [
       "\u001b[2;36m2023-10-30 16:24:12\u001b[0m\u001b[2;36m \u001b[0m\u001b[34mINFO    \u001b[0m INFO:py4j.clientserver:Received command c on object id p0          \u001b]8;id=780353;file:///databricks/spark/python/lib/py4j-0.10.9.7-src.zip/py4j/clientserver.py\u001b\\\u001b[2mclientserver.py\u001b[0m\u001b]8;;\u001b\\\u001b[2m:\u001b[0m\u001b]8;id=228401;file:///databricks/spark/python/lib/py4j-0.10.9.7-src.zip/py4j/clientserver.py#575\u001b\\\u001b[2m575\u001b[0m\u001b]8;;\u001b\\\n"
      ]
     },
     "metadata": {},
     "output_type": "display_data"
    },
    {
     "data": {
      "text/plain": [
       "26"
      ]
     },
     "execution_count": 96,
     "metadata": {},
     "output_type": "execute_result"
    }
   ],
   "source": [
    "inputs_df = dataset_obj.export_inputs_to_dataframe(input_type='image')\n",
    "inputs_df.count()"
   ]
  },
  {
   "cell_type": "code",
   "execution_count": null,
   "metadata": {
    "application/vnd.databricks.v1+cell": {
     "cellMetadata": {
      "byteLimit": 2048000,
      "rowLimit": 10000
     },
     "inputWidgets": {},
     "nuid": "c4c475e8-9deb-4729-be72-1fe4c37280ac",
     "showTitle": false,
     "title": ""
    }
   },
   "outputs": [
    {
     "data": {
      "text/html": [
       "<pre style=\"white-space:pre;overflow-x:auto;line-height:normal;font-family:Menlo,'DejaVu Sans Mono',consolas,'Courier New',monospace\"><span style=\"color: #7fbfbf; text-decoration-color: #7fbfbf\">2023-10-30 16:24:16 </span><span style=\"color: #000080; text-decoration-color: #000080\">INFO    </span> INFO:py4j.clientserver:Received command c on object id p0          <a href=\"file:///databricks/spark/python/lib/py4j-0.10.9.7-src.zip/py4j/clientserver.py\" target=\"_blank\"><span style=\"color: #7f7f7f; text-decoration-color: #7f7f7f\">clientserver.py</span></a><span style=\"color: #7f7f7f; text-decoration-color: #7f7f7f\">:</span><a href=\"file:///databricks/spark/python/lib/py4j-0.10.9.7-src.zip/py4j/clientserver.py#575\" target=\"_blank\"><span style=\"color: #7f7f7f; text-decoration-color: #7f7f7f\">575</span></a>\n",
       "</pre>\n"
      ],
      "text/plain": [
       "\u001b[2;36m2023-10-30 16:24:16\u001b[0m\u001b[2;36m \u001b[0m\u001b[34mINFO    \u001b[0m INFO:py4j.clientserver:Received command c on object id p0          \u001b]8;id=839847;file:///databricks/spark/python/lib/py4j-0.10.9.7-src.zip/py4j/clientserver.py\u001b\\\u001b[2mclientserver.py\u001b[0m\u001b]8;;\u001b\\\u001b[2m:\u001b[0m\u001b]8;id=941928;file:///databricks/spark/python/lib/py4j-0.10.9.7-src.zip/py4j/clientserver.py#575\u001b\\\u001b[2m575\u001b[0m\u001b]8;;\u001b\\\n"
      ]
     },
     "metadata": {},
     "output_type": "display_data"
    },
    {
     "name": "stdout",
     "output_type": "stream",
     "text": [
      "+--------------------+--------------------+-------------------+--------------------+-------------------+\n",
      "|          image_info|           image_url|   input_created_at|            input_id|  input_modified_at|\n",
      "+--------------------+--------------------+-------------------+--------------------+-------------------+\n",
      "|width: 872\\nheigh...|https://cdni.auto...|10/27/% 12:48:   %5|              img211|10/27/% 12:48:   %5|\n",
      "|width: 872\\nheigh...|https://cdni.auto...|10/27/% 12:48:   %5|              img111|10/27/% 12:48:   %5|\n",
      "|width: 900\\nheigh...|https://samples.c...|10/27/% 12:02:   %5|             image01|10/27/% 12:02:   %5|\n",
      "|width: 900\\nheigh...|https://samples.c...|10/27/% 12:02:   %5|             image03|10/27/% 12:02:   %5|\n",
      "|width: 512\\nheigh...|https://samples.c...|10/27/% 12:02:   %5|             image02|10/27/% 12:02:   %5|\n",
      "|width: 900\\nheigh...|https://data.clar...|10/26/% 08:28:   %5|    SjICZ3CwpUUVb411|10/26/% 08:28:   %5|\n",
      "|width: 300\\nheigh...|https://data.clar...|10/25/% 16:11:   %5|    07gGPEk8bIw97NcM|10/25/% 16:11:   %5|\n",
      "|width: 1600\\nheig...|https://data.clar...|10/25/% 12:52:   %5|    g7PNFAV6aenTJ3pn|10/25/% 12:52:   %5|\n",
      "|width: 512\\nheigh...|https://data.clar...|10/23/% 09:06:   %5|dataset1-train-36...|10/23/% 09:06:   %5|\n",
      "|width: 512\\nheigh...|https://data.clar...|10/23/% 09:06:   %5|dataset1-train-35...|10/23/% 09:06:   %5|\n",
      "|width: 512\\nheigh...|https://data.clar...|10/23/% 09:06:   %5|dataset1-train-33...|10/23/% 09:06:   %5|\n",
      "|width: 512\\nheigh...|https://data.clar...|10/23/% 09:06:   %5|dataset1-train-24...|10/23/% 09:06:   %5|\n",
      "|width: 626\\nheigh...|https://img.freep...|10/23/% 08:32:   %5|               img11|10/23/% 08:32:   %5|\n",
      "|width: 1200\\nheig...|https://mymodernm...|10/23/% 08:32:   %5|               img31|10/23/% 08:32:   %5|\n",
      "|width: 1000\\nheig...|https://images.un...|10/23/% 08:32:   %5|               img21|10/23/% 08:32:   %5|\n",
      "|width: 1000\\nheig...|https://data.clar...|10/23/% 08:27:   %5|                 c10|10/23/% 08:27:   %5|\n",
      "|width: 612\\nheigh...|https://data.clar...|10/23/% 08:27:   %5|                  c6|10/23/% 08:27:   %5|\n",
      "|width: 930\\nheigh...|https://data.clar...|10/23/% 08:27:   %5|                  c8|10/23/% 08:27:   %5|\n",
      "|width: 1200\\nheig...|https://data.clar...|10/23/% 08:27:   %5|                  c3|10/23/% 08:27:   %5|\n",
      "|width: 540\\nheigh...|https://data.clar...|10/23/% 08:27:   %5|                  c7|10/23/% 08:27:   %5|\n",
      "+--------------------+--------------------+-------------------+--------------------+-------------------+\n",
      "only showing top 20 rows\n",
      "\n"
     ]
    }
   ],
   "source": [
    "inputs_df.show()"
   ]
  },
  {
   "cell_type": "markdown",
   "metadata": {
    "application/vnd.databricks.v1+cell": {
     "cellMetadata": {},
     "inputWidgets": {},
     "nuid": "d30861de-a65a-4707-959c-0c1307c7c602",
     "showTitle": false,
     "title": ""
    }
   },
   "source": [
    "## Get image annotations from Clarifai app"
   ]
  },
  {
   "cell_type": "code",
   "execution_count": null,
   "metadata": {
    "application/vnd.databricks.v1+cell": {
     "cellMetadata": {
      "byteLimit": 2048000,
      "rowLimit": 10000
     },
     "inputWidgets": {},
     "nuid": "d27bb82a-610d-478e-a4c1-341270378cc3",
     "showTitle": false,
     "title": ""
    }
   },
   "outputs": [
    {
     "data": {
      "text/html": [
       "<pre style=\"white-space:pre;overflow-x:auto;line-height:normal;font-family:Menlo,'DejaVu Sans Mono',consolas,'Courier New',monospace\"><span style=\"color: #7fbfbf; text-decoration-color: #7fbfbf\">2023-10-30 16:24:44 </span><span style=\"color: #000080; text-decoration-color: #000080\">INFO    </span> INFO:py4j.clientserver:Received command c on object id p0          <a href=\"file:///databricks/spark/python/lib/py4j-0.10.9.7-src.zip/py4j/clientserver.py\" target=\"_blank\"><span style=\"color: #7f7f7f; text-decoration-color: #7f7f7f\">clientserver.py</span></a><span style=\"color: #7f7f7f; text-decoration-color: #7f7f7f\">:</span><a href=\"file:///databricks/spark/python/lib/py4j-0.10.9.7-src.zip/py4j/clientserver.py#575\" target=\"_blank\"><span style=\"color: #7f7f7f; text-decoration-color: #7f7f7f\">575</span></a>\n",
       "</pre>\n"
      ],
      "text/plain": [
       "\u001b[2;36m2023-10-30 16:24:44\u001b[0m\u001b[2;36m \u001b[0m\u001b[34mINFO    \u001b[0m INFO:py4j.clientserver:Received command c on object id p0          \u001b]8;id=945429;file:///databricks/spark/python/lib/py4j-0.10.9.7-src.zip/py4j/clientserver.py\u001b\\\u001b[2mclientserver.py\u001b[0m\u001b]8;;\u001b\\\u001b[2m:\u001b[0m\u001b]8;id=936729;file:///databricks/spark/python/lib/py4j-0.10.9.7-src.zip/py4j/clientserver.py#575\u001b\\\u001b[2m575\u001b[0m\u001b]8;;\u001b\\\n"
      ]
     },
     "metadata": {},
     "output_type": "display_data"
    },
    {
     "data": {
      "text/plain": [
       "25"
      ]
     },
     "execution_count": 98,
     "metadata": {},
     "output_type": "execute_result"
    }
   ],
   "source": [
    "anns_df = dataset_obj.export_annotations_to_dataframe()\n",
    "anns_df.count()"
   ]
  },
  {
   "cell_type": "code",
   "execution_count": null,
   "metadata": {
    "application/vnd.databricks.v1+cell": {
     "cellMetadata": {
      "byteLimit": 2048000,
      "rowLimit": 10000
     },
     "inputWidgets": {},
     "nuid": "3b9309b0-8506-4c2b-8ad4-fcec439f0528",
     "showTitle": false,
     "title": ""
    }
   },
   "outputs": [
    {
     "data": {
      "text/html": [
       "<pre style=\"white-space:pre;overflow-x:auto;line-height:normal;font-family:Menlo,'DejaVu Sans Mono',consolas,'Courier New',monospace\"><span style=\"color: #7fbfbf; text-decoration-color: #7fbfbf\">2023-10-30 16:24:59 </span><span style=\"color: #000080; text-decoration-color: #000080\">INFO    </span> INFO:py4j.clientserver:Received command c on object id p0          <a href=\"file:///databricks/spark/python/lib/py4j-0.10.9.7-src.zip/py4j/clientserver.py\" target=\"_blank\"><span style=\"color: #7f7f7f; text-decoration-color: #7f7f7f\">clientserver.py</span></a><span style=\"color: #7f7f7f; text-decoration-color: #7f7f7f\">:</span><a href=\"file:///databricks/spark/python/lib/py4j-0.10.9.7-src.zip/py4j/clientserver.py#575\" target=\"_blank\"><span style=\"color: #7f7f7f; text-decoration-color: #7f7f7f\">575</span></a>\n",
       "</pre>\n"
      ],
      "text/plain": [
       "\u001b[2;36m2023-10-30 16:24:59\u001b[0m\u001b[2;36m \u001b[0m\u001b[34mINFO    \u001b[0m INFO:py4j.clientserver:Received command c on object id p0          \u001b]8;id=992373;file:///databricks/spark/python/lib/py4j-0.10.9.7-src.zip/py4j/clientserver.py\u001b\\\u001b[2mclientserver.py\u001b[0m\u001b]8;;\u001b\\\u001b[2m:\u001b[0m\u001b]8;id=72164;file:///databricks/spark/python/lib/py4j-0.10.9.7-src.zip/py4j/clientserver.py#575\u001b\\\u001b[2m575\u001b[0m\u001b]8;;\u001b\\\n"
      ]
     },
     "metadata": {},
     "output_type": "display_data"
    },
    {
     "name": "stdout",
     "output_type": "stream",
     "text": [
      "+--------------------+---------------------+--------------------+----------------------+------------------+--------------------+\n",
      "|          annotation|annotation_created_at|       annotation_id|annotation_modified_at|annotation_user_id|            input_id|\n",
      "+--------------------+---------------------+--------------------+----------------------+------------------+--------------------+\n",
      "|concepts {\\n  id:...|  10/27/% 12:48:   %5|448267668cd74cb9b...|   10/27/% 12:48:   %5|           mansi_k|              img111|\n",
      "|concepts {\\n  id:...|  10/27/% 12:48:   %5|4708d433b17e4a6a9...|   10/27/% 12:48:   %5|           mansi_k|              img211|\n",
      "|concepts {\\n  id:...|  10/27/% 12:02:   %5|5ec8c323c73b4e9ba...|   10/27/% 12:02:   %5|           mansi_k|             image02|\n",
      "|concepts {\\n  id:...|  10/27/% 12:02:   %5|b361c36483d74e63b...|   10/27/% 12:02:   %5|           mansi_k|             image03|\n",
      "|concepts {\\n  id:...|  10/27/% 12:02:   %5|c284d4b5158041139...|   10/27/% 12:02:   %5|           mansi_k|             image01|\n",
      "|concepts {\\n  id:...|  10/26/% 08:38:   %5|    PyJrCRgL7ZjFD2Cq|   10/26/% 08:38:   %5|           mansi_k|    07gGPEk8bIw97NcM|\n",
      "|concepts {\\n  id:...|  10/26/% 08:29:   %5|    ptOYoRAyzEvwREP3|   10/26/% 08:29:   %5|           mansi_k|    g7PNFAV6aenTJ3pn|\n",
      "|concepts {\\n  id:...|  10/23/% 09:06:   %5|2906a0eae56245aeb...|   10/23/% 09:06:   %5|           mansi_k|dataset1-train-24...|\n",
      "|concepts {\\n  id:...|  10/23/% 09:06:   %5|35a493759c904c349...|   10/23/% 09:06:   %5|           mansi_k|dataset1-train-35...|\n",
      "|concepts {\\n  id:...|  10/23/% 09:06:   %5|599398d3a9bd4dd4a...|   10/23/% 09:06:   %5|           mansi_k|dataset1-train-36...|\n",
      "|concepts {\\n  id:...|  10/23/% 09:06:   %5|83c3992c386e4b42b...|   10/23/% 09:06:   %5|           mansi_k|dataset1-train-33...|\n",
      "|concepts {\\n  id:...|  10/23/% 08:32:   %5|6d0da242a9604d6f8...|   10/23/% 08:32:   %5|           mansi_k|               img31|\n",
      "|concepts {\\n  id:...|  10/23/% 08:32:   %5|b7a6c059cca94c309...|   10/23/% 08:32:   %5|           mansi_k|               img11|\n",
      "|concepts {\\n  id:...|  10/23/% 08:32:   %5|f2bf9d91793a48fe8...|   10/23/% 08:32:   %5|           mansi_k|               img21|\n",
      "|concepts {\\n  id:...|  10/23/% 08:27:   %5|0a28d0a6b7a04234b...|   10/23/% 08:27:   %5|           mansi_k|                 c10|\n",
      "|concepts {\\n  id:...|  10/23/% 08:27:   %5|1699d2351f7e42afa...|   10/23/% 08:27:   %5|           mansi_k|                  c4|\n",
      "|concepts {\\n  id:...|  10/23/% 08:27:   %5|4ec53920e7e34e569...|   10/23/% 08:27:   %5|           mansi_k|                  c3|\n",
      "|concepts {\\n  id:...|  10/23/% 08:27:   %5|5bfb8934035c4b688...|   10/23/% 08:27:   %5|           mansi_k|                  c9|\n",
      "|concepts {\\n  id:...|  10/23/% 08:27:   %5|8fd99dc05eef46849...|   10/23/% 08:27:   %5|           mansi_k|                  c1|\n",
      "|concepts {\\n  id:...|  10/23/% 08:27:   %5|9426763104ea42fbb...|   10/23/% 08:27:   %5|           mansi_k|                  c7|\n",
      "|concepts {\\n  id:...|  10/23/% 08:27:   %5|aed44152eaad4fbcb...|   10/23/% 08:27:   %5|           mansi_k|                  c6|\n",
      "|concepts {\\n  id:...|  10/23/% 08:27:   %5|b3847d13486f4f118...|   10/23/% 08:27:   %5|           mansi_k|                  c2|\n",
      "|concepts {\\n  id:...|  10/23/% 08:27:   %5|d93bb8387f6743b8a...|   10/23/% 08:27:   %5|           mansi_k|                  c8|\n",
      "|concepts {\\n  id:...|  10/23/% 08:27:   %5|da7eb3483a654a42a...|   10/23/% 08:27:   %5|           mansi_k|                  c5|\n",
      "|concepts {\\n  id:...|  10/23/% 08:27:   %5|f65d75b3446b40ffa...|   10/23/% 08:27:   %5|           mansi_k|                 c11|\n",
      "+--------------------+---------------------+--------------------+----------------------+------------------+--------------------+\n",
      "\n"
     ]
    }
   ],
   "source": [
    "anns_df.show(30)"
   ]
  },
  {
   "cell_type": "markdown",
   "metadata": {
    "application/vnd.databricks.v1+cell": {
     "cellMetadata": {},
     "inputWidgets": {},
     "nuid": "baa48ce8-dddc-486b-8750-4a11a9bf062e",
     "showTitle": false,
     "title": ""
    }
   },
   "source": [
    "## Get both (image details + annotations) from Clarifai app"
   ]
  },
  {
   "cell_type": "code",
   "execution_count": null,
   "metadata": {
    "application/vnd.databricks.v1+cell": {
     "cellMetadata": {
      "byteLimit": 2048000,
      "rowLimit": 10000
     },
     "inputWidgets": {},
     "nuid": "2985b95c-9c33-4c9d-8c96-ae45803a5fba",
     "showTitle": false,
     "title": ""
    }
   },
   "outputs": [
    {
     "data": {
      "text/html": [
       "<pre style=\"white-space:pre;overflow-x:auto;line-height:normal;font-family:Menlo,'DejaVu Sans Mono',consolas,'Courier New',monospace\"><span style=\"color: #7fbfbf; text-decoration-color: #7fbfbf\">2023-10-30 16:25:03 </span><span style=\"color: #000080; text-decoration-color: #000080\">INFO    </span> INFO:py4j.clientserver:Received command c on object id p0          <a href=\"file:///databricks/spark/python/lib/py4j-0.10.9.7-src.zip/py4j/clientserver.py\" target=\"_blank\"><span style=\"color: #7f7f7f; text-decoration-color: #7f7f7f\">clientserver.py</span></a><span style=\"color: #7f7f7f; text-decoration-color: #7f7f7f\">:</span><a href=\"file:///databricks/spark/python/lib/py4j-0.10.9.7-src.zip/py4j/clientserver.py#575\" target=\"_blank\"><span style=\"color: #7f7f7f; text-decoration-color: #7f7f7f\">575</span></a>\n",
       "</pre>\n"
      ],
      "text/plain": [
       "\u001b[2;36m2023-10-30 16:25:03\u001b[0m\u001b[2;36m \u001b[0m\u001b[34mINFO    \u001b[0m INFO:py4j.clientserver:Received command c on object id p0          \u001b]8;id=644933;file:///databricks/spark/python/lib/py4j-0.10.9.7-src.zip/py4j/clientserver.py\u001b\\\u001b[2mclientserver.py\u001b[0m\u001b]8;;\u001b\\\u001b[2m:\u001b[0m\u001b]8;id=212126;file:///databricks/spark/python/lib/py4j-0.10.9.7-src.zip/py4j/clientserver.py#575\u001b\\\u001b[2m575\u001b[0m\u001b]8;;\u001b\\\n"
      ]
     },
     "metadata": {},
     "output_type": "display_data"
    },
    {
     "data": {
      "text/plain": [
       "26"
      ]
     },
     "execution_count": 101,
     "metadata": {},
     "output_type": "execute_result"
    }
   ],
   "source": [
    "all_df = dataset_obj.export_dataset_to_dataframe(input_type='image')\n",
    "all_df.count()"
   ]
  },
  {
   "cell_type": "code",
   "execution_count": null,
   "metadata": {
    "application/vnd.databricks.v1+cell": {
     "cellMetadata": {
      "byteLimit": 2048000,
      "rowLimit": 10000
     },
     "inputWidgets": {},
     "nuid": "ecd258a9-1ee1-4ee8-93d3-e363797e579e",
     "showTitle": false,
     "title": ""
    }
   },
   "outputs": [
    {
     "data": {
      "text/html": [
       "<pre style=\"white-space:pre;overflow-x:auto;line-height:normal;font-family:Menlo,'DejaVu Sans Mono',consolas,'Courier New',monospace\"><span style=\"color: #7fbfbf; text-decoration-color: #7fbfbf\">2023-10-30 16:25:13 </span><span style=\"color: #000080; text-decoration-color: #000080\">INFO    </span> INFO:py4j.clientserver:Received command c on object id p0          <a href=\"file:///databricks/spark/python/lib/py4j-0.10.9.7-src.zip/py4j/clientserver.py\" target=\"_blank\"><span style=\"color: #7f7f7f; text-decoration-color: #7f7f7f\">clientserver.py</span></a><span style=\"color: #7f7f7f; text-decoration-color: #7f7f7f\">:</span><a href=\"file:///databricks/spark/python/lib/py4j-0.10.9.7-src.zip/py4j/clientserver.py#575\" target=\"_blank\"><span style=\"color: #7f7f7f; text-decoration-color: #7f7f7f\">575</span></a>\n",
       "</pre>\n"
      ],
      "text/plain": [
       "\u001b[2;36m2023-10-30 16:25:13\u001b[0m\u001b[2;36m \u001b[0m\u001b[34mINFO    \u001b[0m INFO:py4j.clientserver:Received command c on object id p0          \u001b]8;id=152151;file:///databricks/spark/python/lib/py4j-0.10.9.7-src.zip/py4j/clientserver.py\u001b\\\u001b[2mclientserver.py\u001b[0m\u001b]8;;\u001b\\\u001b[2m:\u001b[0m\u001b]8;id=878352;file:///databricks/spark/python/lib/py4j-0.10.9.7-src.zip/py4j/clientserver.py#575\u001b\\\u001b[2m575\u001b[0m\u001b]8;;\u001b\\\n"
      ]
     },
     "metadata": {},
     "output_type": "display_data"
    },
    {
     "name": "stdout",
     "output_type": "stream",
     "text": [
      "+--------------------+--------------------+-------------------+--------------------+-------------------+--------------------+---------------------+--------------------+----------------------+------------------+\n",
      "|          image_info|           image_url|   input_created_at|            input_id|  input_modified_at|          annotation|annotation_created_at|       annotation_id|annotation_modified_at|annotation_user_id|\n",
      "+--------------------+--------------------+-------------------+--------------------+-------------------+--------------------+---------------------+--------------------+----------------------+------------------+\n",
      "|width: 872\\nheigh...|https://cdni.auto...|10/27/% 12:48:   %5|              img211|10/27/% 12:48:   %5|concepts {\\n  id:...|  10/27/% 12:48:   %5|4708d433b17e4a6a9...|   10/27/% 12:48:   %5|           mansi_k|\n",
      "|width: 872\\nheigh...|https://cdni.auto...|10/27/% 12:48:   %5|              img111|10/27/% 12:48:   %5|concepts {\\n  id:...|  10/27/% 12:48:   %5|448267668cd74cb9b...|   10/27/% 12:48:   %5|           mansi_k|\n",
      "|width: 900\\nheigh...|https://samples.c...|10/27/% 12:02:   %5|             image01|10/27/% 12:02:   %5|concepts {\\n  id:...|  10/27/% 12:02:   %5|c284d4b5158041139...|   10/27/% 12:02:   %5|           mansi_k|\n",
      "|width: 900\\nheigh...|https://samples.c...|10/27/% 12:02:   %5|             image03|10/27/% 12:02:   %5|concepts {\\n  id:...|  10/27/% 12:02:   %5|b361c36483d74e63b...|   10/27/% 12:02:   %5|           mansi_k|\n",
      "|width: 512\\nheigh...|https://samples.c...|10/27/% 12:02:   %5|             image02|10/27/% 12:02:   %5|concepts {\\n  id:...|  10/27/% 12:02:   %5|5ec8c323c73b4e9ba...|   10/27/% 12:02:   %5|           mansi_k|\n",
      "|width: 900\\nheigh...|https://data.clar...|10/26/% 08:28:   %5|    SjICZ3CwpUUVb411|10/26/% 08:28:   %5|                NULL|                 NULL|                NULL|                  NULL|              NULL|\n",
      "|width: 300\\nheigh...|https://data.clar...|10/25/% 16:11:   %5|    07gGPEk8bIw97NcM|10/25/% 16:11:   %5|concepts {\\n  id:...|  10/26/% 08:38:   %5|    PyJrCRgL7ZjFD2Cq|   10/26/% 08:38:   %5|           mansi_k|\n",
      "|width: 1600\\nheig...|https://data.clar...|10/25/% 12:52:   %5|    g7PNFAV6aenTJ3pn|10/25/% 12:52:   %5|concepts {\\n  id:...|  10/26/% 08:29:   %5|    ptOYoRAyzEvwREP3|   10/26/% 08:29:   %5|           mansi_k|\n",
      "|width: 512\\nheigh...|https://data.clar...|10/23/% 09:06:   %5|dataset1-train-36...|10/23/% 09:06:   %5|concepts {\\n  id:...|  10/23/% 09:06:   %5|599398d3a9bd4dd4a...|   10/23/% 09:06:   %5|           mansi_k|\n",
      "|width: 512\\nheigh...|https://data.clar...|10/23/% 09:06:   %5|dataset1-train-35...|10/23/% 09:06:   %5|concepts {\\n  id:...|  10/23/% 09:06:   %5|35a493759c904c349...|   10/23/% 09:06:   %5|           mansi_k|\n",
      "|width: 512\\nheigh...|https://data.clar...|10/23/% 09:06:   %5|dataset1-train-33...|10/23/% 09:06:   %5|concepts {\\n  id:...|  10/23/% 09:06:   %5|83c3992c386e4b42b...|   10/23/% 09:06:   %5|           mansi_k|\n",
      "|width: 512\\nheigh...|https://data.clar...|10/23/% 09:06:   %5|dataset1-train-24...|10/23/% 09:06:   %5|concepts {\\n  id:...|  10/23/% 09:06:   %5|2906a0eae56245aeb...|   10/23/% 09:06:   %5|           mansi_k|\n",
      "|width: 626\\nheigh...|https://img.freep...|10/23/% 08:32:   %5|               img11|10/23/% 08:32:   %5|concepts {\\n  id:...|  10/23/% 08:32:   %5|b7a6c059cca94c309...|   10/23/% 08:32:   %5|           mansi_k|\n",
      "|width: 1200\\nheig...|https://mymodernm...|10/23/% 08:32:   %5|               img31|10/23/% 08:32:   %5|concepts {\\n  id:...|  10/23/% 08:32:   %5|6d0da242a9604d6f8...|   10/23/% 08:32:   %5|           mansi_k|\n",
      "|width: 1000\\nheig...|https://images.un...|10/23/% 08:32:   %5|               img21|10/23/% 08:32:   %5|concepts {\\n  id:...|  10/23/% 08:32:   %5|f2bf9d91793a48fe8...|   10/23/% 08:32:   %5|           mansi_k|\n",
      "|width: 1000\\nheig...|https://data.clar...|10/23/% 08:27:   %5|                 c10|10/23/% 08:27:   %5|concepts {\\n  id:...|  10/23/% 08:27:   %5|0a28d0a6b7a04234b...|   10/23/% 08:27:   %5|           mansi_k|\n",
      "|width: 612\\nheigh...|https://data.clar...|10/23/% 08:27:   %5|                  c6|10/23/% 08:27:   %5|concepts {\\n  id:...|  10/23/% 08:27:   %5|aed44152eaad4fbcb...|   10/23/% 08:27:   %5|           mansi_k|\n",
      "|width: 930\\nheigh...|https://data.clar...|10/23/% 08:27:   %5|                  c8|10/23/% 08:27:   %5|concepts {\\n  id:...|  10/23/% 08:27:   %5|d93bb8387f6743b8a...|   10/23/% 08:27:   %5|           mansi_k|\n",
      "|width: 1200\\nheig...|https://data.clar...|10/23/% 08:27:   %5|                  c3|10/23/% 08:27:   %5|concepts {\\n  id:...|  10/23/% 08:27:   %5|4ec53920e7e34e569...|   10/23/% 08:27:   %5|           mansi_k|\n",
      "|width: 540\\nheigh...|https://data.clar...|10/23/% 08:27:   %5|                  c7|10/23/% 08:27:   %5|concepts {\\n  id:...|  10/23/% 08:27:   %5|9426763104ea42fbb...|   10/23/% 08:27:   %5|           mansi_k|\n",
      "|width: 1200\\nheig...|https://data.clar...|10/23/% 08:27:   %5|                  c9|10/23/% 08:27:   %5|concepts {\\n  id:...|  10/23/% 08:27:   %5|5bfb8934035c4b688...|   10/23/% 08:27:   %5|           mansi_k|\n",
      "|width: 736\\nheigh...|https://data.clar...|10/23/% 08:27:   %5|                  c1|10/23/% 08:27:   %5|concepts {\\n  id:...|  10/23/% 08:27:   %5|8fd99dc05eef46849...|   10/23/% 08:27:   %5|           mansi_k|\n",
      "|width: 1200\\nheig...|https://data.clar...|10/23/% 08:27:   %5|                 c11|10/23/% 08:27:   %5|concepts {\\n  id:...|  10/23/% 08:27:   %5|f65d75b3446b40ffa...|   10/23/% 08:27:   %5|           mansi_k|\n",
      "|width: 1500\\nheig...|https://data.clar...|10/23/% 08:27:   %5|                  c2|10/23/% 08:27:   %5|concepts {\\n  id:...|  10/23/% 08:27:   %5|b3847d13486f4f118...|   10/23/% 08:27:   %5|           mansi_k|\n",
      "|width: 1600\\nheig...|https://data.clar...|10/23/% 08:27:   %5|                  c4|10/23/% 08:27:   %5|concepts {\\n  id:...|  10/23/% 08:27:   %5|1699d2351f7e42afa...|   10/23/% 08:27:   %5|           mansi_k|\n",
      "|width: 500\\nheigh...|https://data.clar...|10/23/% 08:27:   %5|                  c5|10/23/% 08:27:   %5|concepts {\\n  id:...|  10/23/% 08:27:   %5|da7eb3483a654a42a...|   10/23/% 08:27:   %5|           mansi_k|\n",
      "+--------------------+--------------------+-------------------+--------------------+-------------------+--------------------+---------------------+--------------------+----------------------+------------------+\n",
      "\n"
     ]
    }
   ],
   "source": [
    "all_df.show(30)"
   ]
  },
  {
   "cell_type": "markdown",
   "metadata": {
    "application/vnd.databricks.v1+cell": {
     "cellMetadata": {},
     "inputWidgets": {},
     "nuid": "2131fa19-8e5e-49ef-98d2-297960e3b686",
     "showTitle": false,
     "title": ""
    }
   },
   "source": [
    "## ClarifaiPyspark object for Clarifai app with text dataset"
   ]
  },
  {
   "cell_type": "code",
   "execution_count": null,
   "metadata": {
    "application/vnd.databricks.v1+cell": {
     "cellMetadata": {
      "byteLimit": 2048000,
      "rowLimit": 10000
     },
     "inputWidgets": {},
     "nuid": "b910f751-7a93-4550-afcc-042af7719661",
     "showTitle": false,
     "title": ""
    }
   },
   "outputs": [
    {
     "data": {
      "text/html": [
       "<pre style=\"white-space:pre;overflow-x:auto;line-height:normal;font-family:Menlo,'DejaVu Sans Mono',consolas,'Courier New',monospace\"><span style=\"color: #7fbfbf; text-decoration-color: #7fbfbf\">2023-10-30 16:25:44 </span><span style=\"color: #000080; text-decoration-color: #000080\">INFO    </span> INFO:py4j.clientserver:Received command c on object id p0          <a href=\"file:///databricks/spark/python/lib/py4j-0.10.9.7-src.zip/py4j/clientserver.py\" target=\"_blank\"><span style=\"color: #7f7f7f; text-decoration-color: #7f7f7f\">clientserver.py</span></a><span style=\"color: #7f7f7f; text-decoration-color: #7f7f7f\">:</span><a href=\"file:///databricks/spark/python/lib/py4j-0.10.9.7-src.zip/py4j/clientserver.py#575\" target=\"_blank\"><span style=\"color: #7f7f7f; text-decoration-color: #7f7f7f\">575</span></a>\n",
       "</pre>\n"
      ],
      "text/plain": [
       "\u001b[2;36m2023-10-30 16:25:44\u001b[0m\u001b[2;36m \u001b[0m\u001b[34mINFO    \u001b[0m INFO:py4j.clientserver:Received command c on object id p0          \u001b]8;id=693724;file:///databricks/spark/python/lib/py4j-0.10.9.7-src.zip/py4j/clientserver.py\u001b\\\u001b[2mclientserver.py\u001b[0m\u001b]8;;\u001b\\\u001b[2m:\u001b[0m\u001b]8;id=419858;file:///databricks/spark/python/lib/py4j-0.10.9.7-src.zip/py4j/clientserver.py#575\u001b\\\u001b[2m575\u001b[0m\u001b]8;;\u001b\\\n"
      ]
     },
     "metadata": {},
     "output_type": "display_data"
    }
   ],
   "source": [
    "user_id = 'user_id'\n",
    "app_id = 'app_id'\n",
    "dataset_id = 'dataset_id'\n",
    "\n",
    "cspark_obj = ClarifaiPySpark(user_id=user_id, app_id=app_id, pat=CLARIFAI_PAT)\n",
    "dataset_obj = cspark_obj.dataset(dataset_id=dataset_id)"
   ]
  },
  {
   "cell_type": "markdown",
   "metadata": {
    "application/vnd.databricks.v1+cell": {
     "cellMetadata": {},
     "inputWidgets": {},
     "nuid": "cffbb212-5356-4708-92cc-5be306ca3421",
     "showTitle": false,
     "title": ""
    }
   },
   "source": [
    "## Get text details from Clarifai dataset"
   ]
  },
  {
   "cell_type": "code",
   "execution_count": null,
   "metadata": {
    "application/vnd.databricks.v1+cell": {
     "cellMetadata": {
      "byteLimit": 2048000,
      "rowLimit": 10000
     },
     "inputWidgets": {},
     "nuid": "9ba75711-a064-4c76-a094-f14032e4e12b",
     "showTitle": false,
     "title": ""
    }
   },
   "outputs": [
    {
     "data": {
      "text/html": [
       "<pre style=\"white-space:pre;overflow-x:auto;line-height:normal;font-family:Menlo,'DejaVu Sans Mono',consolas,'Courier New',monospace\"><span style=\"color: #7fbfbf; text-decoration-color: #7fbfbf\">2023-10-30 16:25:48 </span><span style=\"color: #000080; text-decoration-color: #000080\">INFO    </span> INFO:py4j.clientserver:Received command c on object id p0          <a href=\"file:///databricks/spark/python/lib/py4j-0.10.9.7-src.zip/py4j/clientserver.py\" target=\"_blank\"><span style=\"color: #7f7f7f; text-decoration-color: #7f7f7f\">clientserver.py</span></a><span style=\"color: #7f7f7f; text-decoration-color: #7f7f7f\">:</span><a href=\"file:///databricks/spark/python/lib/py4j-0.10.9.7-src.zip/py4j/clientserver.py#575\" target=\"_blank\"><span style=\"color: #7f7f7f; text-decoration-color: #7f7f7f\">575</span></a>\n",
       "</pre>\n"
      ],
      "text/plain": [
       "\u001b[2;36m2023-10-30 16:25:48\u001b[0m\u001b[2;36m \u001b[0m\u001b[34mINFO    \u001b[0m INFO:py4j.clientserver:Received command c on object id p0          \u001b]8;id=582577;file:///databricks/spark/python/lib/py4j-0.10.9.7-src.zip/py4j/clientserver.py\u001b\\\u001b[2mclientserver.py\u001b[0m\u001b]8;;\u001b\\\u001b[2m:\u001b[0m\u001b]8;id=112256;file:///databricks/spark/python/lib/py4j-0.10.9.7-src.zip/py4j/clientserver.py#575\u001b\\\u001b[2m575\u001b[0m\u001b]8;;\u001b\\\n"
      ]
     },
     "metadata": {},
     "output_type": "display_data"
    },
    {
     "data": {
      "text/plain": [
       "7"
      ]
     },
     "execution_count": 104,
     "metadata": {},
     "output_type": "execute_result"
    }
   ],
   "source": [
    "inputs_df = dataset_obj.export_inputs_to_dataframe(input_type='text')\n",
    "inputs_df.count()"
   ]
  },
  {
   "cell_type": "code",
   "execution_count": null,
   "metadata": {
    "application/vnd.databricks.v1+cell": {
     "cellMetadata": {
      "byteLimit": 2048000,
      "rowLimit": 10000
     },
     "inputWidgets": {},
     "nuid": "64ae360f-9272-4d7a-802a-9b0516059710",
     "showTitle": false,
     "title": ""
    }
   },
   "outputs": [
    {
     "data": {
      "text/html": [
       "<pre style=\"white-space:pre;overflow-x:auto;line-height:normal;font-family:Menlo,'DejaVu Sans Mono',consolas,'Courier New',monospace\"><span style=\"color: #7fbfbf; text-decoration-color: #7fbfbf\">2023-10-30 16:25:56 </span><span style=\"color: #000080; text-decoration-color: #000080\">INFO    </span> INFO:py4j.clientserver:Received command c on object id p0          <a href=\"file:///databricks/spark/python/lib/py4j-0.10.9.7-src.zip/py4j/clientserver.py\" target=\"_blank\"><span style=\"color: #7f7f7f; text-decoration-color: #7f7f7f\">clientserver.py</span></a><span style=\"color: #7f7f7f; text-decoration-color: #7f7f7f\">:</span><a href=\"file:///databricks/spark/python/lib/py4j-0.10.9.7-src.zip/py4j/clientserver.py#575\" target=\"_blank\"><span style=\"color: #7f7f7f; text-decoration-color: #7f7f7f\">575</span></a>\n",
       "</pre>\n"
      ],
      "text/plain": [
       "\u001b[2;36m2023-10-30 16:25:56\u001b[0m\u001b[2;36m \u001b[0m\u001b[34mINFO    \u001b[0m INFO:py4j.clientserver:Received command c on object id p0          \u001b]8;id=405664;file:///databricks/spark/python/lib/py4j-0.10.9.7-src.zip/py4j/clientserver.py\u001b\\\u001b[2mclientserver.py\u001b[0m\u001b]8;;\u001b\\\u001b[2m:\u001b[0m\u001b]8;id=751320;file:///databricks/spark/python/lib/py4j-0.10.9.7-src.zip/py4j/clientserver.py#575\u001b\\\u001b[2m575\u001b[0m\u001b]8;;\u001b\\\n"
      ]
     },
     "metadata": {},
     "output_type": "display_data"
    },
    {
     "name": "stdout",
     "output_type": "stream",
     "text": [
      "+-------------------+----------------+-------------------+--------------------+--------------------+\n",
      "|   input_created_at|        input_id|  input_modified_at|           text_info|            text_url|\n",
      "+-------------------+----------------+-------------------+--------------------+--------------------+\n",
      "|10/30/% 15:04:   %5|XFmGD0xHlNXgGIXF|10/30/% 15:04:   %5|char_count: 3\\nen...|https://data.clar...|\n",
      "|10/30/% 12:46:   %5|Ak1n8DZ1l1RWKATv|10/30/% 12:46:   %5|char_count: 6\\nen...|https://data.clar...|\n",
      "|10/26/% 12:45:   %5|PKaXcNjJ5fJ7wZqR|10/26/% 12:46:   %5|char_count: 18\\ne...|https://data.clar...|\n",
      "|10/26/% 12:45:   %5|IYMxwJq0jjwJguLE|10/26/% 12:46:   %5|char_count: 22\\ne...|https://data.clar...|\n",
      "|10/23/% 08:38:   %5|             t11|10/23/% 08:38:   %5|char_count: 17\\ne...|https://data.clar...|\n",
      "|10/23/% 08:38:   %5|             t31|10/23/% 08:38:   %5|char_count: 28\\ne...|https://data.clar...|\n",
      "|10/23/% 08:38:   %5|             t21|10/23/% 08:38:   %5|char_count: 20\\ne...|https://data.clar...|\n",
      "+-------------------+----------------+-------------------+--------------------+--------------------+\n",
      "\n"
     ]
    }
   ],
   "source": [
    "inputs_df.show()"
   ]
  },
  {
   "cell_type": "markdown",
   "metadata": {
    "application/vnd.databricks.v1+cell": {
     "cellMetadata": {},
     "inputWidgets": {},
     "nuid": "f27659ba-ad70-4efa-bfdb-58d816135969",
     "showTitle": false,
     "title": ""
    }
   },
   "source": [
    "## Get image annotations from Clarifai app"
   ]
  },
  {
   "cell_type": "code",
   "execution_count": null,
   "metadata": {
    "application/vnd.databricks.v1+cell": {
     "cellMetadata": {
      "byteLimit": 2048000,
      "rowLimit": 10000
     },
     "inputWidgets": {},
     "nuid": "e240d247-8a30-42eb-93e3-9cc14eb15745",
     "showTitle": false,
     "title": ""
    }
   },
   "outputs": [
    {
     "data": {
      "text/html": [
       "<pre style=\"white-space:pre;overflow-x:auto;line-height:normal;font-family:Menlo,'DejaVu Sans Mono',consolas,'Courier New',monospace\"><span style=\"color: #7fbfbf; text-decoration-color: #7fbfbf\">2023-10-30 16:26:04 </span><span style=\"color: #000080; text-decoration-color: #000080\">INFO    </span> INFO:py4j.clientserver:Received command c on object id p0          <a href=\"file:///databricks/spark/python/lib/py4j-0.10.9.7-src.zip/py4j/clientserver.py\" target=\"_blank\"><span style=\"color: #7f7f7f; text-decoration-color: #7f7f7f\">clientserver.py</span></a><span style=\"color: #7f7f7f; text-decoration-color: #7f7f7f\">:</span><a href=\"file:///databricks/spark/python/lib/py4j-0.10.9.7-src.zip/py4j/clientserver.py#575\" target=\"_blank\"><span style=\"color: #7f7f7f; text-decoration-color: #7f7f7f\">575</span></a>\n",
       "</pre>\n"
      ],
      "text/plain": [
       "\u001b[2;36m2023-10-30 16:26:04\u001b[0m\u001b[2;36m \u001b[0m\u001b[34mINFO    \u001b[0m INFO:py4j.clientserver:Received command c on object id p0          \u001b]8;id=487881;file:///databricks/spark/python/lib/py4j-0.10.9.7-src.zip/py4j/clientserver.py\u001b\\\u001b[2mclientserver.py\u001b[0m\u001b]8;;\u001b\\\u001b[2m:\u001b[0m\u001b]8;id=234766;file:///databricks/spark/python/lib/py4j-0.10.9.7-src.zip/py4j/clientserver.py#575\u001b\\\u001b[2m575\u001b[0m\u001b]8;;\u001b\\\n"
      ]
     },
     "metadata": {},
     "output_type": "display_data"
    },
    {
     "data": {
      "text/plain": [
       "8"
      ]
     },
     "execution_count": 106,
     "metadata": {},
     "output_type": "execute_result"
    }
   ],
   "source": [
    "anns_df = dataset_obj.export_annotations_to_dataframe()\n",
    "anns_df.count()"
   ]
  },
  {
   "cell_type": "code",
   "execution_count": null,
   "metadata": {
    "application/vnd.databricks.v1+cell": {
     "cellMetadata": {
      "byteLimit": 2048000,
      "rowLimit": 10000
     },
     "inputWidgets": {},
     "nuid": "04632c50-0c68-4e40-8820-d0d1ef8aef16",
     "showTitle": false,
     "title": ""
    }
   },
   "outputs": [
    {
     "data": {
      "text/html": [
       "<pre style=\"white-space:pre;overflow-x:auto;line-height:normal;font-family:Menlo,'DejaVu Sans Mono',consolas,'Courier New',monospace\"><span style=\"color: #7fbfbf; text-decoration-color: #7fbfbf\">2023-10-30 16:26:15 </span><span style=\"color: #000080; text-decoration-color: #000080\">INFO    </span> INFO:py4j.clientserver:Received command c on object id p0          <a href=\"file:///databricks/spark/python/lib/py4j-0.10.9.7-src.zip/py4j/clientserver.py\" target=\"_blank\"><span style=\"color: #7f7f7f; text-decoration-color: #7f7f7f\">clientserver.py</span></a><span style=\"color: #7f7f7f; text-decoration-color: #7f7f7f\">:</span><a href=\"file:///databricks/spark/python/lib/py4j-0.10.9.7-src.zip/py4j/clientserver.py#575\" target=\"_blank\"><span style=\"color: #7f7f7f; text-decoration-color: #7f7f7f\">575</span></a>\n",
       "</pre>\n"
      ],
      "text/plain": [
       "\u001b[2;36m2023-10-30 16:26:15\u001b[0m\u001b[2;36m \u001b[0m\u001b[34mINFO    \u001b[0m INFO:py4j.clientserver:Received command c on object id p0          \u001b]8;id=184938;file:///databricks/spark/python/lib/py4j-0.10.9.7-src.zip/py4j/clientserver.py\u001b\\\u001b[2mclientserver.py\u001b[0m\u001b]8;;\u001b\\\u001b[2m:\u001b[0m\u001b]8;id=342517;file:///databricks/spark/python/lib/py4j-0.10.9.7-src.zip/py4j/clientserver.py#575\u001b\\\u001b[2m575\u001b[0m\u001b]8;;\u001b\\\n"
      ]
     },
     "metadata": {},
     "output_type": "display_data"
    },
    {
     "name": "stdout",
     "output_type": "stream",
     "text": [
      "+--------------------+---------------------+--------------------+----------------------+------------------+----------------+\n",
      "|          annotation|annotation_created_at|       annotation_id|annotation_modified_at|annotation_user_id|        input_id|\n",
      "+--------------------+---------------------+--------------------+----------------------+------------------+----------------+\n",
      "|text {\\n  url: \"h...|  10/30/% 15:04:   %5|f602439fd7b14aa6b...|   10/30/% 15:04:   %5|           mansi_k|XFmGD0xHlNXgGIXF|\n",
      "|concepts {\\n  id:...|  10/30/% 13:02:   %5|    TVFLGTHd8NryFWsY|   10/30/% 13:02:   %5|           mansi_k|Ak1n8DZ1l1RWKATv|\n",
      "|text {\\n  url: \"h...|  10/30/% 12:46:   %5|125b80fb08604e36a...|   10/30/% 12:46:   %5|           mansi_k|Ak1n8DZ1l1RWKATv|\n",
      "|concepts {\\n  id:...|  10/26/% 12:45:   %5|190e2387564c416f8...|   10/26/% 12:45:   %5|           mansi_k|PKaXcNjJ5fJ7wZqR|\n",
      "|concepts {\\n  id:...|  10/26/% 12:45:   %5|22757a0e73fa4cac8...|   10/26/% 12:45:   %5|           mansi_k|IYMxwJq0jjwJguLE|\n",
      "|concepts {\\n  id:...|  10/26/% 12:43:   %5|    NrOaWbbfH6QEVFBW|   10/26/% 12:43:   %5|           mansi_k|             t11|\n",
      "|concepts {\\n  id:...|  10/26/% 12:43:   %5|    8sH9gt43eqx3rBYF|   10/26/% 12:43:   %5|           mansi_k|             t21|\n",
      "|concepts {\\n  id:...|  10/26/% 12:43:   %5|    fc9VQUXheCJaZu28|   10/26/% 12:43:   %5|           mansi_k|             t31|\n",
      "+--------------------+---------------------+--------------------+----------------------+------------------+----------------+\n",
      "\n"
     ]
    }
   ],
   "source": [
    "anns_df.show(30)"
   ]
  },
  {
   "cell_type": "markdown",
   "metadata": {
    "application/vnd.databricks.v1+cell": {
     "cellMetadata": {},
     "inputWidgets": {},
     "nuid": "2bde8bee-04de-476f-8843-a8e8f2936742",
     "showTitle": false,
     "title": ""
    }
   },
   "source": [
    "## Get both (image details + annotations) from Clarifai app"
   ]
  },
  {
   "cell_type": "code",
   "execution_count": null,
   "metadata": {
    "application/vnd.databricks.v1+cell": {
     "cellMetadata": {
      "byteLimit": 2048000,
      "rowLimit": 10000
     },
     "inputWidgets": {},
     "nuid": "47ff9dec-07ee-49f2-9480-0f0846190ca3",
     "showTitle": false,
     "title": ""
    }
   },
   "outputs": [
    {
     "data": {
      "text/html": [
       "<pre style=\"white-space:pre;overflow-x:auto;line-height:normal;font-family:Menlo,'DejaVu Sans Mono',consolas,'Courier New',monospace\"><span style=\"color: #7fbfbf; text-decoration-color: #7fbfbf\">2023-10-30 16:26:22 </span><span style=\"color: #000080; text-decoration-color: #000080\">INFO    </span> INFO:py4j.clientserver:Received command c on object id p0          <a href=\"file:///databricks/spark/python/lib/py4j-0.10.9.7-src.zip/py4j/clientserver.py\" target=\"_blank\"><span style=\"color: #7f7f7f; text-decoration-color: #7f7f7f\">clientserver.py</span></a><span style=\"color: #7f7f7f; text-decoration-color: #7f7f7f\">:</span><a href=\"file:///databricks/spark/python/lib/py4j-0.10.9.7-src.zip/py4j/clientserver.py#575\" target=\"_blank\"><span style=\"color: #7f7f7f; text-decoration-color: #7f7f7f\">575</span></a>\n",
       "</pre>\n"
      ],
      "text/plain": [
       "\u001b[2;36m2023-10-30 16:26:22\u001b[0m\u001b[2;36m \u001b[0m\u001b[34mINFO    \u001b[0m INFO:py4j.clientserver:Received command c on object id p0          \u001b]8;id=375615;file:///databricks/spark/python/lib/py4j-0.10.9.7-src.zip/py4j/clientserver.py\u001b\\\u001b[2mclientserver.py\u001b[0m\u001b]8;;\u001b\\\u001b[2m:\u001b[0m\u001b]8;id=409426;file:///databricks/spark/python/lib/py4j-0.10.9.7-src.zip/py4j/clientserver.py#575\u001b\\\u001b[2m575\u001b[0m\u001b]8;;\u001b\\\n"
      ]
     },
     "metadata": {},
     "output_type": "display_data"
    },
    {
     "data": {
      "text/plain": [
       "8"
      ]
     },
     "execution_count": 108,
     "metadata": {},
     "output_type": "execute_result"
    }
   ],
   "source": [
    "all_df = dataset_obj.export_dataset_to_dataframe(input_type='text')\n",
    "all_df.count()"
   ]
  },
  {
   "cell_type": "code",
   "execution_count": null,
   "metadata": {
    "application/vnd.databricks.v1+cell": {
     "cellMetadata": {
      "byteLimit": 2048000,
      "rowLimit": 10000
     },
     "inputWidgets": {},
     "nuid": "051a2963-f706-41d1-b3e9-1eae66b8a145",
     "showTitle": false,
     "title": ""
    }
   },
   "outputs": [
    {
     "data": {
      "text/html": [
       "<pre style=\"white-space:pre;overflow-x:auto;line-height:normal;font-family:Menlo,'DejaVu Sans Mono',consolas,'Courier New',monospace\"><span style=\"color: #7fbfbf; text-decoration-color: #7fbfbf\">2023-10-30 16:26:31 </span><span style=\"color: #000080; text-decoration-color: #000080\">INFO    </span> INFO:py4j.clientserver:Received command c on object id p0          <a href=\"file:///databricks/spark/python/lib/py4j-0.10.9.7-src.zip/py4j/clientserver.py\" target=\"_blank\"><span style=\"color: #7f7f7f; text-decoration-color: #7f7f7f\">clientserver.py</span></a><span style=\"color: #7f7f7f; text-decoration-color: #7f7f7f\">:</span><a href=\"file:///databricks/spark/python/lib/py4j-0.10.9.7-src.zip/py4j/clientserver.py#575\" target=\"_blank\"><span style=\"color: #7f7f7f; text-decoration-color: #7f7f7f\">575</span></a>\n",
       "</pre>\n"
      ],
      "text/plain": [
       "\u001b[2;36m2023-10-30 16:26:31\u001b[0m\u001b[2;36m \u001b[0m\u001b[34mINFO    \u001b[0m INFO:py4j.clientserver:Received command c on object id p0          \u001b]8;id=911184;file:///databricks/spark/python/lib/py4j-0.10.9.7-src.zip/py4j/clientserver.py\u001b\\\u001b[2mclientserver.py\u001b[0m\u001b]8;;\u001b\\\u001b[2m:\u001b[0m\u001b]8;id=784083;file:///databricks/spark/python/lib/py4j-0.10.9.7-src.zip/py4j/clientserver.py#575\u001b\\\u001b[2m575\u001b[0m\u001b]8;;\u001b\\\n"
      ]
     },
     "metadata": {},
     "output_type": "display_data"
    },
    {
     "name": "stdout",
     "output_type": "stream",
     "text": [
      "+-------------------+----------------+-------------------+--------------------+--------------------+--------------------+---------------------+--------------------+----------------------+------------------+\n",
      "|   input_created_at|        input_id|  input_modified_at|           text_info|            text_url|          annotation|annotation_created_at|       annotation_id|annotation_modified_at|annotation_user_id|\n",
      "+-------------------+----------------+-------------------+--------------------+--------------------+--------------------+---------------------+--------------------+----------------------+------------------+\n",
      "|10/30/% 15:04:   %5|XFmGD0xHlNXgGIXF|10/30/% 15:04:   %5|char_count: 3\\nen...|https://data.clar...|text {\\n  url: \"h...|  10/30/% 15:04:   %5|f602439fd7b14aa6b...|   10/30/% 15:04:   %5|           mansi_k|\n",
      "|10/30/% 12:46:   %5|Ak1n8DZ1l1RWKATv|10/30/% 12:46:   %5|char_count: 6\\nen...|https://data.clar...|text {\\n  url: \"h...|  10/30/% 12:46:   %5|125b80fb08604e36a...|   10/30/% 12:46:   %5|           mansi_k|\n",
      "|10/30/% 12:46:   %5|Ak1n8DZ1l1RWKATv|10/30/% 12:46:   %5|char_count: 6\\nen...|https://data.clar...|concepts {\\n  id:...|  10/30/% 13:02:   %5|    TVFLGTHd8NryFWsY|   10/30/% 13:02:   %5|           mansi_k|\n",
      "|10/26/% 12:45:   %5|PKaXcNjJ5fJ7wZqR|10/26/% 12:46:   %5|char_count: 18\\ne...|https://data.clar...|concepts {\\n  id:...|  10/26/% 12:45:   %5|190e2387564c416f8...|   10/26/% 12:45:   %5|           mansi_k|\n",
      "|10/26/% 12:45:   %5|IYMxwJq0jjwJguLE|10/26/% 12:46:   %5|char_count: 22\\ne...|https://data.clar...|concepts {\\n  id:...|  10/26/% 12:45:   %5|22757a0e73fa4cac8...|   10/26/% 12:45:   %5|           mansi_k|\n",
      "|10/23/% 08:38:   %5|             t11|10/23/% 08:38:   %5|char_count: 17\\ne...|https://data.clar...|concepts {\\n  id:...|  10/26/% 12:43:   %5|    NrOaWbbfH6QEVFBW|   10/26/% 12:43:   %5|           mansi_k|\n",
      "|10/23/% 08:38:   %5|             t31|10/23/% 08:38:   %5|char_count: 28\\ne...|https://data.clar...|concepts {\\n  id:...|  10/26/% 12:43:   %5|    fc9VQUXheCJaZu28|   10/26/% 12:43:   %5|           mansi_k|\n",
      "|10/23/% 08:38:   %5|             t21|10/23/% 08:38:   %5|char_count: 20\\ne...|https://data.clar...|concepts {\\n  id:...|  10/26/% 12:43:   %5|    8sH9gt43eqx3rBYF|   10/26/% 12:43:   %5|           mansi_k|\n",
      "+-------------------+----------------+-------------------+--------------------+--------------------+--------------------+---------------------+--------------------+----------------------+------------------+\n",
      "\n"
     ]
    }
   ],
   "source": [
    "all_df.show(30)"
   ]
  }
 ],
 "metadata": {
  "application/vnd.databricks.v1+notebook": {
   "dashboards": [],
   "language": "python",
   "notebookMetadata": {
    "pythonIndentUnit": 4
   },
   "notebookName": "export_to_df_demo",
   "widgets": {}
  },
  "language_info": {
   "name": "python"
  }
 },
 "nbformat": 4,
 "nbformat_minor": 0
}
