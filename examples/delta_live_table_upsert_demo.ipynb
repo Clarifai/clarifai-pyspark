{
 "cells": [
  {
   "cell_type": "markdown",
   "metadata": {
    "application/vnd.databricks.v1+cell": {
     "cellMetadata": {},
     "inputWidgets": {},
     "nuid": "51d88ec5-fccd-4de0-bd69-43e328a5db05",
     "showTitle": false,
     "title": ""
    }
   },
   "source": [
    "### Package installations"
   ]
  },
  {
   "cell_type": "code",
   "execution_count": null,
   "metadata": {
    "application/vnd.databricks.v1+cell": {
     "cellMetadata": {
      "byteLimit": 2048000,
      "rowLimit": 10000
     },
     "inputWidgets": {},
     "nuid": "c2c5fe14-00cf-4f72-9b64-4750152f19a7",
     "showTitle": false,
     "title": ""
    }
   },
   "outputs": [],
   "source": [
    "%pip install clarifai-pyspark"
   ]
  },
  {
   "cell_type": "markdown",
   "metadata": {
    "application/vnd.databricks.v1+cell": {
     "cellMetadata": {},
     "inputWidgets": {},
     "nuid": "c1595227-4c06-4b05-83b5-f00bbf6b76a2",
     "showTitle": false,
     "title": ""
    }
   },
   "source": [
    "### Setting up ClarifaiPySpark Objects"
   ]
  },
  {
   "cell_type": "code",
   "execution_count": null,
   "metadata": {
    "application/vnd.databricks.v1+cell": {
     "cellMetadata": {
      "byteLimit": 2048000,
      "rowLimit": 10000
     },
     "inputWidgets": {},
     "nuid": "c9b4e9a7-b4e3-4f17-9ced-ef035c4e7ebf",
     "showTitle": false,
     "title": ""
    }
   },
   "outputs": [],
   "source": [
    "from clarifaipyspark.client import ClarifaiPySpark\n",
    "\n",
    "CLARIFAI_PAT = dbutils.secrets.get(scope=\"clarifai\", key=\"clarifai-pat\")\n",
    "\n",
    "user_id = 'user_id'\n",
    "app_id = 'app_id'\n",
    "dataset_id = 'dataset_id'\n",
    "\n",
    "cspark_obj = ClarifaiPySpark(user_id=user_id, app_id=app_id, pat=CLARIFAI_PAT)\n",
    "dataset_obj = cspark_obj.dataset(dataset_id=dataset_id)"
   ]
  },
  {
   "cell_type": "markdown",
   "metadata": {
    "application/vnd.databricks.v1+cell": {
     "cellMetadata": {},
     "inputWidgets": {},
     "nuid": "d60d5725-e459-487c-a910-91151b775b77",
     "showTitle": false,
     "title": ""
    }
   },
   "source": [
    "### Fetching annotations from App to dataframe"
   ]
  },
  {
   "cell_type": "code",
   "execution_count": null,
   "metadata": {
    "application/vnd.databricks.v1+cell": {
     "cellMetadata": {
      "byteLimit": 2048000,
      "rowLimit": 10000
     },
     "inputWidgets": {},
     "nuid": "bd6471a8-7fc3-41f8-a65e-e597605a7ee0",
     "showTitle": false,
     "title": ""
    }
   },
   "outputs": [
    {
     "data": {
      "text/html": [
       "<pre style=\"white-space:pre;overflow-x:auto;line-height:normal;font-family:Menlo,'DejaVu Sans Mono',consolas,'Courier New',monospace\"><span style=\"color: #7fbfbf; text-decoration-color: #7fbfbf\">2023-11-17 16:11:15 </span><span style=\"color: #000080; text-decoration-color: #000080\">INFO    </span> INFO:py4j.clientserver:Received command c on object id p0          <a href=\"file:///databricks/spark/python/lib/py4j-0.10.9.7-src.zip/py4j/clientserver.py\" target=\"_blank\"><span style=\"color: #7f7f7f; text-decoration-color: #7f7f7f\">clientserver.py</span></a><span style=\"color: #7f7f7f; text-decoration-color: #7f7f7f\">:</span><a href=\"file:///databricks/spark/python/lib/py4j-0.10.9.7-src.zip/py4j/clientserver.py#575\" target=\"_blank\"><span style=\"color: #7f7f7f; text-decoration-color: #7f7f7f\">575</span></a>\n",
       "</pre>\n"
      ],
      "text/plain": [
       "\u001b[2;36m2023-11-17 16:11:15\u001b[0m\u001b[2;36m \u001b[0m\u001b[34mINFO    \u001b[0m INFO:py4j.clientserver:Received command c on object id p0          \u001b]8;id=884448;file:///databricks/spark/python/lib/py4j-0.10.9.7-src.zip/py4j/clientserver.py\u001b\\\u001b[2mclientserver.py\u001b[0m\u001b]8;;\u001b\\\u001b[2m:\u001b[0m\u001b]8;id=122031;file:///databricks/spark/python/lib/py4j-0.10.9.7-src.zip/py4j/clientserver.py#575\u001b\\\u001b[2m575\u001b[0m\u001b]8;;\u001b\\\n"
      ]
     },
     "metadata": {},
     "output_type": "display_data"
    },
    {
     "name": "stdout",
     "output_type": "stream",
     "text": [
      "+--------------------+---------------------+--------------------+----------------------+------------------+----------------+\n",
      "|          annotation|annotation_created_at|       annotation_id|annotation_modified_at|annotation_user_id|        input_id|\n",
      "+--------------------+---------------------+--------------------+----------------------+------------------+----------------+\n",
      "|text {\\n  url: \"h...|  10/30/% 15:04:   %5|f602439fd7b14aa6b...|   10/30/% 15:04:   %5|           mansi_k|XFmGD0xHlNXgGIXF|\n",
      "|concepts {\\n  id:...|  10/30/% 13:02:   %5|    TVFLGTHd8NryFWsY|   10/30/% 13:02:   %5|           mansi_k|Ak1n8DZ1l1RWKATv|\n",
      "|text {\\n  url: \"h...|  10/30/% 12:46:   %5|125b80fb08604e36a...|   10/30/% 12:46:   %5|           mansi_k|Ak1n8DZ1l1RWKATv|\n",
      "|concepts {\\n  id:...|  10/26/% 12:45:   %5|190e2387564c416f8...|   10/26/% 12:45:   %5|           mansi_k|PKaXcNjJ5fJ7wZqR|\n",
      "|concepts {\\n  id:...|  10/26/% 12:45:   %5|22757a0e73fa4cac8...|   10/26/% 12:45:   %5|           mansi_k|IYMxwJq0jjwJguLE|\n",
      "|concepts {\\n  id:...|  10/26/% 12:43:   %5|    NrOaWbbfH6QEVFBW|   10/26/% 12:43:   %5|           mansi_k|             t11|\n",
      "|concepts {\\n  id:...|  10/26/% 12:43:   %5|    8sH9gt43eqx3rBYF|   10/26/% 12:43:   %5|           mansi_k|             t21|\n",
      "|concepts {\\n  id:...|  10/26/% 12:43:   %5|    fc9VQUXheCJaZu28|   10/26/% 12:43:   %5|           mansi_k|             t31|\n",
      "+--------------------+---------------------+--------------------+----------------------+------------------+----------------+\n",
      "\n"
     ]
    }
   ],
   "source": [
    "annot_df = dataset_obj.export_annotations_to_dataframe()\n",
    "annot_df.show()"
   ]
  },
  {
   "cell_type": "markdown",
   "metadata": {
    "application/vnd.databricks.v1+cell": {
     "cellMetadata": {},
     "inputWidgets": {},
     "nuid": "eedd27cc-5de3-414b-bbe4-625622e1eead",
     "showTitle": false,
     "title": ""
    }
   },
   "source": [
    "### Creating a Delta Live Table from annotations dataframe"
   ]
  },
  {
   "cell_type": "code",
   "execution_count": null,
   "metadata": {
    "application/vnd.databricks.v1+cell": {
     "cellMetadata": {
      "byteLimit": 2048000,
      "rowLimit": 10000
     },
     "inputWidgets": {},
     "nuid": "1bea36ce-1efa-47b1-a1de-b015965af108",
     "showTitle": false,
     "title": ""
    }
   },
   "outputs": [
    {
     "data": {
      "text/html": [
       "<pre style=\"white-space:pre;overflow-x:auto;line-height:normal;font-family:Menlo,'DejaVu Sans Mono',consolas,'Courier New',monospace\"><span style=\"color: #7fbfbf; text-decoration-color: #7fbfbf\">2023-11-17 16:11:55 </span><span style=\"color: #000080; text-decoration-color: #000080\">INFO    </span> INFO:py4j.clientserver:Received command c on object id p0          <a href=\"file:///databricks/spark/python/lib/py4j-0.10.9.7-src.zip/py4j/clientserver.py\" target=\"_blank\"><span style=\"color: #7f7f7f; text-decoration-color: #7f7f7f\">clientserver.py</span></a><span style=\"color: #7f7f7f; text-decoration-color: #7f7f7f\">:</span><a href=\"file:///databricks/spark/python/lib/py4j-0.10.9.7-src.zip/py4j/clientserver.py#575\" target=\"_blank\"><span style=\"color: #7f7f7f; text-decoration-color: #7f7f7f\">575</span></a>\n",
       "</pre>\n"
      ],
      "text/plain": [
       "\u001b[2;36m2023-11-17 16:11:55\u001b[0m\u001b[2;36m \u001b[0m\u001b[34mINFO    \u001b[0m INFO:py4j.clientserver:Received command c on object id p0          \u001b]8;id=80314;file:///databricks/spark/python/lib/py4j-0.10.9.7-src.zip/py4j/clientserver.py\u001b\\\u001b[2mclientserver.py\u001b[0m\u001b]8;;\u001b\\\u001b[2m:\u001b[0m\u001b]8;id=963085;file:///databricks/spark/python/lib/py4j-0.10.9.7-src.zip/py4j/clientserver.py#575\u001b\\\u001b[2m575\u001b[0m\u001b]8;;\u001b\\\n"
      ]
     },
     "metadata": {},
     "output_type": "display_data"
    },
    {
     "data": {
      "text/plain": [
       "DataFrame[]"
      ]
     },
     "execution_count": 3,
     "metadata": {},
     "output_type": "execute_result"
    }
   ],
   "source": [
    "\n",
    "from pyspark.sql.functions import *\n",
    "from pyspark.sql import SparkSession\n",
    "\n",
    "spark = SparkSession.builder.appName(\"Delta Live Table Demo\").getOrCreate()\n",
    "spark.conf.set(\"spark.databricks.agent.id\", \"clarifaipyspark\")\n",
    "database_name = \"db_test\"\n",
    "table_name = \"dlt_anns2\"\n",
    "delta_path = \"/mnt/delta_anns2\"\n",
    "annot_df.write.format(\"delta\").mode(\"overwrite\").save(delta_path)\n",
    "\n",
    "# Create a Spark session\n",
    "spark.sql(f\"CREATE DATABASE IF NOT EXISTS {database_name}\")\n",
    "spark.sql(f\"USE {database_name}\")\n",
    "spark.sql(f\"\"\"\n",
    "    CREATE TABLE IF NOT EXISTS {table_name}\n",
    "    USING delta\n",
    "    LOCATION '{delta_path}'\n",
    "\"\"\")"
   ]
  },
  {
   "cell_type": "markdown",
   "metadata": {
    "application/vnd.databricks.v1+cell": {
     "cellMetadata": {},
     "inputWidgets": {},
     "nuid": "1ca911a1-3892-41b5-911e-d45bcd9c2490",
     "showTitle": false,
     "title": ""
    }
   },
   "source": [
    "### Reading the annotations Delta Live table"
   ]
  },
  {
   "cell_type": "code",
   "execution_count": null,
   "metadata": {
    "application/vnd.databricks.v1+cell": {
     "cellMetadata": {
      "byteLimit": 2048000,
      "rowLimit": 10000
     },
     "inputWidgets": {},
     "nuid": "19303b3e-a4b1-4486-a5b8-6ab762bb4ba6",
     "showTitle": false,
     "title": ""
    }
   },
   "outputs": [
    {
     "data": {
      "text/html": [
       "<pre style=\"white-space:pre;overflow-x:auto;line-height:normal;font-family:Menlo,'DejaVu Sans Mono',consolas,'Courier New',monospace\"><span style=\"color: #7fbfbf; text-decoration-color: #7fbfbf\">2023-11-17 16:12:43 </span><span style=\"color: #000080; text-decoration-color: #000080\">INFO    </span> INFO:py4j.clientserver:Received command c on object id p0          <a href=\"file:///databricks/spark/python/lib/py4j-0.10.9.7-src.zip/py4j/clientserver.py\" target=\"_blank\"><span style=\"color: #7f7f7f; text-decoration-color: #7f7f7f\">clientserver.py</span></a><span style=\"color: #7f7f7f; text-decoration-color: #7f7f7f\">:</span><a href=\"file:///databricks/spark/python/lib/py4j-0.10.9.7-src.zip/py4j/clientserver.py#575\" target=\"_blank\"><span style=\"color: #7f7f7f; text-decoration-color: #7f7f7f\">575</span></a>\n",
       "</pre>\n"
      ],
      "text/plain": [
       "\u001b[2;36m2023-11-17 16:12:43\u001b[0m\u001b[2;36m \u001b[0m\u001b[34mINFO    \u001b[0m INFO:py4j.clientserver:Received command c on object id p0          \u001b]8;id=60690;file:///databricks/spark/python/lib/py4j-0.10.9.7-src.zip/py4j/clientserver.py\u001b\\\u001b[2mclientserver.py\u001b[0m\u001b]8;;\u001b\\\u001b[2m:\u001b[0m\u001b]8;id=866565;file:///databricks/spark/python/lib/py4j-0.10.9.7-src.zip/py4j/clientserver.py#575\u001b\\\u001b[2m575\u001b[0m\u001b]8;;\u001b\\\n"
      ]
     },
     "metadata": {},
     "output_type": "display_data"
    },
    {
     "name": "stdout",
     "output_type": "stream",
     "text": [
      "+--------------------+---------------------+--------------------+----------------------+------------------+----------------+\n",
      "|          annotation|annotation_created_at|       annotation_id|annotation_modified_at|annotation_user_id|        input_id|\n",
      "+--------------------+---------------------+--------------------+----------------------+------------------+----------------+\n",
      "|concepts {\\n  id:...|  10/26/% 12:45:   %5|22757a0e73fa4cac8...|   10/26/% 12:45:   %5|           mansi_k|IYMxwJq0jjwJguLE|\n",
      "|text {\\n  url: \"h...|  10/30/% 12:46:   %5|125b80fb08604e36a...|   10/30/% 12:46:   %5|           mansi_k|Ak1n8DZ1l1RWKATv|\n",
      "|text {\\n  url: \"h...|  10/30/% 15:04:   %5|f602439fd7b14aa6b...|   10/30/% 15:04:   %5|           mansi_k|XFmGD0xHlNXgGIXF|\n",
      "|concepts {\\n  id:...|  10/26/% 12:43:   %5|    8sH9gt43eqx3rBYF|   10/26/% 12:43:   %5|           mansi_k|             t21|\n",
      "|concepts {\\n  id:...|  10/26/% 12:45:   %5|190e2387564c416f8...|   10/26/% 12:45:   %5|           mansi_k|PKaXcNjJ5fJ7wZqR|\n",
      "|concepts {\\n  id:...|  10/30/% 13:02:   %5|    TVFLGTHd8NryFWsY|   10/30/% 13:02:   %5|           mansi_k|Ak1n8DZ1l1RWKATv|\n",
      "|concepts {\\n  id:...|  10/26/% 12:43:   %5|    NrOaWbbfH6QEVFBW|   10/26/% 12:43:   %5|           mansi_k|             t11|\n",
      "|concepts {\\n  id:...|  10/26/% 12:43:   %5|    fc9VQUXheCJaZu28|   10/26/% 12:43:   %5|           mansi_k|             t31|\n",
      "+--------------------+---------------------+--------------------+----------------------+------------------+----------------+\n",
      "\n"
     ]
    }
   ],
   "source": [
    "df_delta = spark.read.format(\"delta\").load(delta_path)\n",
    "df_delta.show()"
   ]
  },
  {
   "cell_type": "markdown",
   "metadata": {
    "application/vnd.databricks.v1+cell": {
     "cellMetadata": {},
     "inputWidgets": {},
     "nuid": "d68564bb-dd10-4323-806c-7d58e566e5b5",
     "showTitle": false,
     "title": ""
    }
   },
   "source": [
    "### Add new inputs and annotations to the App"
   ]
  },
  {
   "cell_type": "code",
   "execution_count": null,
   "metadata": {
    "application/vnd.databricks.v1+cell": {
     "cellMetadata": {},
     "inputWidgets": {},
     "nuid": "ea9cd398-37c8-4d94-ae88-aacf1cbd04fe",
     "showTitle": false,
     "title": ""
    }
   },
   "outputs": [],
   "source": [
    "### Done in the App directly"
   ]
  },
  {
   "cell_type": "markdown",
   "metadata": {
    "application/vnd.databricks.v1+cell": {
     "cellMetadata": {},
     "inputWidgets": {},
     "nuid": "9a297e6f-e56e-4791-8975-caa987667dac",
     "showTitle": false,
     "title": ""
    }
   },
   "source": [
    "### Fetch new annotations from app to dataframe"
   ]
  },
  {
   "cell_type": "code",
   "execution_count": null,
   "metadata": {
    "application/vnd.databricks.v1+cell": {
     "cellMetadata": {
      "byteLimit": 2048000,
      "rowLimit": 10000
     },
     "inputWidgets": {},
     "nuid": "e4d29988-3dfd-4762-9ff6-98e16a812a4b",
     "showTitle": false,
     "title": ""
    }
   },
   "outputs": [
    {
     "data": {
      "text/html": [
       "<pre style=\"white-space:pre;overflow-x:auto;line-height:normal;font-family:Menlo,'DejaVu Sans Mono',consolas,'Courier New',monospace\"><span style=\"color: #7fbfbf; text-decoration-color: #7fbfbf\">2023-11-17 16:16:29 </span><span style=\"color: #000080; text-decoration-color: #000080\">INFO    </span> INFO:py4j.clientserver:Received command c on object id p0          <a href=\"file:///databricks/spark/python/lib/py4j-0.10.9.7-src.zip/py4j/clientserver.py\" target=\"_blank\"><span style=\"color: #7f7f7f; text-decoration-color: #7f7f7f\">clientserver.py</span></a><span style=\"color: #7f7f7f; text-decoration-color: #7f7f7f\">:</span><a href=\"file:///databricks/spark/python/lib/py4j-0.10.9.7-src.zip/py4j/clientserver.py#575\" target=\"_blank\"><span style=\"color: #7f7f7f; text-decoration-color: #7f7f7f\">575</span></a>\n",
       "</pre>\n"
      ],
      "text/plain": [
       "\u001b[2;36m2023-11-17 16:16:29\u001b[0m\u001b[2;36m \u001b[0m\u001b[34mINFO    \u001b[0m INFO:py4j.clientserver:Received command c on object id p0          \u001b]8;id=802427;file:///databricks/spark/python/lib/py4j-0.10.9.7-src.zip/py4j/clientserver.py\u001b\\\u001b[2mclientserver.py\u001b[0m\u001b]8;;\u001b\\\u001b[2m:\u001b[0m\u001b]8;id=726084;file:///databricks/spark/python/lib/py4j-0.10.9.7-src.zip/py4j/clientserver.py#575\u001b\\\u001b[2m575\u001b[0m\u001b]8;;\u001b\\\n"
      ]
     },
     "metadata": {},
     "output_type": "display_data"
    },
    {
     "name": "stdout",
     "output_type": "stream",
     "text": [
      "+--------------------+---------------------+--------------------+----------------------+------------------+--------------------+\n",
      "|          annotation|annotation_created_at|       annotation_id|annotation_modified_at|annotation_user_id|            input_id|\n",
      "+--------------------+---------------------+--------------------+----------------------+------------------+--------------------+\n",
      "|concepts {\\n  id:...|  11/17/% 13:51:   %5|d0bb5fea2d8c4f4e8...|   11/17/% 13:51:   %5|           mansi_k|fe3f42364969fe544...|\n",
      "|concepts {\\n  id:...|  11/17/% 13:43:   %5|1e6224252c324b04b...|   11/17/% 13:43:   %5|           mansi_k|5a1d54db53403352f...|\n",
      "|text {\\n  url: \"h...|  10/30/% 15:04:   %5|f602439fd7b14aa6b...|   10/30/% 15:04:   %5|           mansi_k|    XFmGD0xHlNXgGIXF|\n",
      "|concepts {\\n  id:...|  10/30/% 13:02:   %5|    TVFLGTHd8NryFWsY|   10/30/% 13:02:   %5|           mansi_k|    Ak1n8DZ1l1RWKATv|\n",
      "|text {\\n  url: \"h...|  10/30/% 12:46:   %5|125b80fb08604e36a...|   10/30/% 12:46:   %5|           mansi_k|    Ak1n8DZ1l1RWKATv|\n",
      "|concepts {\\n  id:...|  10/26/% 12:45:   %5|190e2387564c416f8...|   10/26/% 12:45:   %5|           mansi_k|    PKaXcNjJ5fJ7wZqR|\n",
      "|concepts {\\n  id:...|  10/26/% 12:45:   %5|22757a0e73fa4cac8...|   10/26/% 12:45:   %5|           mansi_k|    IYMxwJq0jjwJguLE|\n",
      "|concepts {\\n  id:...|  10/26/% 12:43:   %5|    NrOaWbbfH6QEVFBW|   10/26/% 12:43:   %5|           mansi_k|                 t11|\n",
      "|concepts {\\n  id:...|  10/26/% 12:43:   %5|    8sH9gt43eqx3rBYF|   10/26/% 12:43:   %5|           mansi_k|                 t21|\n",
      "|concepts {\\n  id:...|  10/26/% 12:43:   %5|    fc9VQUXheCJaZu28|   10/26/% 12:43:   %5|           mansi_k|                 t31|\n",
      "+--------------------+---------------------+--------------------+----------------------+------------------+--------------------+\n",
      "\n"
     ]
    }
   ],
   "source": [
    "annot_df = dataset_obj.export_annotations_to_dataframe()\n",
    "annot_df.show()"
   ]
  },
  {
   "cell_type": "markdown",
   "metadata": {
    "application/vnd.databricks.v1+cell": {
     "cellMetadata": {},
     "inputWidgets": {},
     "nuid": "db6faff9-e239-4fbe-bfc8-e8861c10b7dc",
     "showTitle": false,
     "title": ""
    }
   },
   "source": [
    "### Upsert new annotations into the Delta live table"
   ]
  },
  {
   "cell_type": "code",
   "execution_count": null,
   "metadata": {
    "application/vnd.databricks.v1+cell": {
     "cellMetadata": {
      "byteLimit": 2048000,
      "rowLimit": 10000
     },
     "inputWidgets": {},
     "nuid": "e661044c-8514-4987-889a-36c2173aedba",
     "showTitle": false,
     "title": ""
    }
   },
   "outputs": [
    {
     "data": {
      "text/html": [
       "<pre style=\"white-space:pre;overflow-x:auto;line-height:normal;font-family:Menlo,'DejaVu Sans Mono',consolas,'Courier New',monospace\"><span style=\"color: #7fbfbf; text-decoration-color: #7fbfbf\">2023-11-17 16:17:18 </span><span style=\"color: #000080; text-decoration-color: #000080\">INFO    </span> INFO:py4j.clientserver:Received command c on object id p0          <a href=\"file:///databricks/spark/python/lib/py4j-0.10.9.7-src.zip/py4j/clientserver.py\" target=\"_blank\"><span style=\"color: #7f7f7f; text-decoration-color: #7f7f7f\">clientserver.py</span></a><span style=\"color: #7f7f7f; text-decoration-color: #7f7f7f\">:</span><a href=\"file:///databricks/spark/python/lib/py4j-0.10.9.7-src.zip/py4j/clientserver.py#575\" target=\"_blank\"><span style=\"color: #7f7f7f; text-decoration-color: #7f7f7f\">575</span></a>\n",
       "</pre>\n"
      ],
      "text/plain": [
       "\u001b[2;36m2023-11-17 16:17:18\u001b[0m\u001b[2;36m \u001b[0m\u001b[34mINFO    \u001b[0m INFO:py4j.clientserver:Received command c on object id p0          \u001b]8;id=806052;file:///databricks/spark/python/lib/py4j-0.10.9.7-src.zip/py4j/clientserver.py\u001b\\\u001b[2mclientserver.py\u001b[0m\u001b]8;;\u001b\\\u001b[2m:\u001b[0m\u001b]8;id=260277;file:///databricks/spark/python/lib/py4j-0.10.9.7-src.zip/py4j/clientserver.py#575\u001b\\\u001b[2m575\u001b[0m\u001b]8;;\u001b\\\n"
      ]
     },
     "metadata": {},
     "output_type": "display_data"
    }
   ],
   "source": [
    "from delta.tables import DeltaTable\n",
    "# Upsert the updated rows into the Delta table\n",
    "delta_table = DeltaTable.forPath(spark, delta_path)\n",
    "delta_table.alias(\"t\").merge(\n",
    "    annot_df.alias(\"s\"),\n",
    "    \"s.annotation_id = t.annotation_id\"\n",
    ").whenMatchedUpdateAll() \\\n",
    " .whenNotMatchedInsertAll() \\\n",
    " .execute()"
   ]
  },
  {
   "cell_type": "markdown",
   "metadata": {
    "application/vnd.databricks.v1+cell": {
     "cellMetadata": {},
     "inputWidgets": {},
     "nuid": "5737b639-d30d-42e1-a8b3-1edfd9c75e47",
     "showTitle": false,
     "title": ""
    }
   },
   "source": [
    "### Display annotations Delta live table"
   ]
  },
  {
   "cell_type": "code",
   "execution_count": null,
   "metadata": {
    "application/vnd.databricks.v1+cell": {
     "cellMetadata": {
      "byteLimit": 2048000,
      "rowLimit": 10000
     },
     "inputWidgets": {},
     "nuid": "9616e835-4bf4-420c-95ef-1cf756c5b963",
     "showTitle": false,
     "title": ""
    }
   },
   "outputs": [
    {
     "data": {
      "text/html": [
       "<pre style=\"white-space:pre;overflow-x:auto;line-height:normal;font-family:Menlo,'DejaVu Sans Mono',consolas,'Courier New',monospace\"><span style=\"color: #7fbfbf; text-decoration-color: #7fbfbf\">2023-11-17 16:17:44 </span><span style=\"color: #000080; text-decoration-color: #000080\">INFO    </span> INFO:py4j.clientserver:Received command c on object id p0          <a href=\"file:///databricks/spark/python/lib/py4j-0.10.9.7-src.zip/py4j/clientserver.py\" target=\"_blank\"><span style=\"color: #7f7f7f; text-decoration-color: #7f7f7f\">clientserver.py</span></a><span style=\"color: #7f7f7f; text-decoration-color: #7f7f7f\">:</span><a href=\"file:///databricks/spark/python/lib/py4j-0.10.9.7-src.zip/py4j/clientserver.py#575\" target=\"_blank\"><span style=\"color: #7f7f7f; text-decoration-color: #7f7f7f\">575</span></a>\n",
       "</pre>\n"
      ],
      "text/plain": [
       "\u001b[2;36m2023-11-17 16:17:44\u001b[0m\u001b[2;36m \u001b[0m\u001b[34mINFO    \u001b[0m INFO:py4j.clientserver:Received command c on object id p0          \u001b]8;id=605835;file:///databricks/spark/python/lib/py4j-0.10.9.7-src.zip/py4j/clientserver.py\u001b\\\u001b[2mclientserver.py\u001b[0m\u001b]8;;\u001b\\\u001b[2m:\u001b[0m\u001b]8;id=113786;file:///databricks/spark/python/lib/py4j-0.10.9.7-src.zip/py4j/clientserver.py#575\u001b\\\u001b[2m575\u001b[0m\u001b]8;;\u001b\\\n"
      ]
     },
     "metadata": {},
     "output_type": "display_data"
    },
    {
     "name": "stdout",
     "output_type": "stream",
     "text": [
      "+--------------------+---------------------+--------------------+----------------------+------------------+--------------------+\n",
      "|          annotation|annotation_created_at|       annotation_id|annotation_modified_at|annotation_user_id|            input_id|\n",
      "+--------------------+---------------------+--------------------+----------------------+------------------+--------------------+\n",
      "|concepts {\\n  id:...|  11/17/% 13:43:   %5|1e6224252c324b04b...|   11/17/% 13:43:   %5|           mansi_k|5a1d54db53403352f...|\n",
      "|concepts {\\n  id:...|  10/26/% 12:45:   %5|190e2387564c416f8...|   10/26/% 12:45:   %5|           mansi_k|    PKaXcNjJ5fJ7wZqR|\n",
      "|text {\\n  url: \"h...|  10/30/% 15:04:   %5|f602439fd7b14aa6b...|   10/30/% 15:04:   %5|           mansi_k|    XFmGD0xHlNXgGIXF|\n",
      "|concepts {\\n  id:...|  10/26/% 12:43:   %5|    NrOaWbbfH6QEVFBW|   10/26/% 12:43:   %5|           mansi_k|                 t11|\n",
      "|concepts {\\n  id:...|  11/17/% 13:51:   %5|d0bb5fea2d8c4f4e8...|   11/17/% 13:51:   %5|           mansi_k|fe3f42364969fe544...|\n",
      "|concepts {\\n  id:...|  10/26/% 12:45:   %5|22757a0e73fa4cac8...|   10/26/% 12:45:   %5|           mansi_k|    IYMxwJq0jjwJguLE|\n",
      "|concepts {\\n  id:...|  10/30/% 13:02:   %5|    TVFLGTHd8NryFWsY|   10/30/% 13:02:   %5|           mansi_k|    Ak1n8DZ1l1RWKATv|\n",
      "|text {\\n  url: \"h...|  10/30/% 12:46:   %5|125b80fb08604e36a...|   10/30/% 12:46:   %5|           mansi_k|    Ak1n8DZ1l1RWKATv|\n",
      "|concepts {\\n  id:...|  10/26/% 12:43:   %5|    8sH9gt43eqx3rBYF|   10/26/% 12:43:   %5|           mansi_k|                 t21|\n",
      "|concepts {\\n  id:...|  10/26/% 12:43:   %5|    fc9VQUXheCJaZu28|   10/26/% 12:43:   %5|           mansi_k|                 t31|\n",
      "+--------------------+---------------------+--------------------+----------------------+------------------+--------------------+\n",
      "\n"
     ]
    }
   ],
   "source": [
    "df_delta = spark.read.format(\"delta\").load(delta_path)\n",
    "df_delta.show()"
   ]
  }
 ],
 "metadata": {
  "application/vnd.databricks.v1+notebook": {
   "dashboards": [],
   "language": "python",
   "notebookMetadata": {
    "pythonIndentUnit": 4
   },
   "notebookName": "delta_live_table_upsert_demo",
   "widgets": {}
  },
  "language_info": {
   "name": "python"
  }
 },
 "nbformat": 4,
 "nbformat_minor": 0
}
