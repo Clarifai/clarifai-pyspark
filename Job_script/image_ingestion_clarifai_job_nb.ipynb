{
 "cells": [
  {
   "cell_type": "markdown",
   "metadata": {},
   "source": [
    "## Image ingestion Job script"
   ]
  },
  {
   "cell_type": "code",
   "execution_count": null,
   "metadata": {
    "application/vnd.databricks.v1+cell": {
     "cellMetadata": {},
     "inputWidgets": {},
     "nuid": "779a8fe2-86d0-4bdc-b001-53b802d57f75",
     "showTitle": false,
     "title": ""
    }
   },
   "outputs": [],
   "source": [
    "import os\n",
    "import pandas as pd\n",
    "from pyspark.sql import SparkSession\n",
    "from clarifaipyspark.client import ClarifaiPySpark\n",
    "\n",
    "\n",
    "def ingest_image_dataframe(folder_path, user_id, app_id, dataset_id):\n",
    "    \n",
    "    cspark_obj = ClarifaiPySpark(user_id=user_id, app_id=app_id, pat=dbutils.secrets.get(\"clarifai\",\"CLARIFAI_PAT\"))\n",
    "    dataset_obj = cspark_obj.dataset(dataset_id=dataset_id)\n",
    "    try:\n",
    "      dataset_obj.upload_dataset_from_folder(folder_path,input_type='image',labels= False)\n",
    "    \n",
    "    except Exception as e:\n",
    "        raise RuntimeError(f\"Error uploading images: {e}\")\n",
    "\n",
    "\n",
    "file_path=dbutils.widgets.get(\"file_path\")\n",
    "app_id=dbutils.widgets.get(\"app_id\")\n",
    "user_id=dbutils.widgets.get(\"user_id\")\n",
    "dataset_id=dbutils.widgets.get(\"dataset_id\")\n",
    "image_df =ingest_image_dataframe(file_path,user_id,app_id,dataset_id)\n"
   ]
  }
 ],
 "metadata": {
  "application/vnd.databricks.v1+notebook": {
   "dashboards": [],
   "language": "python",
   "notebookMetadata": {
    "pythonIndentUnit": 4
   },
   "notebookName": "image_ingestion_clarifai_nb",
   "widgets": {}
  },
  "language_info": {
   "name": "python"
  }
 },
 "nbformat": 4,
 "nbformat_minor": 0
}
